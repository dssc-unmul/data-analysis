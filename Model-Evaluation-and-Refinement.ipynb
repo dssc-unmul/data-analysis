{
 "cells": [
  {
   "cell_type": "markdown",
   "metadata": {
    "id": "rLaE0GYbbTAn"
   },
   "source": [
    "<div class=\"alert alert-block alert-info\" style=\"margin-top: 20px\">\n",
    "    <a href=\"https://cocl.us/skills_network_DA0101EN_top\">\n",
    "         <img src=\"https://s3-api.us-geo.objectstorage.softlayer.net/cf-courses-data/CognitiveClass/DA0101EN/Images/TopAd.png\" width=\"750\" align=\"center\">\n",
    "    </a>\n",
    "</div>\n"
   ]
  },
  {
   "cell_type": "markdown",
   "metadata": {
    "id": "M7Utwov6bTAu"
   },
   "source": [
    "<a href=\"https://www.bigdatauniversity.com\"><img src=\"https://s3-api.us-geo.objectstorage.softlayer.net/cf-courses-data/CognitiveClass/DA0101EN/Images/CCLog.png\" width=300, align=\"center\"></a>\n",
    "\n",
    "<h1 align=center><font size=5>Data Analysis with Python</font></h1>"
   ]
  },
  {
   "cell_type": "markdown",
   "metadata": {
    "id": "6cwU2ZjybTAw"
   },
   "source": [
    "<h1>Module 5: Model Evaluation and Refinement</h1>\n",
    "\n",
    "We have built models and made predictions of vehicle prices. Now we will determine how accurate these predictions are. "
   ]
  },
  {
   "cell_type": "markdown",
   "metadata": {
    "id": "dHL_jJfybTAw"
   },
   "source": [
    "<h1>Table of content</h1>\n",
    "<ul>\n",
    "    <li><a href=\"#ref1\">Model Evaluation </a></li>\n",
    "    <li><a href=\"#ref2\">Over-fitting, Under-fitting and Model Selection </a></li>\n",
    "    <li><a href=\"#ref3\">Ridge Regression </a></li>\n",
    "    <li><a href=\"#ref4\">Grid Search</a></li>\n",
    "</ul>"
   ]
  },
  {
   "cell_type": "markdown",
   "metadata": {
    "id": "jcuc-1UtbTAx"
   },
   "source": [
    "This dataset was hosted on IBM Cloud object click <a href=\"https://cocl.us/da0101en_object_storage_skills_network\">HERE</a> for free storage."
   ]
  },
  {
   "cell_type": "code",
   "execution_count": 1,
   "metadata": {
    "collapsed": true,
    "executionInfo": {
     "elapsed": 1305,
     "status": "ok",
     "timestamp": 1623571929643,
     "user": {
      "displayName": "Vauwez Sam El Fareez",
      "photoUrl": "https://lh3.googleusercontent.com/a-/AOh14GiiszMbUnUPzlsIyPzYs7zFnTeAylxGPSGynOpI=s64",
      "userId": "03245812126824588324"
     },
     "user_tz": -480
    },
    "id": "DmGM76B2bTAy"
   },
   "outputs": [],
   "source": [
    "import pandas as pd\n",
    "import numpy as np\n",
    "\n",
    "# Import clean data \n",
    "path = 'https://s3-api.us-geo.objectstorage.softlayer.net/cf-courses-data/CognitiveClass/DA0101EN/module_5_auto.csv'\n",
    "df = pd.read_csv(path)"
   ]
  },
  {
   "cell_type": "code",
   "execution_count": 2,
   "metadata": {
    "executionInfo": {
     "elapsed": 8,
     "status": "ok",
     "timestamp": 1623571929645,
     "user": {
      "displayName": "Vauwez Sam El Fareez",
      "photoUrl": "https://lh3.googleusercontent.com/a-/AOh14GiiszMbUnUPzlsIyPzYs7zFnTeAylxGPSGynOpI=s64",
      "userId": "03245812126824588324"
     },
     "user_tz": -480
    },
    "id": "oT7NgB1dbTA0"
   },
   "outputs": [],
   "source": [
    "df.to_csv('module_5_auto.csv')"
   ]
  },
  {
   "cell_type": "markdown",
   "metadata": {
    "id": "XdtSiVagbTA0"
   },
   "source": [
    " First lets only use numeric data "
   ]
  },
  {
   "cell_type": "code",
   "execution_count": 3,
   "metadata": {
    "colab": {
     "base_uri": "https://localhost:8080/",
     "height": 234
    },
    "executionInfo": {
     "elapsed": 395,
     "status": "ok",
     "timestamp": 1623572013332,
     "user": {
      "displayName": "Vauwez Sam El Fareez",
      "photoUrl": "https://lh3.googleusercontent.com/a-/AOh14GiiszMbUnUPzlsIyPzYs7zFnTeAylxGPSGynOpI=s64",
      "userId": "03245812126824588324"
     },
     "user_tz": -480
    },
    "id": "v2TPpdKdbTA1",
    "outputId": "00cd9c21-2ba6-4120-d3c7-20ae58512b0e",
    "scrolled": false
   },
   "outputs": [
    {
     "data": {
      "text/html": [
       "<div>\n",
       "<style scoped>\n",
       "    .dataframe tbody tr th:only-of-type {\n",
       "        vertical-align: middle;\n",
       "    }\n",
       "\n",
       "    .dataframe tbody tr th {\n",
       "        vertical-align: top;\n",
       "    }\n",
       "\n",
       "    .dataframe thead th {\n",
       "        text-align: right;\n",
       "    }\n",
       "</style>\n",
       "<table border=\"1\" class=\"dataframe\">\n",
       "  <thead>\n",
       "    <tr style=\"text-align: right;\">\n",
       "      <th></th>\n",
       "      <th>Unnamed: 0</th>\n",
       "      <th>Unnamed: 0.1</th>\n",
       "      <th>symboling</th>\n",
       "      <th>normalized-losses</th>\n",
       "      <th>wheel-base</th>\n",
       "      <th>length</th>\n",
       "      <th>width</th>\n",
       "      <th>height</th>\n",
       "      <th>curb-weight</th>\n",
       "      <th>engine-size</th>\n",
       "      <th>bore</th>\n",
       "      <th>stroke</th>\n",
       "      <th>compression-ratio</th>\n",
       "      <th>horsepower</th>\n",
       "      <th>peak-rpm</th>\n",
       "      <th>city-mpg</th>\n",
       "      <th>highway-mpg</th>\n",
       "      <th>price</th>\n",
       "      <th>city-L/100km</th>\n",
       "      <th>diesel</th>\n",
       "      <th>gas</th>\n",
       "    </tr>\n",
       "  </thead>\n",
       "  <tbody>\n",
       "    <tr>\n",
       "      <th>0</th>\n",
       "      <td>0</td>\n",
       "      <td>0</td>\n",
       "      <td>3</td>\n",
       "      <td>122</td>\n",
       "      <td>88.6</td>\n",
       "      <td>0.811148</td>\n",
       "      <td>0.890278</td>\n",
       "      <td>48.8</td>\n",
       "      <td>2548</td>\n",
       "      <td>130</td>\n",
       "      <td>3.47</td>\n",
       "      <td>2.68</td>\n",
       "      <td>9.0</td>\n",
       "      <td>111.0</td>\n",
       "      <td>5000.0</td>\n",
       "      <td>21</td>\n",
       "      <td>27</td>\n",
       "      <td>13495.0</td>\n",
       "      <td>11.190476</td>\n",
       "      <td>0</td>\n",
       "      <td>1</td>\n",
       "    </tr>\n",
       "    <tr>\n",
       "      <th>1</th>\n",
       "      <td>1</td>\n",
       "      <td>1</td>\n",
       "      <td>3</td>\n",
       "      <td>122</td>\n",
       "      <td>88.6</td>\n",
       "      <td>0.811148</td>\n",
       "      <td>0.890278</td>\n",
       "      <td>48.8</td>\n",
       "      <td>2548</td>\n",
       "      <td>130</td>\n",
       "      <td>3.47</td>\n",
       "      <td>2.68</td>\n",
       "      <td>9.0</td>\n",
       "      <td>111.0</td>\n",
       "      <td>5000.0</td>\n",
       "      <td>21</td>\n",
       "      <td>27</td>\n",
       "      <td>16500.0</td>\n",
       "      <td>11.190476</td>\n",
       "      <td>0</td>\n",
       "      <td>1</td>\n",
       "    </tr>\n",
       "    <tr>\n",
       "      <th>2</th>\n",
       "      <td>2</td>\n",
       "      <td>2</td>\n",
       "      <td>1</td>\n",
       "      <td>122</td>\n",
       "      <td>94.5</td>\n",
       "      <td>0.822681</td>\n",
       "      <td>0.909722</td>\n",
       "      <td>52.4</td>\n",
       "      <td>2823</td>\n",
       "      <td>152</td>\n",
       "      <td>2.68</td>\n",
       "      <td>3.47</td>\n",
       "      <td>9.0</td>\n",
       "      <td>154.0</td>\n",
       "      <td>5000.0</td>\n",
       "      <td>19</td>\n",
       "      <td>26</td>\n",
       "      <td>16500.0</td>\n",
       "      <td>12.368421</td>\n",
       "      <td>0</td>\n",
       "      <td>1</td>\n",
       "    </tr>\n",
       "    <tr>\n",
       "      <th>3</th>\n",
       "      <td>3</td>\n",
       "      <td>3</td>\n",
       "      <td>2</td>\n",
       "      <td>164</td>\n",
       "      <td>99.8</td>\n",
       "      <td>0.848630</td>\n",
       "      <td>0.919444</td>\n",
       "      <td>54.3</td>\n",
       "      <td>2337</td>\n",
       "      <td>109</td>\n",
       "      <td>3.19</td>\n",
       "      <td>3.40</td>\n",
       "      <td>10.0</td>\n",
       "      <td>102.0</td>\n",
       "      <td>5500.0</td>\n",
       "      <td>24</td>\n",
       "      <td>30</td>\n",
       "      <td>13950.0</td>\n",
       "      <td>9.791667</td>\n",
       "      <td>0</td>\n",
       "      <td>1</td>\n",
       "    </tr>\n",
       "    <tr>\n",
       "      <th>4</th>\n",
       "      <td>4</td>\n",
       "      <td>4</td>\n",
       "      <td>2</td>\n",
       "      <td>164</td>\n",
       "      <td>99.4</td>\n",
       "      <td>0.848630</td>\n",
       "      <td>0.922222</td>\n",
       "      <td>54.3</td>\n",
       "      <td>2824</td>\n",
       "      <td>136</td>\n",
       "      <td>3.19</td>\n",
       "      <td>3.40</td>\n",
       "      <td>8.0</td>\n",
       "      <td>115.0</td>\n",
       "      <td>5500.0</td>\n",
       "      <td>18</td>\n",
       "      <td>22</td>\n",
       "      <td>17450.0</td>\n",
       "      <td>13.055556</td>\n",
       "      <td>0</td>\n",
       "      <td>1</td>\n",
       "    </tr>\n",
       "  </tbody>\n",
       "</table>\n",
       "</div>"
      ],
      "text/plain": [
       "   Unnamed: 0  Unnamed: 0.1  symboling  ...  city-L/100km  diesel  gas\n",
       "0           0             0          3  ...     11.190476       0    1\n",
       "1           1             1          3  ...     11.190476       0    1\n",
       "2           2             2          1  ...     12.368421       0    1\n",
       "3           3             3          2  ...      9.791667       0    1\n",
       "4           4             4          2  ...     13.055556       0    1\n",
       "\n",
       "[5 rows x 21 columns]"
      ]
     },
     "execution_count": 3,
     "metadata": {
      "tags": []
     },
     "output_type": "execute_result"
    }
   ],
   "source": [
    "df=df._get_numeric_data()\n",
    "df.head()"
   ]
  },
  {
   "cell_type": "markdown",
   "metadata": {
    "id": "sbkwAi0VbTA2"
   },
   "source": [
    " Libraries for plotting "
   ]
  },
  {
   "cell_type": "code",
   "execution_count": 4,
   "metadata": {
    "executionInfo": {
     "elapsed": 4284,
     "status": "ok",
     "timestamp": 1623572032466,
     "user": {
      "displayName": "Vauwez Sam El Fareez",
      "photoUrl": "https://lh3.googleusercontent.com/a-/AOh14GiiszMbUnUPzlsIyPzYs7zFnTeAylxGPSGynOpI=s64",
      "userId": "03245812126824588324"
     },
     "user_tz": -480
    },
    "id": "qy20jsW9bTA2"
   },
   "outputs": [],
   "source": [
    "%%capture\n",
    "! pip install ipywidgets"
   ]
  },
  {
   "cell_type": "code",
   "execution_count": 5,
   "metadata": {
    "colab": {
     "base_uri": "https://localhost:8080/"
    },
    "executionInfo": {
     "elapsed": 311,
     "status": "ok",
     "timestamp": 1623572068731,
     "user": {
      "displayName": "Vauwez Sam El Fareez",
      "photoUrl": "https://lh3.googleusercontent.com/a-/AOh14GiiszMbUnUPzlsIyPzYs7zFnTeAylxGPSGynOpI=s64",
      "userId": "03245812126824588324"
     },
     "user_tz": -480
    },
    "id": "PkEwDrU1bTA3",
    "outputId": "f60de5f9-cd73-4b9c-c4ee-c36772349ae1"
   },
   "outputs": [
    {
     "name": "stderr",
     "output_type": "stream",
     "text": [
      "/usr/local/lib/python3.7/dist-packages/IPython/html.py:14: ShimWarning: The `IPython.html` package has been deprecated since IPython 4.0. You should import from `notebook` instead. `IPython.html.widgets` has moved to `ipywidgets`.\n",
      "  \"`IPython.html.widgets` has moved to `ipywidgets`.\", ShimWarning)\n"
     ]
    }
   ],
   "source": [
    "from IPython.display import display\n",
    "from IPython.html import widgets \n",
    "from IPython.display import display\n",
    "from ipywidgets import interact, interactive, fixed, interact_manual"
   ]
  },
  {
   "cell_type": "markdown",
   "metadata": {
    "id": "D7x830D_bTA3"
   },
   "source": [
    "<h2>Functions for plotting</h2>"
   ]
  },
  {
   "cell_type": "code",
   "execution_count": 6,
   "metadata": {
    "executionInfo": {
     "elapsed": 328,
     "status": "ok",
     "timestamp": 1623572090938,
     "user": {
      "displayName": "Vauwez Sam El Fareez",
      "photoUrl": "https://lh3.googleusercontent.com/a-/AOh14GiiszMbUnUPzlsIyPzYs7zFnTeAylxGPSGynOpI=s64",
      "userId": "03245812126824588324"
     },
     "user_tz": -480
    },
    "id": "zxDVC8TUbTA3"
   },
   "outputs": [],
   "source": [
    "def DistributionPlot(RedFunction, BlueFunction, RedName, BlueName, Title):\n",
    "    width = 12\n",
    "    height = 10\n",
    "    plt.figure(figsize=(width, height))\n",
    "\n",
    "    ax1 = sns.distplot(RedFunction, hist=False, color=\"r\", label=RedName)\n",
    "    ax2 = sns.distplot(BlueFunction, hist=False, color=\"b\", label=BlueName, ax=ax1)\n",
    "\n",
    "    plt.title(Title)\n",
    "    plt.xlabel('Price (in dollars)')\n",
    "    plt.ylabel('Proportion of Cars')\n",
    "\n",
    "    plt.show()\n",
    "    plt.close()"
   ]
  },
  {
   "cell_type": "code",
   "execution_count": 7,
   "metadata": {
    "executionInfo": {
     "elapsed": 341,
     "status": "ok",
     "timestamp": 1623572101813,
     "user": {
      "displayName": "Vauwez Sam El Fareez",
      "photoUrl": "https://lh3.googleusercontent.com/a-/AOh14GiiszMbUnUPzlsIyPzYs7zFnTeAylxGPSGynOpI=s64",
      "userId": "03245812126824588324"
     },
     "user_tz": -480
    },
    "id": "IjiV_s7abTA4"
   },
   "outputs": [],
   "source": [
    "def PollyPlot(xtrain, xtest, y_train, y_test, lr,poly_transform):\n",
    "    width = 12\n",
    "    height = 10\n",
    "    plt.figure(figsize=(width, height))\n",
    "    \n",
    "    \n",
    "    #training data \n",
    "    #testing data \n",
    "    # lr:  linear regression object \n",
    "    #poly_transform:  polynomial transformation object \n",
    " \n",
    "    xmax=max([xtrain.values.max(), xtest.values.max()])\n",
    "\n",
    "    xmin=min([xtrain.values.min(), xtest.values.min()])\n",
    "\n",
    "    x=np.arange(xmin, xmax, 0.1)\n",
    "\n",
    "\n",
    "    plt.plot(xtrain, y_train, 'ro', label='Training Data')\n",
    "    plt.plot(xtest, y_test, 'go', label='Test Data')\n",
    "    plt.plot(x, lr.predict(poly_transform.fit_transform(x.reshape(-1, 1))), label='Predicted Function')\n",
    "    plt.ylim([-10000, 60000])\n",
    "    plt.ylabel('Price')\n",
    "    plt.legend()"
   ]
  },
  {
   "cell_type": "markdown",
   "metadata": {
    "id": "cNRGqkgGbTA5"
   },
   "source": [
    "<h1 id=\"ref1\">Part 1: Training and Testing</h1>\n",
    "\n",
    "<p>An important step in testing your model is to split your data into training and testing data. We will place the target data <b>price</b> in a separate dataframe <b>y</b>:</p>"
   ]
  },
  {
   "cell_type": "code",
   "execution_count": 8,
   "metadata": {
    "executionInfo": {
     "elapsed": 334,
     "status": "ok",
     "timestamp": 1623572106568,
     "user": {
      "displayName": "Vauwez Sam El Fareez",
      "photoUrl": "https://lh3.googleusercontent.com/a-/AOh14GiiszMbUnUPzlsIyPzYs7zFnTeAylxGPSGynOpI=s64",
      "userId": "03245812126824588324"
     },
     "user_tz": -480
    },
    "id": "UjCIyokmbTA5"
   },
   "outputs": [],
   "source": [
    "y_data = df['price']"
   ]
  },
  {
   "cell_type": "markdown",
   "metadata": {
    "id": "-eWRlOu4bTA5"
   },
   "source": [
    "drop price data in x data"
   ]
  },
  {
   "cell_type": "code",
   "execution_count": 9,
   "metadata": {
    "collapsed": true,
    "executionInfo": {
     "elapsed": 432,
     "status": "ok",
     "timestamp": 1623572125589,
     "user": {
      "displayName": "Vauwez Sam El Fareez",
      "photoUrl": "https://lh3.googleusercontent.com/a-/AOh14GiiszMbUnUPzlsIyPzYs7zFnTeAylxGPSGynOpI=s64",
      "userId": "03245812126824588324"
     },
     "user_tz": -480
    },
    "id": "i-FczgAIbTA6"
   },
   "outputs": [],
   "source": [
    "x_data=df.drop('price',axis=1)"
   ]
  },
  {
   "cell_type": "markdown",
   "metadata": {
    "id": "_eaa3m43bTA6"
   },
   "source": [
    "Now we randomly split our data into training and testing data  using the function <b>train_test_split</b>. "
   ]
  },
  {
   "cell_type": "code",
   "execution_count": 10,
   "metadata": {
    "colab": {
     "base_uri": "https://localhost:8080/"
    },
    "executionInfo": {
     "elapsed": 1219,
     "status": "ok",
     "timestamp": 1623572139512,
     "user": {
      "displayName": "Vauwez Sam El Fareez",
      "photoUrl": "https://lh3.googleusercontent.com/a-/AOh14GiiszMbUnUPzlsIyPzYs7zFnTeAylxGPSGynOpI=s64",
      "userId": "03245812126824588324"
     },
     "user_tz": -480
    },
    "id": "pKu15rTVbTA6",
    "outputId": "5110c887-526a-4a74-b8cf-76f61b07f67a"
   },
   "outputs": [
    {
     "name": "stdout",
     "output_type": "stream",
     "text": [
      "number of test samples : 31\n",
      "number of training samples: 170\n"
     ]
    }
   ],
   "source": [
    "from sklearn.model_selection import train_test_split\n",
    "\n",
    "\n",
    "x_train, x_test, y_train, y_test = train_test_split(x_data, y_data, test_size=0.15, random_state=1)\n",
    "\n",
    "\n",
    "print(\"number of test samples :\", x_test.shape[0])\n",
    "print(\"number of training samples:\",x_train.shape[0])\n"
   ]
  },
  {
   "cell_type": "markdown",
   "metadata": {
    "id": "4YruZ9fBbTA7"
   },
   "source": [
    "The <b>test_size</b> parameter sets the proportion of data that is split into the testing set. In the above, the testing set is set to 10% of the total dataset. "
   ]
  },
  {
   "cell_type": "markdown",
   "metadata": {
    "id": "75ArKKxbbTA7"
   },
   "source": [
    "<div class=\"alert alert-danger alertdanger\" style=\"margin-top: 20px\">\n",
    "<h1> Question  #1):</h1>\n",
    "\n",
    "<b>Use the function \"train_test_split\" to split up the data set such that 40% of the data samples will be utilized for testing, set the parameter \"random_state\" equal to zero. The output of the function should be the following:  \"x_train_1\" , \"x_test_1\", \"y_train_1\" and  \"y_test_1\".</b>\n",
    "</div>"
   ]
  },
  {
   "cell_type": "code",
   "execution_count": 13,
   "metadata": {
    "colab": {
     "base_uri": "https://localhost:8080/"
    },
    "collapsed": true,
    "executionInfo": {
     "elapsed": 320,
     "status": "ok",
     "timestamp": 1623572332342,
     "user": {
      "displayName": "Vauwez Sam El Fareez",
      "photoUrl": "https://lh3.googleusercontent.com/a-/AOh14GiiszMbUnUPzlsIyPzYs7zFnTeAylxGPSGynOpI=s64",
      "userId": "03245812126824588324"
     },
     "user_tz": -480
    },
    "id": "Wzy5O1EwbTA7",
    "outputId": "1b5bd37a-3225-4289-a647-b50b9bb00b20"
   },
   "outputs": [
    {
     "name": "stdout",
     "output_type": "stream",
     "text": [
      "120\n",
      "81\n"
     ]
    }
   ],
   "source": [
    "# Write your code below and press Shift+Enter to execute \n",
    "x_train_1, x_test_1, y_train_1, y_test_1 = train_test_split(x_data, y_data, test_size=0.4, random_state=1)\n",
    "\n",
    "print(x_train_1.shape[0])\n",
    "print(x_test_1.shape[0])"
   ]
  },
  {
   "cell_type": "markdown",
   "metadata": {
    "id": "esN4gNmsbTA8"
   },
   "source": [
    "Double-click <b>here</b> for the solution.\n",
    "\n",
    "<!-- The answer is below:\n",
    "\n",
    "x_train1, x_test1, y_train1, y_test1 = train_test_split(x_data, y_data, test_size=0.4, random_state=0) \n",
    "print(\"number of test samples :\", x_test1.shape[0])\n",
    "print(\"number of training samples:\",x_train1.shape[0])\n",
    "\n",
    "-->"
   ]
  },
  {
   "cell_type": "markdown",
   "metadata": {
    "id": "Qy6oP66DbTA8"
   },
   "source": [
    "Let's import <b>LinearRegression</b> from the module <b>linear_model</b>."
   ]
  },
  {
   "cell_type": "code",
   "execution_count": 14,
   "metadata": {
    "executionInfo": {
     "elapsed": 344,
     "status": "ok",
     "timestamp": 1623572339819,
     "user": {
      "displayName": "Vauwez Sam El Fareez",
      "photoUrl": "https://lh3.googleusercontent.com/a-/AOh14GiiszMbUnUPzlsIyPzYs7zFnTeAylxGPSGynOpI=s64",
      "userId": "03245812126824588324"
     },
     "user_tz": -480
    },
    "id": "y1xUDohKbTA9"
   },
   "outputs": [],
   "source": [
    "from sklearn.linear_model import LinearRegression"
   ]
  },
  {
   "cell_type": "markdown",
   "metadata": {
    "id": "AO8z_ydVbTA-"
   },
   "source": [
    " We create a Linear Regression object:"
   ]
  },
  {
   "cell_type": "code",
   "execution_count": 15,
   "metadata": {
    "executionInfo": {
     "elapsed": 344,
     "status": "ok",
     "timestamp": 1623572342369,
     "user": {
      "displayName": "Vauwez Sam El Fareez",
      "photoUrl": "https://lh3.googleusercontent.com/a-/AOh14GiiszMbUnUPzlsIyPzYs7zFnTeAylxGPSGynOpI=s64",
      "userId": "03245812126824588324"
     },
     "user_tz": -480
    },
    "id": "NByM4bx2bTA-"
   },
   "outputs": [],
   "source": [
    "lre=LinearRegression()"
   ]
  },
  {
   "cell_type": "markdown",
   "metadata": {
    "id": "gXxhFddHbTA-"
   },
   "source": [
    "we fit the model using the feature horsepower "
   ]
  },
  {
   "cell_type": "code",
   "execution_count": 16,
   "metadata": {
    "colab": {
     "base_uri": "https://localhost:8080/"
    },
    "executionInfo": {
     "elapsed": 337,
     "status": "ok",
     "timestamp": 1623572348648,
     "user": {
      "displayName": "Vauwez Sam El Fareez",
      "photoUrl": "https://lh3.googleusercontent.com/a-/AOh14GiiszMbUnUPzlsIyPzYs7zFnTeAylxGPSGynOpI=s64",
      "userId": "03245812126824588324"
     },
     "user_tz": -480
    },
    "id": "SiEucLDVbTA_",
    "outputId": "b1f8417e-4534-4dfd-aac2-e88119dffb70"
   },
   "outputs": [
    {
     "data": {
      "text/plain": [
       "LinearRegression(copy_X=True, fit_intercept=True, n_jobs=None, normalize=False)"
      ]
     },
     "execution_count": 16,
     "metadata": {
      "tags": []
     },
     "output_type": "execute_result"
    }
   ],
   "source": [
    "lre.fit(x_train[['horsepower']], y_train)"
   ]
  },
  {
   "cell_type": "markdown",
   "metadata": {
    "id": "9ONmSdXZbTA_"
   },
   "source": [
    "Let's Calculate the R^2 on the test data:"
   ]
  },
  {
   "cell_type": "code",
   "execution_count": 17,
   "metadata": {
    "colab": {
     "base_uri": "https://localhost:8080/"
    },
    "executionInfo": {
     "elapsed": 344,
     "status": "ok",
     "timestamp": 1623572351927,
     "user": {
      "displayName": "Vauwez Sam El Fareez",
      "photoUrl": "https://lh3.googleusercontent.com/a-/AOh14GiiszMbUnUPzlsIyPzYs7zFnTeAylxGPSGynOpI=s64",
      "userId": "03245812126824588324"
     },
     "user_tz": -480
    },
    "id": "6zeQtm71bTBA",
    "outputId": "d2dc72d2-d6f3-419a-fb9b-22fa3f6f2044"
   },
   "outputs": [
    {
     "data": {
      "text/plain": [
       "0.707688374146705"
      ]
     },
     "execution_count": 17,
     "metadata": {
      "tags": []
     },
     "output_type": "execute_result"
    }
   ],
   "source": [
    "lre.score(x_test[['horsepower']], y_test)"
   ]
  },
  {
   "cell_type": "markdown",
   "metadata": {
    "id": "Q2jZKqmCbTBA"
   },
   "source": [
    "we can see the R^2 is much smaller using the test data."
   ]
  },
  {
   "cell_type": "code",
   "execution_count": 18,
   "metadata": {
    "colab": {
     "base_uri": "https://localhost:8080/"
    },
    "executionInfo": {
     "elapsed": 339,
     "status": "ok",
     "timestamp": 1623572358263,
     "user": {
      "displayName": "Vauwez Sam El Fareez",
      "photoUrl": "https://lh3.googleusercontent.com/a-/AOh14GiiszMbUnUPzlsIyPzYs7zFnTeAylxGPSGynOpI=s64",
      "userId": "03245812126824588324"
     },
     "user_tz": -480
    },
    "id": "FJ4FvXHgbTBA",
    "outputId": "dcff31bf-f77c-4d24-c71b-e5477ab739af"
   },
   "outputs": [
    {
     "data": {
      "text/plain": [
       "0.6449517437659684"
      ]
     },
     "execution_count": 18,
     "metadata": {
      "tags": []
     },
     "output_type": "execute_result"
    }
   ],
   "source": [
    "lre.score(x_train[['horsepower']], y_train)"
   ]
  },
  {
   "cell_type": "markdown",
   "metadata": {
    "id": "EjAvpFDhbTBA"
   },
   "source": [
    "<div class=\"alert alert-danger alertdanger\" style=\"margin-top: 20px\">\n",
    "<h1> Question  #2): </h1>\n",
    "<b> \n",
    "Find the R^2  on the test data using 90% of the data for training data\n",
    "</b>\n",
    "</div>"
   ]
  },
  {
   "cell_type": "code",
   "execution_count": 19,
   "metadata": {
    "colab": {
     "base_uri": "https://localhost:8080/"
    },
    "executionInfo": {
     "elapsed": 329,
     "status": "ok",
     "timestamp": 1623572420837,
     "user": {
      "displayName": "Vauwez Sam El Fareez",
      "photoUrl": "https://lh3.googleusercontent.com/a-/AOh14GiiszMbUnUPzlsIyPzYs7zFnTeAylxGPSGynOpI=s64",
      "userId": "03245812126824588324"
     },
     "user_tz": -480
    },
    "id": "iu9eKcJhbTBB",
    "outputId": "916c5e1c-0084-40db-9e99-9d956cec88b0"
   },
   "outputs": [
    {
     "data": {
      "text/plain": [
       "0.7340722810055448"
      ]
     },
     "execution_count": 19,
     "metadata": {
      "tags": []
     },
     "output_type": "execute_result"
    }
   ],
   "source": [
    "# Write your code below and press Shift+Enter to execute \n",
    "x_train1, x_test1, y_train1, y_test1 = train_test_split(x_data, y_data, test_size=0.1, random_state=0)\n",
    "lre.fit(x_train1[['horsepower']],y_train1)\n",
    "lre.score(x_test1[['horsepower']],y_test1)"
   ]
  },
  {
   "cell_type": "markdown",
   "metadata": {
    "id": "To9bjmOlbTBB"
   },
   "source": [
    "Double-click <b>here</b> for the solution.\n",
    "\n",
    "<!-- The answer is below:\n",
    "\n",
    "x_train1, x_test1, y_train1, y_test1 = train_test_split(x_data, y_data, test_size=0.1, random_state=0)\n",
    "lre.fit(x_train1[['horsepower']],y_train1)\n",
    "lre.score(x_test1[['horsepower']],y_test1)\n",
    "\n",
    "-->"
   ]
  },
  {
   "cell_type": "markdown",
   "metadata": {
    "id": "LLmCQ4zPbTBB"
   },
   "source": [
    " Sometimes you do not have sufficient testing data; as a result, you may want to perform Cross-validation. Let's  go over several methods that you can use for  Cross-validation. "
   ]
  },
  {
   "cell_type": "markdown",
   "metadata": {
    "id": "M8ZDmp7xbTBC"
   },
   "source": [
    "<h2>Cross-validation Score</h2>"
   ]
  },
  {
   "cell_type": "markdown",
   "metadata": {
    "id": "K5vIQtpAbTBF"
   },
   "source": [
    "Lets import <b>model_selection</b> from the module <b>cross_val_score</b>."
   ]
  },
  {
   "cell_type": "code",
   "execution_count": 20,
   "metadata": {
    "executionInfo": {
     "elapsed": 495,
     "status": "ok",
     "timestamp": 1623572436561,
     "user": {
      "displayName": "Vauwez Sam El Fareez",
      "photoUrl": "https://lh3.googleusercontent.com/a-/AOh14GiiszMbUnUPzlsIyPzYs7zFnTeAylxGPSGynOpI=s64",
      "userId": "03245812126824588324"
     },
     "user_tz": -480
    },
    "id": "2ASZ26SgbTBG"
   },
   "outputs": [],
   "source": [
    "from sklearn.model_selection import cross_val_score"
   ]
  },
  {
   "cell_type": "markdown",
   "metadata": {
    "id": "N2S15a88bTBG"
   },
   "source": [
    "We input the object, the feature in this case ' horsepower', the target data (y_data). The parameter 'cv'  determines the number of folds; in this case 4. "
   ]
  },
  {
   "cell_type": "code",
   "execution_count": 21,
   "metadata": {
    "executionInfo": {
     "elapsed": 6,
     "status": "ok",
     "timestamp": 1623572465363,
     "user": {
      "displayName": "Vauwez Sam El Fareez",
      "photoUrl": "https://lh3.googleusercontent.com/a-/AOh14GiiszMbUnUPzlsIyPzYs7zFnTeAylxGPSGynOpI=s64",
      "userId": "03245812126824588324"
     },
     "user_tz": -480
    },
    "id": "8vaJdc1kbTBG"
   },
   "outputs": [],
   "source": [
    "Rcross = cross_val_score(lre, x_data[['horsepower']], y_data, cv=4)"
   ]
  },
  {
   "cell_type": "markdown",
   "metadata": {
    "id": "fTxx7HdJbTBG"
   },
   "source": [
    "The default scoring is R^2; each element in the array has the average  R^2 value in the fold:"
   ]
  },
  {
   "cell_type": "code",
   "execution_count": 22,
   "metadata": {
    "colab": {
     "base_uri": "https://localhost:8080/"
    },
    "executionInfo": {
     "elapsed": 342,
     "status": "ok",
     "timestamp": 1623572469011,
     "user": {
      "displayName": "Vauwez Sam El Fareez",
      "photoUrl": "https://lh3.googleusercontent.com/a-/AOh14GiiszMbUnUPzlsIyPzYs7zFnTeAylxGPSGynOpI=s64",
      "userId": "03245812126824588324"
     },
     "user_tz": -480
    },
    "id": "OxN9fzxJbTBH",
    "outputId": "6ba356c1-b4a6-4396-aadc-ecdc75732bc9"
   },
   "outputs": [
    {
     "data": {
      "text/plain": [
       "array([0.7746232 , 0.51716687, 0.74785353, 0.04839605])"
      ]
     },
     "execution_count": 22,
     "metadata": {
      "tags": []
     },
     "output_type": "execute_result"
    }
   ],
   "source": [
    "Rcross"
   ]
  },
  {
   "cell_type": "markdown",
   "metadata": {
    "id": "h68yPKEObTBH"
   },
   "source": [
    " We can calculate the average and standard deviation of our estimate:"
   ]
  },
  {
   "cell_type": "code",
   "execution_count": 23,
   "metadata": {
    "colab": {
     "base_uri": "https://localhost:8080/"
    },
    "executionInfo": {
     "elapsed": 344,
     "status": "ok",
     "timestamp": 1623572485024,
     "user": {
      "displayName": "Vauwez Sam El Fareez",
      "photoUrl": "https://lh3.googleusercontent.com/a-/AOh14GiiszMbUnUPzlsIyPzYs7zFnTeAylxGPSGynOpI=s64",
      "userId": "03245812126824588324"
     },
     "user_tz": -480
    },
    "id": "lt9BmxbqbTBH",
    "outputId": "8aa404b4-1a1c-4d66-aa77-93c4b82e490e"
   },
   "outputs": [
    {
     "name": "stdout",
     "output_type": "stream",
     "text": [
      "The mean of the folds are 0.522009915042119 and the standard deviation is 0.291183944475603\n"
     ]
    }
   ],
   "source": [
    "print(\"The mean of the folds are\", Rcross.mean(), \"and the standard deviation is\" , Rcross.std())"
   ]
  },
  {
   "cell_type": "markdown",
   "metadata": {
    "id": "YBSD2RMCbTBI"
   },
   "source": [
    "We can use negative squared error as a score by setting the parameter  'scoring' metric to 'neg_mean_squared_error'. "
   ]
  },
  {
   "cell_type": "code",
   "execution_count": 24,
   "metadata": {
    "colab": {
     "base_uri": "https://localhost:8080/"
    },
    "executionInfo": {
     "elapsed": 319,
     "status": "ok",
     "timestamp": 1623572512186,
     "user": {
      "displayName": "Vauwez Sam El Fareez",
      "photoUrl": "https://lh3.googleusercontent.com/a-/AOh14GiiszMbUnUPzlsIyPzYs7zFnTeAylxGPSGynOpI=s64",
      "userId": "03245812126824588324"
     },
     "user_tz": -480
    },
    "id": "W8XFOzfBbTBI",
    "outputId": "58238971-b635-4ef9-f929-45323c0d65a9"
   },
   "outputs": [
    {
     "data": {
      "text/plain": [
       "array([20254142.84026702, 43745493.2650517 , 12539630.34014931,\n",
       "       17561927.72247591])"
      ]
     },
     "execution_count": 24,
     "metadata": {
      "tags": []
     },
     "output_type": "execute_result"
    }
   ],
   "source": [
    "-1 * cross_val_score(lre,x_data[['horsepower']], y_data,cv=4,scoring='neg_mean_squared_error')"
   ]
  },
  {
   "cell_type": "markdown",
   "metadata": {
    "id": "oeSH5Q1pbTBI"
   },
   "source": [
    "<div class=\"alert alert-danger alertdanger\" style=\"margin-top: 20px\">\n",
    "<h1> Question  #3): </h1>\n",
    "<b> \n",
    "Calculate the average R^2 using two folds, find the average R^2 for the second fold utilizing the horsepower as a feature : \n",
    "</b>\n",
    "</div>"
   ]
  },
  {
   "cell_type": "code",
   "execution_count": 26,
   "metadata": {
    "colab": {
     "base_uri": "https://localhost:8080/"
    },
    "executionInfo": {
     "elapsed": 315,
     "status": "ok",
     "timestamp": 1623572662195,
     "user": {
      "displayName": "Vauwez Sam El Fareez",
      "photoUrl": "https://lh3.googleusercontent.com/a-/AOh14GiiszMbUnUPzlsIyPzYs7zFnTeAylxGPSGynOpI=s64",
      "userId": "03245812126824588324"
     },
     "user_tz": -480
    },
    "id": "YV8R4Tv5bTBI",
    "outputId": "661c5b6e-343f-4476-b98d-4e9dbd37c2fb"
   },
   "outputs": [
    {
     "data": {
      "text/plain": [
       "array([0.59015621, 0.44319613])"
      ]
     },
     "execution_count": 26,
     "metadata": {
      "tags": []
     },
     "output_type": "execute_result"
    }
   ],
   "source": [
    "# Write your code below and press Shift+Enter to execute \n",
    "cross2folds = cross_val_score(lre, df[[\"horsepower\"]], y_data, cv=2)\n",
    "cross2folds"
   ]
  },
  {
   "cell_type": "code",
   "execution_count": 27,
   "metadata": {
    "colab": {
     "base_uri": "https://localhost:8080/"
    },
    "executionInfo": {
     "elapsed": 351,
     "status": "ok",
     "timestamp": 1623572690411,
     "user": {
      "displayName": "Vauwez Sam El Fareez",
      "photoUrl": "https://lh3.googleusercontent.com/a-/AOh14GiiszMbUnUPzlsIyPzYs7zFnTeAylxGPSGynOpI=s64",
      "userId": "03245812126824588324"
     },
     "user_tz": -480
    },
    "id": "Z__GL1K5eQAp",
    "outputId": "86b9c146-3f77-4643-af42-1cbfa67a953a"
   },
   "outputs": [
    {
     "data": {
      "text/plain": [
       "0.443196127755029"
      ]
     },
     "execution_count": 27,
     "metadata": {
      "tags": []
     },
     "output_type": "execute_result"
    }
   ],
   "source": [
    "cross2folds[1]"
   ]
  },
  {
   "cell_type": "markdown",
   "metadata": {
    "id": "BtT6dPLGbTBJ"
   },
   "source": [
    "Double-click <b>here</b> for the solution.\n",
    "\n",
    "<!-- The answer is below:\n",
    "\n",
    "Rc=cross_val_score(lre,x_data[['horsepower']], y_data,cv=2)\n",
    "Rc[1]\n",
    "\n",
    "-->"
   ]
  },
  {
   "cell_type": "markdown",
   "metadata": {
    "id": "oppXBxGrbTBJ"
   },
   "source": [
    "You can also use the function 'cross_val_predict' to predict the output. The function splits up the data into the specified number of folds, using one fold to get a prediction while the rest of the folds are used as test data. First import the function:"
   ]
  },
  {
   "cell_type": "code",
   "execution_count": 29,
   "metadata": {
    "collapsed": true,
    "executionInfo": {
     "elapsed": 344,
     "status": "ok",
     "timestamp": 1623572777688,
     "user": {
      "displayName": "Vauwez Sam El Fareez",
      "photoUrl": "https://lh3.googleusercontent.com/a-/AOh14GiiszMbUnUPzlsIyPzYs7zFnTeAylxGPSGynOpI=s64",
      "userId": "03245812126824588324"
     },
     "user_tz": -480
    },
    "id": "javPqe1WbTBJ"
   },
   "outputs": [],
   "source": [
    "from sklearn.model_selection import cross_val_predict"
   ]
  },
  {
   "cell_type": "markdown",
   "metadata": {
    "id": "Rwf0sav6bTBK"
   },
   "source": [
    "We input the object, the feature in this case <b>'horsepower'</b> , the target data <b>y_data</b>. The parameter 'cv' determines the number of folds; in this case 4. We can produce an output:"
   ]
  },
  {
   "cell_type": "code",
   "execution_count": 30,
   "metadata": {
    "colab": {
     "base_uri": "https://localhost:8080/"
    },
    "executionInfo": {
     "elapsed": 324,
     "status": "ok",
     "timestamp": 1623572801676,
     "user": {
      "displayName": "Vauwez Sam El Fareez",
      "photoUrl": "https://lh3.googleusercontent.com/a-/AOh14GiiszMbUnUPzlsIyPzYs7zFnTeAylxGPSGynOpI=s64",
      "userId": "03245812126824588324"
     },
     "user_tz": -480
    },
    "id": "XdWFuIMkbTBK",
    "outputId": "14782f62-3a8e-4436-fd60-576411d57c30"
   },
   "outputs": [
    {
     "data": {
      "text/plain": [
       "array([14141.63807508, 14141.63807508, 20814.29423473, 12745.03562306,\n",
       "       14762.35027598])"
      ]
     },
     "execution_count": 30,
     "metadata": {
      "tags": []
     },
     "output_type": "execute_result"
    }
   ],
   "source": [
    "yhat = cross_val_predict(lre,x_data[['horsepower']], y_data,cv=4)\n",
    "yhat[0:5]"
   ]
  },
  {
   "cell_type": "markdown",
   "metadata": {
    "id": "nW3z_ez3bTBK"
   },
   "source": [
    "<h1 id=\"ref2\">Part 2: Overfitting, Underfitting and Model Selection</h1>\n",
    "\n",
    "<p>It turns out that the test data sometimes referred to as the out of sample data is a much better measure of how well your model performs in the real world.  One reason for this is overfitting; let's go over some examples. It turns out these differences are more apparent in Multiple Linear Regression and Polynomial Regression so we will explore overfitting in that context.</p>"
   ]
  },
  {
   "cell_type": "markdown",
   "metadata": {
    "id": "GItsLszDbTBL"
   },
   "source": [
    "Let's create Multiple linear regression objects and train the model using <b>'horsepower'</b>, <b>'curb-weight'</b>, <b>'engine-size'</b> and <b>'highway-mpg'</b> as features."
   ]
  },
  {
   "cell_type": "code",
   "execution_count": 31,
   "metadata": {
    "colab": {
     "base_uri": "https://localhost:8080/"
    },
    "executionInfo": {
     "elapsed": 326,
     "status": "ok",
     "timestamp": 1623572843156,
     "user": {
      "displayName": "Vauwez Sam El Fareez",
      "photoUrl": "https://lh3.googleusercontent.com/a-/AOh14GiiszMbUnUPzlsIyPzYs7zFnTeAylxGPSGynOpI=s64",
      "userId": "03245812126824588324"
     },
     "user_tz": -480
    },
    "id": "ZSFPbkVtbTBL",
    "outputId": "88c3560e-ee83-4b1f-a5f1-a531934df32f"
   },
   "outputs": [
    {
     "data": {
      "text/plain": [
       "LinearRegression(copy_X=True, fit_intercept=True, n_jobs=None, normalize=False)"
      ]
     },
     "execution_count": 31,
     "metadata": {
      "tags": []
     },
     "output_type": "execute_result"
    }
   ],
   "source": [
    "lr = LinearRegression()\n",
    "lr.fit(x_train[['horsepower', 'curb-weight', 'engine-size', 'highway-mpg']], y_train)"
   ]
  },
  {
   "cell_type": "markdown",
   "metadata": {
    "id": "MSpiVxUFbTBL"
   },
   "source": [
    "Prediction using training data:"
   ]
  },
  {
   "cell_type": "code",
   "execution_count": 32,
   "metadata": {
    "colab": {
     "base_uri": "https://localhost:8080/"
    },
    "executionInfo": {
     "elapsed": 332,
     "status": "ok",
     "timestamp": 1623572854144,
     "user": {
      "displayName": "Vauwez Sam El Fareez",
      "photoUrl": "https://lh3.googleusercontent.com/a-/AOh14GiiszMbUnUPzlsIyPzYs7zFnTeAylxGPSGynOpI=s64",
      "userId": "03245812126824588324"
     },
     "user_tz": -480
    },
    "id": "40de4K0fbTBM",
    "outputId": "e8a06d86-7511-4b1e-d4c3-a3e75997facb"
   },
   "outputs": [
    {
     "data": {
      "text/plain": [
       "array([11927.70699817, 11236.71672034,  6436.91775515, 21890.22064982,\n",
       "       16667.18254832])"
      ]
     },
     "execution_count": 32,
     "metadata": {
      "tags": []
     },
     "output_type": "execute_result"
    }
   ],
   "source": [
    "yhat_train = lr.predict(x_train[['horsepower', 'curb-weight', 'engine-size', 'highway-mpg']])\n",
    "yhat_train[0:5]"
   ]
  },
  {
   "cell_type": "markdown",
   "metadata": {
    "id": "anjKsf9EbTBM"
   },
   "source": [
    "Prediction using test data: "
   ]
  },
  {
   "cell_type": "code",
   "execution_count": 33,
   "metadata": {
    "colab": {
     "base_uri": "https://localhost:8080/"
    },
    "executionInfo": {
     "elapsed": 334,
     "status": "ok",
     "timestamp": 1623572869430,
     "user": {
      "displayName": "Vauwez Sam El Fareez",
      "photoUrl": "https://lh3.googleusercontent.com/a-/AOh14GiiszMbUnUPzlsIyPzYs7zFnTeAylxGPSGynOpI=s64",
      "userId": "03245812126824588324"
     },
     "user_tz": -480
    },
    "id": "N55_hLgIbTBM",
    "outputId": "8177b35a-c88b-40a0-df59-2a4ff0267682"
   },
   "outputs": [
    {
     "data": {
      "text/plain": [
       "array([11349.16502418,  5914.48335385, 11243.76325987,  6662.03197043,\n",
       "       15555.76936275])"
      ]
     },
     "execution_count": 33,
     "metadata": {
      "tags": []
     },
     "output_type": "execute_result"
    }
   ],
   "source": [
    "yhat_test = lr.predict(x_test[['horsepower', 'curb-weight', 'engine-size', 'highway-mpg']])\n",
    "yhat_test[0:5]"
   ]
  },
  {
   "cell_type": "markdown",
   "metadata": {
    "id": "kfApoC_lbTBM"
   },
   "source": [
    "Let's perform some model evaluation using our training and testing data separately. First  we import the seaborn and matplotlibb library for plotting."
   ]
  },
  {
   "cell_type": "code",
   "execution_count": 34,
   "metadata": {
    "collapsed": true,
    "executionInfo": {
     "elapsed": 337,
     "status": "ok",
     "timestamp": 1623572879465,
     "user": {
      "displayName": "Vauwez Sam El Fareez",
      "photoUrl": "https://lh3.googleusercontent.com/a-/AOh14GiiszMbUnUPzlsIyPzYs7zFnTeAylxGPSGynOpI=s64",
      "userId": "03245812126824588324"
     },
     "user_tz": -480
    },
    "id": "kgJTibtwbTBN"
   },
   "outputs": [],
   "source": [
    "import matplotlib.pyplot as plt\n",
    "%matplotlib inline\n",
    "import seaborn as sns"
   ]
  },
  {
   "cell_type": "markdown",
   "metadata": {
    "id": "hUb3DzYibTBN"
   },
   "source": [
    "Let's examine the distribution of the predicted values of the training data."
   ]
  },
  {
   "cell_type": "code",
   "execution_count": 35,
   "metadata": {
    "colab": {
     "base_uri": "https://localhost:8080/",
     "height": 712
    },
    "executionInfo": {
     "elapsed": 963,
     "status": "ok",
     "timestamp": 1623572883053,
     "user": {
      "displayName": "Vauwez Sam El Fareez",
      "photoUrl": "https://lh3.googleusercontent.com/a-/AOh14GiiszMbUnUPzlsIyPzYs7zFnTeAylxGPSGynOpI=s64",
      "userId": "03245812126824588324"
     },
     "user_tz": -480
    },
    "id": "FCKwvxeWbTBN",
    "outputId": "eb7d209b-00d4-4413-bb2f-29c85015b398"
   },
   "outputs": [
    {
     "name": "stderr",
     "output_type": "stream",
     "text": [
      "/usr/local/lib/python3.7/dist-packages/seaborn/distributions.py:2557: FutureWarning: `distplot` is a deprecated function and will be removed in a future version. Please adapt your code to use either `displot` (a figure-level function with similar flexibility) or `kdeplot` (an axes-level function for kernel density plots).\n",
      "  warnings.warn(msg, FutureWarning)\n",
      "/usr/local/lib/python3.7/dist-packages/seaborn/distributions.py:2557: FutureWarning: `distplot` is a deprecated function and will be removed in a future version. Please adapt your code to use either `displot` (a figure-level function with similar flexibility) or `kdeplot` (an axes-level function for kernel density plots).\n",
      "  warnings.warn(msg, FutureWarning)\n"
     ]
    },
    {
     "data": {
      "image/png": "[encoded data removed]",
      "text/plain": [
       "<Figure size 864x720 with 1 Axes>"
      ]
     },
     "metadata": {
      "needs_background": "light",
      "tags": []
     },
     "output_type": "display_data"
    }
   ],
   "source": [
    "Title = 'Distribution  Plot of  Predicted Value Using Training Data vs Training Data Distribution'\n",
    "DistributionPlot(y_train, yhat_train, \"Actual Values (Train)\", \"Predicted Values (Train)\", Title)"
   ]
  },
  {
   "cell_type": "markdown",
   "metadata": {
    "id": "qp6TbVDYbTBO"
   },
   "source": [
    "Figure 1: Plot of predicted values using the training data compared to the training data. "
   ]
  },
  {
   "cell_type": "markdown",
   "metadata": {
    "id": "kcokPCJ-bTBO"
   },
   "source": [
    "So far the model seems to be doing well in learning from the training dataset. But what happens when the model encounters new data from the testing dataset? When the model generates new values from the test data, we see the distribution of the predicted values is much different from the actual target values. "
   ]
  },
  {
   "cell_type": "code",
   "execution_count": 36,
   "metadata": {
    "colab": {
     "base_uri": "https://localhost:8080/",
     "height": 712
    },
    "executionInfo": {
     "elapsed": 626,
     "status": "ok",
     "timestamp": 1623572933682,
     "user": {
      "displayName": "Vauwez Sam El Fareez",
      "photoUrl": "https://lh3.googleusercontent.com/a-/AOh14GiiszMbUnUPzlsIyPzYs7zFnTeAylxGPSGynOpI=s64",
      "userId": "03245812126824588324"
     },
     "user_tz": -480
    },
    "id": "T2198wVYbTBO",
    "outputId": "3c920b58-44b4-4809-c292-2a5db0ea69fa"
   },
   "outputs": [
    {
     "name": "stderr",
     "output_type": "stream",
     "text": [
      "/usr/local/lib/python3.7/dist-packages/seaborn/distributions.py:2557: FutureWarning: `distplot` is a deprecated function and will be removed in a future version. Please adapt your code to use either `displot` (a figure-level function with similar flexibility) or `kdeplot` (an axes-level function for kernel density plots).\n",
      "  warnings.warn(msg, FutureWarning)\n",
      "/usr/local/lib/python3.7/dist-packages/seaborn/distributions.py:2557: FutureWarning: `distplot` is a deprecated function and will be removed in a future version. Please adapt your code to use either `displot` (a figure-level function with similar flexibility) or `kdeplot` (an axes-level function for kernel density plots).\n",
      "  warnings.warn(msg, FutureWarning)\n"
     ]
    },
    {
     "data": {
      "image/png": "[encoded data removed]",
      "text/plain": [
       "<Figure size 864x720 with 1 Axes>"
      ]
     },
     "metadata": {
      "needs_background": "light",
      "tags": []
     },
     "output_type": "display_data"
    }
   ],
   "source": [
    "Title='Distribution  Plot of  Predicted Value Using Test Data vs Data Distribution of Test Data'\n",
    "DistributionPlot(y_test,yhat_test,\"Actual Values (Test)\",\"Predicted Values (Test)\",Title)"
   ]
  },
  {
   "cell_type": "markdown",
   "metadata": {
    "id": "FBfzQBowbTBO"
   },
   "source": [
    "Figur 2: Plot of predicted value using the test data compared to the test data. "
   ]
  },
  {
   "cell_type": "markdown",
   "metadata": {
    "id": "au5ajlbWbTBP"
   },
   "source": [
    "<p>Comparing Figure 1 and Figure 2; it is evident the distribution of the test data in Figure 1 is much better at fitting the data. This difference in Figure 2 is apparent where the ranges are from 5000 to 15 000. This is where the distribution shape is exceptionally different. Let's see if polynomial regression also exhibits a drop in the prediction accuracy when analysing the test dataset.</p>"
   ]
  },
  {
   "cell_type": "code",
   "execution_count": 37,
   "metadata": {
    "executionInfo": {
     "elapsed": 340,
     "status": "ok",
     "timestamp": 1623572982211,
     "user": {
      "displayName": "Vauwez Sam El Fareez",
      "photoUrl": "https://lh3.googleusercontent.com/a-/AOh14GiiszMbUnUPzlsIyPzYs7zFnTeAylxGPSGynOpI=s64",
      "userId": "03245812126824588324"
     },
     "user_tz": -480
    },
    "id": "tHPkSFNPbTBP"
   },
   "outputs": [],
   "source": [
    "from sklearn.preprocessing import PolynomialFeatures"
   ]
  },
  {
   "cell_type": "markdown",
   "metadata": {
    "id": "gtCnNIKFbTBP"
   },
   "source": [
    "<h4>Overfitting</h4>\n",
    "<p>Overfitting occurs when the model fits the noise, not the underlying process. Therefore when testing your model using the test-set, your model does not perform as well as it is modelling noise, not the underlying process that generated the relationship. Let's create a degree 5 polynomial model.</p>"
   ]
  },
  {
   "cell_type": "markdown",
   "metadata": {
    "id": "nt4YcxDzbTBQ"
   },
   "source": [
    "Let's use 55 percent of the data for testing and the rest for training:"
   ]
  },
  {
   "cell_type": "code",
   "execution_count": 38,
   "metadata": {
    "executionInfo": {
     "elapsed": 330,
     "status": "ok",
     "timestamp": 1623572993654,
     "user": {
      "displayName": "Vauwez Sam El Fareez",
      "photoUrl": "https://lh3.googleusercontent.com/a-/AOh14GiiszMbUnUPzlsIyPzYs7zFnTeAylxGPSGynOpI=s64",
      "userId": "03245812126824588324"
     },
     "user_tz": -480
    },
    "id": "pkshc5KGbTBQ"
   },
   "outputs": [],
   "source": [
    "x_train, x_test, y_train, y_test = train_test_split(x_data, y_data, test_size=0.45, random_state=0)"
   ]
  },
  {
   "cell_type": "markdown",
   "metadata": {
    "id": "-CptnW3ebTBQ"
   },
   "source": [
    "We will perform a degree 5 polynomial transformation on the feature <b>'horse power'</b>. "
   ]
  },
  {
   "cell_type": "code",
   "execution_count": 39,
   "metadata": {
    "colab": {
     "base_uri": "https://localhost:8080/"
    },
    "executionInfo": {
     "elapsed": 350,
     "status": "ok",
     "timestamp": 1623573025302,
     "user": {
      "displayName": "Vauwez Sam El Fareez",
      "photoUrl": "https://lh3.googleusercontent.com/a-/AOh14GiiszMbUnUPzlsIyPzYs7zFnTeAylxGPSGynOpI=s64",
      "userId": "03245812126824588324"
     },
     "user_tz": -480
    },
    "id": "QB817mAEbTBR",
    "outputId": "6c677fd9-cb80-4ad5-da28-ce12ad5963e6"
   },
   "outputs": [
    {
     "data": {
      "text/plain": [
       "PolynomialFeatures(degree=5, include_bias=True, interaction_only=False,\n",
       "                   order='C')"
      ]
     },
     "execution_count": 39,
     "metadata": {
      "tags": []
     },
     "output_type": "execute_result"
    }
   ],
   "source": [
    "pr = PolynomialFeatures(degree=5)\n",
    "x_train_pr = pr.fit_transform(x_train[['horsepower']])\n",
    "x_test_pr = pr.fit_transform(x_test[['horsepower']])\n",
    "pr"
   ]
  },
  {
   "cell_type": "markdown",
   "metadata": {
    "id": "yjiqBnqZbTBR"
   },
   "source": [
    "Now let's create a linear regression model \"poly\" and train it."
   ]
  },
  {
   "cell_type": "code",
   "execution_count": 40,
   "metadata": {
    "colab": {
     "base_uri": "https://localhost:8080/"
    },
    "executionInfo": {
     "elapsed": 339,
     "status": "ok",
     "timestamp": 1623573044313,
     "user": {
      "displayName": "Vauwez Sam El Fareez",
      "photoUrl": "https://lh3.googleusercontent.com/a-/AOh14GiiszMbUnUPzlsIyPzYs7zFnTeAylxGPSGynOpI=s64",
      "userId": "03245812126824588324"
     },
     "user_tz": -480
    },
    "id": "g6J_w9zibTBR",
    "outputId": "95552b7f-6ff3-4bdb-9074-74421a4b14bd"
   },
   "outputs": [
    {
     "data": {
      "text/plain": [
       "LinearRegression(copy_X=True, fit_intercept=True, n_jobs=None, normalize=False)"
      ]
     },
     "execution_count": 40,
     "metadata": {
      "tags": []
     },
     "output_type": "execute_result"
    }
   ],
   "source": [
    "poly = LinearRegression()\n",
    "poly.fit(x_train_pr, y_train)"
   ]
  },
  {
   "cell_type": "markdown",
   "metadata": {
    "id": "WoQ7UjVFbTBS"
   },
   "source": [
    "We can see the output of our model using the method  \"predict.\" then assign the values to \"yhat\"."
   ]
  },
  {
   "cell_type": "code",
   "execution_count": 41,
   "metadata": {
    "colab": {
     "base_uri": "https://localhost:8080/"
    },
    "executionInfo": {
     "elapsed": 354,
     "status": "ok",
     "timestamp": 1623573060418,
     "user": {
      "displayName": "Vauwez Sam El Fareez",
      "photoUrl": "https://lh3.googleusercontent.com/a-/AOh14GiiszMbUnUPzlsIyPzYs7zFnTeAylxGPSGynOpI=s64",
      "userId": "03245812126824588324"
     },
     "user_tz": -480
    },
    "id": "xnCEVxKhbTBS",
    "outputId": "71826353-0649-4ab9-c756-ff6b068ee60a"
   },
   "outputs": [
    {
     "data": {
      "text/plain": [
       "array([ 6728.65561887,  7307.98782321, 12213.78770965, 18893.24804015,\n",
       "       19995.95195136])"
      ]
     },
     "execution_count": 41,
     "metadata": {
      "tags": []
     },
     "output_type": "execute_result"
    }
   ],
   "source": [
    "yhat = poly.predict(x_test_pr)\n",
    "yhat[0:5]"
   ]
  },
  {
   "cell_type": "markdown",
   "metadata": {
    "id": "Cy2e4g2ZbTBT"
   },
   "source": [
    "Let's take the first five predicted values and compare it to the actual targets. "
   ]
  },
  {
   "cell_type": "code",
   "execution_count": 42,
   "metadata": {
    "colab": {
     "base_uri": "https://localhost:8080/"
    },
    "executionInfo": {
     "elapsed": 349,
     "status": "ok",
     "timestamp": 1623573077218,
     "user": {
      "displayName": "Vauwez Sam El Fareez",
      "photoUrl": "https://lh3.googleusercontent.com/a-/AOh14GiiszMbUnUPzlsIyPzYs7zFnTeAylxGPSGynOpI=s64",
      "userId": "03245812126824588324"
     },
     "user_tz": -480
    },
    "id": "cVC7W6f5bTBT",
    "outputId": "7de86c02-f229-44aa-b793-7c5da7606348"
   },
   "outputs": [
    {
     "name": "stdout",
     "output_type": "stream",
     "text": [
      "Predicted values: [ 6728.65561887  7307.98782321 12213.78770965 18893.24804015]\n",
      "True values: [ 6295. 10698. 13860. 13499.]\n"
     ]
    }
   ],
   "source": [
    "print(\"Predicted values:\", yhat[0:4])\n",
    "print(\"True values:\", y_test[0:4].values)"
   ]
  },
  {
   "cell_type": "markdown",
   "metadata": {
    "id": "3LiV7zvsbTBU"
   },
   "source": [
    "We will use the function \"PollyPlot\" that we defined at the beginning of the lab to display the training data, testing data, and the predicted function."
   ]
  },
  {
   "cell_type": "code",
   "execution_count": 43,
   "metadata": {
    "colab": {
     "base_uri": "https://localhost:8080/",
     "height": 594
    },
    "executionInfo": {
     "elapsed": 1180,
     "status": "ok",
     "timestamp": 1623573099824,
     "user": {
      "displayName": "Vauwez Sam El Fareez",
      "photoUrl": "https://lh3.googleusercontent.com/a-/AOh14GiiszMbUnUPzlsIyPzYs7zFnTeAylxGPSGynOpI=s64",
      "userId": "03245812126824588324"
     },
     "user_tz": -480
    },
    "id": "trVHhlKSbTBU",
    "outputId": "7225bd9d-de4c-4861-87e6-1795d3819b78",
    "scrolled": false
   },
   "outputs": [
    {
     "data": {
      "image/png": "[encoded data removed]",
      "text/plain": [
       "<Figure size 864x720 with 1 Axes>"
      ]
     },
     "metadata": {
      "needs_background": "light",
      "tags": []
     },
     "output_type": "display_data"
    }
   ],
   "source": [
    "PollyPlot(x_train[['horsepower']], x_test[['horsepower']], y_train, y_test, poly,pr)"
   ]
  },
  {
   "cell_type": "markdown",
   "metadata": {
    "id": "MscWC-BIbTBV"
   },
   "source": [
    "Figur 4 A polynomial regression model, red dots represent training data, green dots represent test data, and the blue line represents the model prediction. "
   ]
  },
  {
   "cell_type": "markdown",
   "metadata": {
    "id": "RW990RmVbTBV"
   },
   "source": [
    "We see that the estimated function appears to track the data but around 200 horsepower, the function begins to diverge from the data points. "
   ]
  },
  {
   "cell_type": "markdown",
   "metadata": {
    "id": "yOWa_mrIbTBV"
   },
   "source": [
    " R^2 of the training data:"
   ]
  },
  {
   "cell_type": "code",
   "execution_count": 44,
   "metadata": {
    "colab": {
     "base_uri": "https://localhost:8080/"
    },
    "executionInfo": {
     "elapsed": 340,
     "status": "ok",
     "timestamp": 1623573129656,
     "user": {
      "displayName": "Vauwez Sam El Fareez",
      "photoUrl": "https://lh3.googleusercontent.com/a-/AOh14GiiszMbUnUPzlsIyPzYs7zFnTeAylxGPSGynOpI=s64",
      "userId": "03245812126824588324"
     },
     "user_tz": -480
    },
    "id": "u9IFGqVjbTBV",
    "outputId": "f4b7ce08-e798-4161-a11c-e728c87cc3f6"
   },
   "outputs": [
    {
     "data": {
      "text/plain": [
       "0.5567716902120254"
      ]
     },
     "execution_count": 44,
     "metadata": {
      "tags": []
     },
     "output_type": "execute_result"
    }
   ],
   "source": [
    "poly.score(x_train_pr, y_train)"
   ]
  },
  {
   "cell_type": "markdown",
   "metadata": {
    "id": "K1BTBHSsbTBW"
   },
   "source": [
    " R^2 of the test data:"
   ]
  },
  {
   "cell_type": "code",
   "execution_count": 45,
   "metadata": {
    "colab": {
     "base_uri": "https://localhost:8080/"
    },
    "executionInfo": {
     "elapsed": 332,
     "status": "ok",
     "timestamp": 1623573133348,
     "user": {
      "displayName": "Vauwez Sam El Fareez",
      "photoUrl": "https://lh3.googleusercontent.com/a-/AOh14GiiszMbUnUPzlsIyPzYs7zFnTeAylxGPSGynOpI=s64",
      "userId": "03245812126824588324"
     },
     "user_tz": -480
    },
    "id": "2pZC2D3lbTBW",
    "outputId": "02c37210-3dc5-4a12-effa-6d27c8678b77"
   },
   "outputs": [
    {
     "data": {
      "text/plain": [
       "-29.87134030204371"
      ]
     },
     "execution_count": 45,
     "metadata": {
      "tags": []
     },
     "output_type": "execute_result"
    }
   ],
   "source": [
    "poly.score(x_test_pr, y_test)"
   ]
  },
  {
   "cell_type": "markdown",
   "metadata": {
    "id": "ovGHwLlCbTBW"
   },
   "source": [
    "We see the R^2 for the training data is 0.5567 while the R^2 on the test data was -29.87.  The lower the R^2, the worse the model, a Negative R^2 is a sign of overfitting."
   ]
  },
  {
   "cell_type": "markdown",
   "metadata": {
    "id": "86Q1o80DbTBX"
   },
   "source": [
    "Let's see how the R^2 changes on the test data for different order polynomials and plot the results:"
   ]
  },
  {
   "cell_type": "code",
   "execution_count": 46,
   "metadata": {
    "colab": {
     "base_uri": "https://localhost:8080/",
     "height": 312
    },
    "executionInfo": {
     "elapsed": 451,
     "status": "ok",
     "timestamp": 1623573170044,
     "user": {
      "displayName": "Vauwez Sam El Fareez",
      "photoUrl": "https://lh3.googleusercontent.com/a-/AOh14GiiszMbUnUPzlsIyPzYs7zFnTeAylxGPSGynOpI=s64",
      "userId": "03245812126824588324"
     },
     "user_tz": -480
    },
    "id": "jIU23hMQbTBX",
    "outputId": "ec1ea79f-4eb1-4ea1-db06-d2c19e0aab7d"
   },
   "outputs": [
    {
     "data": {
      "text/plain": [
       "Text(3, 0.75, 'Maximum R^2 ')"
      ]
     },
     "execution_count": 46,
     "metadata": {
      "tags": []
     },
     "output_type": "execute_result"
    },
    {
     "data": {
      "image/png": "[encoded data removed]",
      "text/plain": [
       "<Figure size 432x288 with 1 Axes>"
      ]
     },
     "metadata": {
      "needs_background": "light",
      "tags": []
     },
     "output_type": "display_data"
    }
   ],
   "source": [
    "Rsqu_test = []\n",
    "\n",
    "order = [1, 2, 3, 4]\n",
    "for n in order:\n",
    "    pr = PolynomialFeatures(degree=n)\n",
    "    \n",
    "    x_train_pr = pr.fit_transform(x_train[['horsepower']])\n",
    "    \n",
    "    x_test_pr = pr.fit_transform(x_test[['horsepower']])    \n",
    "    \n",
    "    lr.fit(x_train_pr, y_train)\n",
    "    \n",
    "    Rsqu_test.append(lr.score(x_test_pr, y_test))\n",
    "\n",
    "plt.plot(order, Rsqu_test)\n",
    "plt.xlabel('order')\n",
    "plt.ylabel('R^2')\n",
    "plt.title('R^2 Using Test Data')\n",
    "plt.text(3, 0.75, 'Maximum R^2 ')    "
   ]
  },
  {
   "cell_type": "markdown",
   "metadata": {
    "id": "4sUUsFD9bTBX"
   },
   "source": [
    "We see the R^2 gradually increases until an order three polynomial is used. Then the  R^2 dramatically decreases at four."
   ]
  },
  {
   "cell_type": "markdown",
   "metadata": {
    "id": "Hm96UbXxbTBY"
   },
   "source": [
    "The following function will be used in the next section; please run the cell."
   ]
  },
  {
   "cell_type": "code",
   "execution_count": 47,
   "metadata": {
    "collapsed": true,
    "executionInfo": {
     "elapsed": 331,
     "status": "ok",
     "timestamp": 1623573197084,
     "user": {
      "displayName": "Vauwez Sam El Fareez",
      "photoUrl": "https://lh3.googleusercontent.com/a-/AOh14GiiszMbUnUPzlsIyPzYs7zFnTeAylxGPSGynOpI=s64",
      "userId": "03245812126824588324"
     },
     "user_tz": -480
    },
    "id": "M1ZllP6_bTBY"
   },
   "outputs": [],
   "source": [
    "def f(order, test_data):\n",
    "    x_train, x_test, y_train, y_test = train_test_split(x_data, y_data, test_size=test_data, random_state=0)\n",
    "    pr = PolynomialFeatures(degree=order)\n",
    "    x_train_pr = pr.fit_transform(x_train[['horsepower']])\n",
    "    x_test_pr = pr.fit_transform(x_test[['horsepower']])\n",
    "    poly = LinearRegression()\n",
    "    poly.fit(x_train_pr,y_train)\n",
    "    PollyPlot(x_train[['horsepower']], x_test[['horsepower']], y_train,y_test, poly, pr)"
   ]
  },
  {
   "cell_type": "markdown",
   "metadata": {
    "id": "MjzuuZvtbTBY"
   },
   "source": [
    "The following interface allows you to experiment with different polynomial orders and different amounts of data. "
   ]
  },
  {
   "cell_type": "code",
   "execution_count": 48,
   "metadata": {
    "colab": {
     "base_uri": "https://localhost:8080/",
     "height": 676,
     "referenced_widgets": [
      "2d4bba3626a249ae9495af1424052992",
      "8f514ff31ab64830be61fba8d0152a08",
      "4c1085e0490b4913ad93c740e423975b",
      "0a27259a370e43f4a8e61a52abdbcb36",
      "fb8ae66f686e465f853e2d93838963af",
      "be1c2fa9e96d479bbc06ddac50ef0456",
      "9779b6a89d6841a9ab419c0d4a865244",
      "5a5f4eb93a0241e9a092f4bb61eaa99b",
      "c309dd1c0edd4b71a6d331e5323c9a9e",
      "aaccc48743b544c3ab8df21df194e242"
     ]
    },
    "executionInfo": {
     "elapsed": 597,
     "status": "ok",
     "timestamp": 1623573205967,
     "user": {
      "displayName": "Vauwez Sam El Fareez",
      "photoUrl": "https://lh3.googleusercontent.com/a-/AOh14GiiszMbUnUPzlsIyPzYs7zFnTeAylxGPSGynOpI=s64",
      "userId": "03245812126824588324"
     },
     "user_tz": -480
    },
    "id": "hdSp5YMEbTBZ",
    "outputId": "433baa2f-48e1-416f-93b3-3614bab609e8"
   },
   "outputs": [
    {
     "data": {
      "application/vnd.jupyter.widget-view+json": {
       "model_id": "2d4bba3626a249ae9495af1424052992",
       "version_major": 2,
       "version_minor": 0
      },
      "text/plain": [
       "interactive(children=(IntSlider(value=3, description='order', max=6), FloatSlider(value=0.45, description='tes…"
      ]
     },
     "metadata": {
      "tags": []
     },
     "output_type": "display_data"
    },
    {
     "data": {
      "text/plain": [
       "<function __main__.f>"
      ]
     },
     "execution_count": 48,
     "metadata": {
      "tags": []
     },
     "output_type": "execute_result"
    }
   ],
   "source": [
    "interact(f, order=(0, 6, 1), test_data=(0.05, 0.95, 0.05))"
   ]
  },
  {
   "cell_type": "markdown",
   "metadata": {
    "id": "nnLjXF4ybTBZ"
   },
   "source": [
    "<div class=\"alert alert-danger alertdanger\" style=\"margin-top: 20px\">\n",
    "<h1> Question  #4a):</h1>\n",
    "\n",
    "<b>We can perform polynomial transformations with more than one feature. Create a \"PolynomialFeatures\" object \"pr1\" of degree two?</b>\n",
    "</div>"
   ]
  },
  {
   "cell_type": "code",
   "execution_count": 49,
   "metadata": {
    "executionInfo": {
     "elapsed": 324,
     "status": "ok",
     "timestamp": 1623573287563,
     "user": {
      "displayName": "Vauwez Sam El Fareez",
      "photoUrl": "https://lh3.googleusercontent.com/a-/AOh14GiiszMbUnUPzlsIyPzYs7zFnTeAylxGPSGynOpI=s64",
      "userId": "03245812126824588324"
     },
     "user_tz": -480
    },
    "id": "O6qKNCRngfyI"
   },
   "outputs": [],
   "source": [
    "pr1 = PolynomialFeatures(degree=2)"
   ]
  },
  {
   "cell_type": "markdown",
   "metadata": {
    "id": "OgK2oz3PbTBa"
   },
   "source": [
    "Double-click <b>here</b> for the solution.\n",
    "\n",
    "<!-- The answer is below:\n",
    "\n",
    "pr1=PolynomialFeatures(degree=2)\n",
    "\n",
    "-->"
   ]
  },
  {
   "cell_type": "markdown",
   "metadata": {
    "id": "gmmVxYc4bTBa"
   },
   "source": [
    "<div class=\"alert alert-danger alertdanger\" style=\"margin-top: 20px\">\n",
    "<h1> Question  #4b): </h1>\n",
    "\n",
    "<b> \n",
    " Transform the training and testing samples for the features 'horsepower', 'curb-weight', 'engine-size' and 'highway-mpg'. Hint: use the method \"fit_transform\" \n",
    "?</b>\n",
    "</div>"
   ]
  },
  {
   "cell_type": "code",
   "execution_count": 50,
   "metadata": {
    "executionInfo": {
     "elapsed": 328,
     "status": "ok",
     "timestamp": 1623573455829,
     "user": {
      "displayName": "Vauwez Sam El Fareez",
      "photoUrl": "https://lh3.googleusercontent.com/a-/AOh14GiiszMbUnUPzlsIyPzYs7zFnTeAylxGPSGynOpI=s64",
      "userId": "03245812126824588324"
     },
     "user_tz": -480
    },
    "id": "db_kFgiRgl4h"
   },
   "outputs": [],
   "source": [
    "x_test_2poly = pr1.fit_transform(x_test[['horsepower', 'curb-weight', 'engine-size', 'highway-mpg']])\n",
    "x_train_2poly = pr1.fit_transform(x_train[[ 'horsepower', 'curb-weight', 'engine-size', 'highway-mpg']])"
   ]
  },
  {
   "cell_type": "markdown",
   "metadata": {
    "id": "nGdvtc9EbTBb"
   },
   "source": [
    "Double-click <b>here</b> for the solution.\n",
    "\n",
    "<!-- The answer is below:\n",
    "\n",
    "x_train_pr1=pr.fit_transform(x_train[['horsepower', 'curb-weight', 'engine-size', 'highway-mpg']])\n",
    "\n",
    "x_test_pr1=pr.fit_transform(x_test[['horsepower', 'curb-weight', 'engine-size', 'highway-mpg']])\n",
    "\n",
    "-->"
   ]
  },
  {
   "cell_type": "markdown",
   "metadata": {
    "id": "joPT7Ax9bTBc"
   },
   "source": [
    "<!-- The answer is below:\n",
    "\n",
    "x_train_pr1=pr.fit_transform(x_train[['horsepower', 'curb-weight', 'engine-size', 'highway-mpg']])\n",
    "x_test_pr1=pr.fit_transform(x_test[['horsepower', 'curb-weight', 'engine-size', 'highway-mpg']])\n",
    "\n",
    "-->"
   ]
  },
  {
   "cell_type": "markdown",
   "metadata": {
    "id": "qvtUZhxpbTBd"
   },
   "source": [
    "<div class=\"alert alert-danger alertdanger\" style=\"margin-top: 20px\">\n",
    "<h1> Question  #4c): </h1>\n",
    "<b> \n",
    "How many dimensions does the new feature have? Hint: use the attribute \"shape\"\n",
    "</b>\n",
    "</div>"
   ]
  },
  {
   "cell_type": "code",
   "execution_count": 51,
   "metadata": {
    "colab": {
     "base_uri": "https://localhost:8080/"
    },
    "executionInfo": {
     "elapsed": 335,
     "status": "ok",
     "timestamp": 1623573473499,
     "user": {
      "displayName": "Vauwez Sam El Fareez",
      "photoUrl": "https://lh3.googleusercontent.com/a-/AOh14GiiszMbUnUPzlsIyPzYs7zFnTeAylxGPSGynOpI=s64",
      "userId": "03245812126824588324"
     },
     "user_tz": -480
    },
    "id": "pN3dyQFVhPZV",
    "outputId": "0dfa4a90-51a3-4abd-d532-83654fb0e1f3"
   },
   "outputs": [
    {
     "data": {
      "text/plain": [
       "(91, 15)"
      ]
     },
     "execution_count": 51,
     "metadata": {
      "tags": []
     },
     "output_type": "execute_result"
    }
   ],
   "source": [
    "x_test_2poly.shape"
   ]
  },
  {
   "cell_type": "markdown",
   "metadata": {
    "id": "t1bNQKTzbTBd"
   },
   "source": [
    "Double-click <b>here</b> for the solution.\n",
    "\n",
    "<!-- The answer is below:\n",
    "\n",
    "There are now 15 features: x_train_pr1.shape \n",
    "\n",
    "-->"
   ]
  },
  {
   "cell_type": "markdown",
   "metadata": {
    "id": "TC0djz5ebTBe"
   },
   "source": [
    "<div class=\"alert alert-danger alertdanger\" style=\"margin-top: 20px\">\n",
    "<h1> Question  #4d): </h1>\n",
    "\n",
    "<b> \n",
    "Create a linear regression model \"poly1\" and train the object using the method \"fit\" using the polynomial features?</b>\n",
    "</div>"
   ]
  },
  {
   "cell_type": "code",
   "execution_count": 52,
   "metadata": {
    "colab": {
     "base_uri": "https://localhost:8080/"
    },
    "executionInfo": {
     "elapsed": 331,
     "status": "ok",
     "timestamp": 1623573613867,
     "user": {
      "displayName": "Vauwez Sam El Fareez",
      "photoUrl": "https://lh3.googleusercontent.com/a-/AOh14GiiszMbUnUPzlsIyPzYs7zFnTeAylxGPSGynOpI=s64",
      "userId": "03245812126824588324"
     },
     "user_tz": -480
    },
    "id": "6mp2zrGahV4q",
    "outputId": "91dee9b0-8baf-4af5-aef6-348a513b1961"
   },
   "outputs": [
    {
     "data": {
      "text/plain": [
       "LinearRegression(copy_X=True, fit_intercept=True, n_jobs=None, normalize=False)"
      ]
     },
     "execution_count": 52,
     "metadata": {
      "tags": []
     },
     "output_type": "execute_result"
    }
   ],
   "source": [
    "poly1 = LinearRegression()\n",
    "poly1.fit(x_train_2poly, y_train)"
   ]
  },
  {
   "cell_type": "markdown",
   "metadata": {
    "id": "ErhJ1VWJbTBf"
   },
   "source": [
    "Double-click <b>here</b> for the solution.\n",
    "\n",
    "<!-- The answer is below:\n",
    "\n",
    "poly1=linear_model.LinearRegression().fit(x_train_pr1,y_train)\n",
    "\n",
    "-->"
   ]
  },
  {
   "cell_type": "markdown",
   "metadata": {
    "id": "1qmgZPCdbTBg"
   },
   "source": [
    " <div class=\"alert alert-danger alertdanger\" style=\"margin-top: 20px\">\n",
    "<h1> Question  #4e): </h1>\n",
    "<b>Use the method  \"predict\" to predict an output on the polynomial features, then use the function \"DistributionPlot\"  to display the distribution of the predicted output vs the test data?</b>\n",
    "</div>"
   ]
  },
  {
   "cell_type": "code",
   "execution_count": 54,
   "metadata": {
    "colab": {
     "base_uri": "https://localhost:8080/",
     "height": 712
    },
    "executionInfo": {
     "elapsed": 581,
     "status": "ok",
     "timestamp": 1623573851960,
     "user": {
      "displayName": "Vauwez Sam El Fareez",
      "photoUrl": "https://lh3.googleusercontent.com/a-/AOh14GiiszMbUnUPzlsIyPzYs7zFnTeAylxGPSGynOpI=s64",
      "userId": "03245812126824588324"
     },
     "user_tz": -480
    },
    "id": "peeHmJqNh1zA",
    "outputId": "02e0b59d-1277-4b5f-c16d-35b4012f80f9"
   },
   "outputs": [
    {
     "name": "stderr",
     "output_type": "stream",
     "text": [
      "/usr/local/lib/python3.7/dist-packages/seaborn/distributions.py:2557: FutureWarning: `distplot` is a deprecated function and will be removed in a future version. Please adapt your code to use either `displot` (a figure-level function with similar flexibility) or `kdeplot` (an axes-level function for kernel density plots).\n",
      "  warnings.warn(msg, FutureWarning)\n",
      "/usr/local/lib/python3.7/dist-packages/seaborn/distributions.py:2557: FutureWarning: `distplot` is a deprecated function and will be removed in a future version. Please adapt your code to use either `displot` (a figure-level function with similar flexibility) or `kdeplot` (an axes-level function for kernel density plots).\n",
      "  warnings.warn(msg, FutureWarning)\n"
     ]
    },
    {
     "data": {
      "image/png": "[encoded data removed]",
      "text/plain": [
       "<Figure size 864x720 with 1 Axes>"
      ]
     },
     "metadata": {
      "needs_background": "light",
      "tags": []
     },
     "output_type": "display_data"
    }
   ],
   "source": [
    "predicted_2poly = poly1.predict(x_train_2poly)\n",
    "DistributionPlot(y_test, predicted_2poly, \"Actual value\", \"Predicted value\", \"Predicted vs Actual\")"
   ]
  },
  {
   "cell_type": "markdown",
   "metadata": {
    "id": "ezIzoY1LbTBg"
   },
   "source": [
    "Double-click <b>here</b> for the solution.\n",
    "\n",
    "<!-- The answer is below:\n",
    "\n",
    "yhat_test1=poly1.predict(x_train_pr1)\n",
    "Title='Distribution  Plot of  Predicted Value Using Test Data vs Data Distribution of Test Data'\n",
    "DistributionPlot(y_test, yhat_test1, \"Actual Values (Test)\", \"Predicted Values (Test)\", Title)\n",
    "\n",
    "-->"
   ]
  },
  {
   "cell_type": "markdown",
   "metadata": {
    "id": "RBarKcrMbTBh"
   },
   "source": [
    "<div class=\"alert alert-danger alertdanger\" style=\"margin-top: 20px\">\n",
    "<h1> Question  #4f): </h1>\n",
    "\n",
    "<b>Use the distribution plot to determine the two regions were the predicted prices are less accurate than the actual prices.</b>\n",
    "</div>"
   ]
  },
  {
   "cell_type": "markdown",
   "metadata": {
    "id": "dAFDw_eWbTBi"
   },
   "source": [
    "Double-click <b>here</b> for the solution.\n",
    "\n",
    "<!-- The answer is below:\n",
    "\n",
    "The predicted value is lower than actual value for cars where the price  $ 10,000 range, conversely the predicted price is larger than the price cost in the $30, 000 to $40,000 range. As such the model is not as accurate in these ranges .\n",
    "    \n",
    "-->\n",
    "\n",
    "<img src = \"https://ibm.box.com/shared/static/c35ipv9zeanu7ynsnppb8gjo2re5ugeg.png\" width = 700, align = \"center\">\n"
   ]
  },
  {
   "cell_type": "markdown",
   "metadata": {
    "id": "hiU7HrPJbTBi"
   },
   "source": [
    "<h2 id=\"ref3\">Part 3: Ridge regression</h2> "
   ]
  },
  {
   "cell_type": "markdown",
   "metadata": {
    "id": "p0WRZbqfbTBj"
   },
   "source": [
    " In this section, we will review Ridge Regression we will see how the parameter Alfa changes the model. Just a note here our test data will be used as validation data."
   ]
  },
  {
   "cell_type": "markdown",
   "metadata": {
    "id": "znqykZkvbTBk"
   },
   "source": [
    " Let's perform a degree two polynomial transformation on our data. "
   ]
  },
  {
   "cell_type": "code",
   "execution_count": 55,
   "metadata": {
    "collapsed": true,
    "executionInfo": {
     "elapsed": 325,
     "status": "ok",
     "timestamp": 1623573993977,
     "user": {
      "displayName": "Vauwez Sam El Fareez",
      "photoUrl": "https://lh3.googleusercontent.com/a-/AOh14GiiszMbUnUPzlsIyPzYs7zFnTeAylxGPSGynOpI=s64",
      "userId": "03245812126824588324"
     },
     "user_tz": -480
    },
    "id": "_6nI7RoVbTBl"
   },
   "outputs": [],
   "source": [
    "pr=PolynomialFeatures(degree=2)\n",
    "x_train_pr=pr.fit_transform(x_train[['horsepower', 'curb-weight', 'engine-size', 'highway-mpg','normalized-losses','symboling']])\n",
    "x_test_pr=pr.fit_transform(x_test[['horsepower', 'curb-weight', 'engine-size', 'highway-mpg','normalized-losses','symboling']])"
   ]
  },
  {
   "cell_type": "markdown",
   "metadata": {
    "id": "BBchaM7ebTBl"
   },
   "source": [
    " Let's import  <b>Ridge</b>  from the module <b>linear models</b>."
   ]
  },
  {
   "cell_type": "code",
   "execution_count": 56,
   "metadata": {
    "collapsed": true,
    "executionInfo": {
     "elapsed": 377,
     "status": "ok",
     "timestamp": 1623574005627,
     "user": {
      "displayName": "Vauwez Sam El Fareez",
      "photoUrl": "https://lh3.googleusercontent.com/a-/AOh14GiiszMbUnUPzlsIyPzYs7zFnTeAylxGPSGynOpI=s64",
      "userId": "03245812126824588324"
     },
     "user_tz": -480
    },
    "id": "JCf8DCYpbTBm"
   },
   "outputs": [],
   "source": [
    "from sklearn.linear_model import Ridge"
   ]
  },
  {
   "cell_type": "markdown",
   "metadata": {
    "id": "36eu_CWJbTBm"
   },
   "source": [
    "Let's create a Ridge regression object, setting the regularization parameter to 0.1 "
   ]
  },
  {
   "cell_type": "code",
   "execution_count": 57,
   "metadata": {
    "collapsed": true,
    "executionInfo": {
     "elapsed": 350,
     "status": "ok",
     "timestamp": 1623574017443,
     "user": {
      "displayName": "Vauwez Sam El Fareez",
      "photoUrl": "https://lh3.googleusercontent.com/a-/AOh14GiiszMbUnUPzlsIyPzYs7zFnTeAylxGPSGynOpI=s64",
      "userId": "03245812126824588324"
     },
     "user_tz": -480
    },
    "id": "2ODAGPi1bTBn"
   },
   "outputs": [],
   "source": [
    "RigeModel=Ridge(alpha=0.1)"
   ]
  },
  {
   "cell_type": "markdown",
   "metadata": {
    "id": "JZJXZTQIbTBn"
   },
   "source": [
    "Like regular regression, you can fit the model using the method <b>fit</b>."
   ]
  },
  {
   "cell_type": "code",
   "execution_count": 58,
   "metadata": {
    "colab": {
     "base_uri": "https://localhost:8080/"
    },
    "executionInfo": {
     "elapsed": 332,
     "status": "ok",
     "timestamp": 1623574021736,
     "user": {
      "displayName": "Vauwez Sam El Fareez",
      "photoUrl": "https://lh3.googleusercontent.com/a-/AOh14GiiszMbUnUPzlsIyPzYs7zFnTeAylxGPSGynOpI=s64",
      "userId": "03245812126824588324"
     },
     "user_tz": -480
    },
    "id": "zgiGLz_ZbTBo",
    "outputId": "1a7dca5c-e5d3-4fd6-ab8b-f75e797737ce"
   },
   "outputs": [
    {
     "name": "stderr",
     "output_type": "stream",
     "text": [
      "/usr/local/lib/python3.7/dist-packages/sklearn/linear_model/_ridge.py:148: LinAlgWarning: Ill-conditioned matrix (rcond=1.02972e-16): result may not be accurate.\n",
      "  overwrite_a=True).T\n"
     ]
    },
    {
     "data": {
      "text/plain": [
       "Ridge(alpha=0.1, copy_X=True, fit_intercept=True, max_iter=None,\n",
       "      normalize=False, random_state=None, solver='auto', tol=0.001)"
      ]
     },
     "execution_count": 58,
     "metadata": {
      "tags": []
     },
     "output_type": "execute_result"
    }
   ],
   "source": [
    "RigeModel.fit(x_train_pr, y_train)"
   ]
  },
  {
   "cell_type": "markdown",
   "metadata": {
    "id": "I-Aj3AEXbTBo"
   },
   "source": [
    " Similarly, you can obtain a prediction: "
   ]
  },
  {
   "cell_type": "code",
   "execution_count": 59,
   "metadata": {
    "executionInfo": {
     "elapsed": 338,
     "status": "ok",
     "timestamp": 1623574123260,
     "user": {
      "displayName": "Vauwez Sam El Fareez",
      "photoUrl": "https://lh3.googleusercontent.com/a-/AOh14GiiszMbUnUPzlsIyPzYs7zFnTeAylxGPSGynOpI=s64",
      "userId": "03245812126824588324"
     },
     "user_tz": -480
    },
    "id": "zs4BJoRIbTBp"
   },
   "outputs": [],
   "source": [
    "yhat = RigeModel.predict(x_test_pr)"
   ]
  },
  {
   "cell_type": "markdown",
   "metadata": {
    "id": "ImnKqsoGbTBp"
   },
   "source": [
    "Let's compare the first five predicted samples to our test set "
   ]
  },
  {
   "cell_type": "code",
   "execution_count": 60,
   "metadata": {
    "colab": {
     "base_uri": "https://localhost:8080/"
    },
    "executionInfo": {
     "elapsed": 326,
     "status": "ok",
     "timestamp": 1623574143608,
     "user": {
      "displayName": "Vauwez Sam El Fareez",
      "photoUrl": "https://lh3.googleusercontent.com/a-/AOh14GiiszMbUnUPzlsIyPzYs7zFnTeAylxGPSGynOpI=s64",
      "userId": "03245812126824588324"
     },
     "user_tz": -480
    },
    "id": "aqLTXyjobTBp",
    "outputId": "fdc5e877-a491-4d41-f70c-c06d8c79fd9b"
   },
   "outputs": [
    {
     "name": "stdout",
     "output_type": "stream",
     "text": [
      "predicted: [ 6567.83081933  9597.97151399 20836.22326843 19347.69543463]\n",
      "test set : [ 6295. 10698. 13860. 13499.]\n"
     ]
    }
   ],
   "source": [
    "print('predicted:', yhat[0:4])\n",
    "print('test set :', y_test[0:4].values)"
   ]
  },
  {
   "cell_type": "markdown",
   "metadata": {
    "id": "TfO_7BQ6bTBq"
   },
   "source": [
    "We select the value of Alfa that minimizes the test error, for example, we can use a for loop. "
   ]
  },
  {
   "cell_type": "code",
   "execution_count": 61,
   "metadata": {
    "executionInfo": {
     "elapsed": 2914,
     "status": "ok",
     "timestamp": 1623574219308,
     "user": {
      "displayName": "Vauwez Sam El Fareez",
      "photoUrl": "https://lh3.googleusercontent.com/a-/AOh14GiiszMbUnUPzlsIyPzYs7zFnTeAylxGPSGynOpI=s64",
      "userId": "03245812126824588324"
     },
     "user_tz": -480
    },
    "id": "7iWKjG74bTBq"
   },
   "outputs": [],
   "source": [
    "Rsqu_test = []\n",
    "Rsqu_train = []\n",
    "dummy1 = []\n",
    "ALFA = 10 * np.array(range(0,1000))\n",
    "for alfa in ALFA:\n",
    "    RigeModel = Ridge(alpha=alfa) \n",
    "    RigeModel.fit(x_train_pr, y_train)\n",
    "    Rsqu_test.append(RigeModel.score(x_test_pr, y_test))\n",
    "    Rsqu_train.append(RigeModel.score(x_train_pr, y_train))"
   ]
  },
  {
   "cell_type": "markdown",
   "metadata": {
    "id": "0lxFPe4ybTBr"
   },
   "source": [
    "We can plot out the value of R^2 for different Alphas "
   ]
  },
  {
   "cell_type": "code",
   "execution_count": 62,
   "metadata": {
    "colab": {
     "base_uri": "https://localhost:8080/",
     "height": 623
    },
    "executionInfo": {
     "elapsed": 397,
     "status": "ok",
     "timestamp": 1623574227403,
     "user": {
      "displayName": "Vauwez Sam El Fareez",
      "photoUrl": "https://lh3.googleusercontent.com/a-/AOh14GiiszMbUnUPzlsIyPzYs7zFnTeAylxGPSGynOpI=s64",
      "userId": "03245812126824588324"
     },
     "user_tz": -480
    },
    "id": "tApIkeILbTBs",
    "outputId": "65725843-50fc-4272-a115-c5f9de67c572"
   },
   "outputs": [
    {
     "data": {
      "text/plain": [
       "<matplotlib.legend.Legend at 0x7f7951e75fd0>"
      ]
     },
     "execution_count": 62,
     "metadata": {
      "tags": []
     },
     "output_type": "execute_result"
    },
    {
     "data": {
      "image/png": "[encoded data removed]",
      "text/plain": [
       "<Figure size 864x720 with 1 Axes>"
      ]
     },
     "metadata": {
      "needs_background": "light",
      "tags": []
     },
     "output_type": "display_data"
    }
   ],
   "source": [
    "width = 12\n",
    "height = 10\n",
    "plt.figure(figsize=(width, height))\n",
    "\n",
    "plt.plot(ALFA,Rsqu_test, label='validation data  ')\n",
    "plt.plot(ALFA,Rsqu_train, 'r', label='training Data ')\n",
    "plt.xlabel('alpha')\n",
    "plt.ylabel('R^2')\n",
    "plt.legend()"
   ]
  },
  {
   "cell_type": "markdown",
   "metadata": {
    "id": "iRKm5Yx-bTBs"
   },
   "source": [
    "Figure 6:The blue line represents the R^2 of the test data, and the red line represents the R^2 of the training data. The x-axis represents the different values of Alfa "
   ]
  },
  {
   "cell_type": "markdown",
   "metadata": {
    "id": "GOO0TVdXbTBs"
   },
   "source": [
    "The red line in figure 6 represents the  R^2 of the test data, as Alpha increases the R^2 decreases; therefore as Alfa increases the model performs worse on the test data.  The blue line represents the R^2 on the validation data, as the value for Alfa increases the R^2 decreases.   "
   ]
  },
  {
   "cell_type": "markdown",
   "metadata": {
    "id": "nL-LlKzhbTBs"
   },
   "source": [
    "<div class=\"alert alert-danger alertdanger\" style=\"margin-top: 20px\">\n",
    "<h1> Question  #5): </h1>\n",
    "\n",
    "Perform Ridge regression and calculate the R^2 using the polynomial features, use the training data to train the model and test data to test the model. The parameter alpha should be set to  10.\n",
    "</div>"
   ]
  },
  {
   "cell_type": "code",
   "execution_count": 64,
   "metadata": {
    "colab": {
     "base_uri": "https://localhost:8080/"
    },
    "executionInfo": {
     "elapsed": 344,
     "status": "ok",
     "timestamp": 1623574444710,
     "user": {
      "displayName": "Vauwez Sam El Fareez",
      "photoUrl": "https://lh3.googleusercontent.com/a-/AOh14GiiszMbUnUPzlsIyPzYs7zFnTeAylxGPSGynOpI=s64",
      "userId": "03245812126824588324"
     },
     "user_tz": -480
    },
    "id": "14FZd2OdbTBt",
    "outputId": "ab993847-7d34-4a39-fb3e-a6f3d010f93d"
   },
   "outputs": [
    {
     "data": {
      "text/plain": [
       "0.5418576440206698"
      ]
     },
     "execution_count": 64,
     "metadata": {
      "tags": []
     },
     "output_type": "execute_result"
    }
   ],
   "source": [
    "# Write your code below and press Shift+Enter to execute \n",
    "RigeModel = Ridge(alpha=10) \n",
    "RigeModel.fit(x_train_pr, y_train)\n",
    "RigeModel.score(x_test_pr, y_test)"
   ]
  },
  {
   "cell_type": "markdown",
   "metadata": {
    "id": "HsElGEjbbTBt"
   },
   "source": [
    "Double-click <b>here</b> for the solution.\n",
    "\n",
    "<!-- The answer is below:\n",
    "\n",
    "RigeModel = Ridge(alpha=0) \n",
    "RigeModel.fit(x_train_pr, y_train)\n",
    "RigeModel.score(x_test_pr, y_test)\n",
    "\n",
    "-->"
   ]
  },
  {
   "cell_type": "markdown",
   "metadata": {
    "id": "2xrlTdP-bTBt"
   },
   "source": [
    "<h2 id=\"ref4\">Part 4: Grid Search</h2>"
   ]
  },
  {
   "cell_type": "markdown",
   "metadata": {
    "id": "7JWRQTlgbTBu"
   },
   "source": [
    "The term Alfa is a hyperparameter, sklearn has the class  <b>GridSearchCV</b> to make the process of finding the best hyperparameter simpler."
   ]
  },
  {
   "cell_type": "markdown",
   "metadata": {
    "id": "iQogCEbkbTBu"
   },
   "source": [
    "Let's import <b>GridSearchCV</b> from  the module <b>model_selection</b>."
   ]
  },
  {
   "cell_type": "code",
   "execution_count": 65,
   "metadata": {
    "executionInfo": {
     "elapsed": 583,
     "status": "ok",
     "timestamp": 1623574459846,
     "user": {
      "displayName": "Vauwez Sam El Fareez",
      "photoUrl": "https://lh3.googleusercontent.com/a-/AOh14GiiszMbUnUPzlsIyPzYs7zFnTeAylxGPSGynOpI=s64",
      "userId": "03245812126824588324"
     },
     "user_tz": -480
    },
    "id": "3h25_FdfbTBu"
   },
   "outputs": [],
   "source": [
    "from sklearn.model_selection import GridSearchCV"
   ]
  },
  {
   "cell_type": "markdown",
   "metadata": {
    "id": "lt1x-DxFbTBu"
   },
   "source": [
    "We create a dictionary of parameter values:"
   ]
  },
  {
   "cell_type": "code",
   "execution_count": 66,
   "metadata": {
    "colab": {
     "base_uri": "https://localhost:8080/"
    },
    "executionInfo": {
     "elapsed": 333,
     "status": "ok",
     "timestamp": 1623574467496,
     "user": {
      "displayName": "Vauwez Sam El Fareez",
      "photoUrl": "https://lh3.googleusercontent.com/a-/AOh14GiiszMbUnUPzlsIyPzYs7zFnTeAylxGPSGynOpI=s64",
      "userId": "03245812126824588324"
     },
     "user_tz": -480
    },
    "id": "TLPFPsdCbTBv",
    "outputId": "a50edbc8-1a3a-4f19-e61c-06bf04c8dabe"
   },
   "outputs": [
    {
     "data": {
      "text/plain": [
       "[{'alpha': [0.001, 0.1, 1, 10, 100, 1000, 10000, 100000, 100000]}]"
      ]
     },
     "execution_count": 66,
     "metadata": {
      "tags": []
     },
     "output_type": "execute_result"
    }
   ],
   "source": [
    "parameters1= [{'alpha': [0.001,0.1,1, 10, 100, 1000, 10000, 100000, 100000]}]\n",
    "parameters1"
   ]
  },
  {
   "cell_type": "markdown",
   "metadata": {
    "id": "_8NyEpBObTBv"
   },
   "source": [
    "Create a ridge regions object:"
   ]
  },
  {
   "cell_type": "code",
   "execution_count": 67,
   "metadata": {
    "colab": {
     "base_uri": "https://localhost:8080/"
    },
    "executionInfo": {
     "elapsed": 365,
     "status": "ok",
     "timestamp": 1623574474358,
     "user": {
      "displayName": "Vauwez Sam El Fareez",
      "photoUrl": "https://lh3.googleusercontent.com/a-/AOh14GiiszMbUnUPzlsIyPzYs7zFnTeAylxGPSGynOpI=s64",
      "userId": "03245812126824588324"
     },
     "user_tz": -480
    },
    "id": "dQ6JIgMGbTBv",
    "outputId": "0720bcc7-d532-47bf-cfbc-bab918d4775e"
   },
   "outputs": [
    {
     "data": {
      "text/plain": [
       "Ridge(alpha=1.0, copy_X=True, fit_intercept=True, max_iter=None,\n",
       "      normalize=False, random_state=None, solver='auto', tol=0.001)"
      ]
     },
     "execution_count": 67,
     "metadata": {
      "tags": []
     },
     "output_type": "execute_result"
    }
   ],
   "source": [
    "RR=Ridge()\n",
    "RR"
   ]
  },
  {
   "cell_type": "markdown",
   "metadata": {
    "id": "qPcqt3tQbTBw"
   },
   "source": [
    "Create a ridge grid search object "
   ]
  },
  {
   "cell_type": "code",
   "execution_count": 68,
   "metadata": {
    "executionInfo": {
     "elapsed": 339,
     "status": "ok",
     "timestamp": 1623574482940,
     "user": {
      "displayName": "Vauwez Sam El Fareez",
      "photoUrl": "https://lh3.googleusercontent.com/a-/AOh14GiiszMbUnUPzlsIyPzYs7zFnTeAylxGPSGynOpI=s64",
      "userId": "03245812126824588324"
     },
     "user_tz": -480
    },
    "id": "OF7PBLi4bTBw"
   },
   "outputs": [],
   "source": [
    "Grid1 = GridSearchCV(RR, parameters1,cv=4)"
   ]
  },
  {
   "cell_type": "markdown",
   "metadata": {
    "id": "miXQj8NsbTBw"
   },
   "source": [
    "Fit the model "
   ]
  },
  {
   "cell_type": "code",
   "execution_count": 69,
   "metadata": {
    "colab": {
     "base_uri": "https://localhost:8080/"
    },
    "executionInfo": {
     "elapsed": 326,
     "status": "ok",
     "timestamp": 1623574493827,
     "user": {
      "displayName": "Vauwez Sam El Fareez",
      "photoUrl": "https://lh3.googleusercontent.com/a-/AOh14GiiszMbUnUPzlsIyPzYs7zFnTeAylxGPSGynOpI=s64",
      "userId": "03245812126824588324"
     },
     "user_tz": -480
    },
    "id": "Whet30pdbTBx",
    "outputId": "cf2e88f1-72f7-4164-cb54-97dc683f6960"
   },
   "outputs": [
    {
     "data": {
      "text/plain": [
       "GridSearchCV(cv=4, error_score=nan,\n",
       "             estimator=Ridge(alpha=1.0, copy_X=True, fit_intercept=True,\n",
       "                             max_iter=None, normalize=False, random_state=None,\n",
       "                             solver='auto', tol=0.001),\n",
       "             iid='deprecated', n_jobs=None,\n",
       "             param_grid=[{'alpha': [0.001, 0.1, 1, 10, 100, 1000, 10000, 100000,\n",
       "                                    100000]}],\n",
       "             pre_dispatch='2*n_jobs', refit=True, return_train_score=False,\n",
       "             scoring=None, verbose=0)"
      ]
     },
     "execution_count": 69,
     "metadata": {
      "tags": []
     },
     "output_type": "execute_result"
    }
   ],
   "source": [
    "Grid1.fit(x_data[['horsepower', 'curb-weight', 'engine-size', 'highway-mpg']], y_data)"
   ]
  },
  {
   "cell_type": "markdown",
   "metadata": {
    "id": "TtEVV3vPbTBx"
   },
   "source": [
    "The object finds the best parameter values on the validation data. We can obtain the estimator with the best parameters and assign it to the variable BestRR as follows:"
   ]
  },
  {
   "cell_type": "code",
   "execution_count": 70,
   "metadata": {
    "colab": {
     "base_uri": "https://localhost:8080/"
    },
    "executionInfo": {
     "elapsed": 335,
     "status": "ok",
     "timestamp": 1623574515921,
     "user": {
      "displayName": "Vauwez Sam El Fareez",
      "photoUrl": "https://lh3.googleusercontent.com/a-/AOh14GiiszMbUnUPzlsIyPzYs7zFnTeAylxGPSGynOpI=s64",
      "userId": "03245812126824588324"
     },
     "user_tz": -480
    },
    "id": "yRiWao_hbTBx",
    "outputId": "ef257262-6321-4cf2-ce2c-cafe229bc48c"
   },
   "outputs": [
    {
     "data": {
      "text/plain": [
       "Ridge(alpha=10000, copy_X=True, fit_intercept=True, max_iter=None,\n",
       "      normalize=False, random_state=None, solver='auto', tol=0.001)"
      ]
     },
     "execution_count": 70,
     "metadata": {
      "tags": []
     },
     "output_type": "execute_result"
    }
   ],
   "source": [
    "BestRR=Grid1.best_estimator_\n",
    "BestRR"
   ]
  },
  {
   "cell_type": "markdown",
   "metadata": {
    "id": "MMFLoIZvbTBx"
   },
   "source": [
    " We now test our model on the test data "
   ]
  },
  {
   "cell_type": "code",
   "execution_count": 71,
   "metadata": {
    "colab": {
     "base_uri": "https://localhost:8080/"
    },
    "executionInfo": {
     "elapsed": 348,
     "status": "ok",
     "timestamp": 1623574529623,
     "user": {
      "displayName": "Vauwez Sam El Fareez",
      "photoUrl": "https://lh3.googleusercontent.com/a-/AOh14GiiszMbUnUPzlsIyPzYs7zFnTeAylxGPSGynOpI=s64",
      "userId": "03245812126824588324"
     },
     "user_tz": -480
    },
    "id": "KkD8_cQgbTBy",
    "outputId": "04a6f181-e0a2-4e4b-e983-b089d4a6b5e5"
   },
   "outputs": [
    {
     "data": {
      "text/plain": [
       "0.8411649831036152"
      ]
     },
     "execution_count": 71,
     "metadata": {
      "tags": []
     },
     "output_type": "execute_result"
    }
   ],
   "source": [
    "BestRR.score(x_test[['horsepower', 'curb-weight', 'engine-size', 'highway-mpg']], y_test)"
   ]
  },
  {
   "cell_type": "markdown",
   "metadata": {
    "id": "UVqKUD1NbTBy"
   },
   "source": [
    "<div class=\"alert alert-danger alertdanger\" style=\"margin-top: 20px\">\n",
    "<h1> Question  #6): </h1>\n",
    "Perform a grid search for the alpha parameter and the normalization parameter, then find the best values of the parameters\n",
    "</div>"
   ]
  },
  {
   "cell_type": "code",
   "execution_count": 72,
   "metadata": {
    "colab": {
     "base_uri": "https://localhost:8080/"
    },
    "executionInfo": {
     "elapsed": 353,
     "status": "ok",
     "timestamp": 1623574765915,
     "user": {
      "displayName": "Vauwez Sam El Fareez",
      "photoUrl": "https://lh3.googleusercontent.com/a-/AOh14GiiszMbUnUPzlsIyPzYs7zFnTeAylxGPSGynOpI=s64",
      "userId": "03245812126824588324"
     },
     "user_tz": -480
    },
    "id": "ON145lJHbTBy",
    "outputId": "17b5938b-7186-4f48-a027-146b70be88c4"
   },
   "outputs": [
    {
     "data": {
      "text/plain": [
       "Ridge(alpha=1000, copy_X=True, fit_intercept=True, max_iter=None,\n",
       "      normalize=False, random_state=None, solver='auto', tol=0.001)"
      ]
     },
     "execution_count": 72,
     "metadata": {
      "tags": []
     },
     "output_type": "execute_result"
    }
   ],
   "source": [
    "# Write your code below and press Shift+Enter to execute \n",
    "parameters = [{'alpha': [0.001,0.1,1, 10, 100, 1000, 10000, 100000, 100000]}] \n",
    "ridge_reg = Ridge()\n",
    "grid = GridSearchCV(ridge_reg, parameters, cv=2)\n",
    "grid.fit(x_data[['horsepower', 'curb-weight', 'engine-size', 'highway-mpg']], y_data)\n",
    "grid.best_estimator_"
   ]
  },
  {
   "cell_type": "markdown",
   "metadata": {
    "id": "CYZyj2ZNbTBz"
   },
   "source": [
    "Double-click <b>here</b> for the solution.\n",
    "\n",
    "<!-- The answer is below:\n",
    "\n",
    "parameters2= [{'alpha': [0.001,0.1,1, 10, 100, 1000,10000,100000,100000],'normalize':[True,False]} ]\n",
    "Grid2 = GridSearchCV(Ridge(), parameters2,cv=4)\n",
    "Grid2.fit(x_data[['horsepower', 'curb-weight', 'engine-size', 'highway-mpg']],y_data)\n",
    "Grid2.best_estimator_\n",
    "\n",
    "-->"
   ]
  },
  {
   "cell_type": "markdown",
   "metadata": {
    "id": "1xBl0cVcbTB0"
   },
   "source": [
    "<h1>Thank you for completing this notebook!</h1>"
   ]
  },
  {
   "cell_type": "markdown",
   "metadata": {
    "id": "XHzAhL8_bTB0"
   },
   "source": [
    "<div class=\"alert alert-block alert-info\" style=\"margin-top: 20px\">\n",
    "\n",
    "    <p><a href=\"https://cocl.us/DA0101EN_NotbookLink_Top_bottom\"><img src=\"https://s3-api.us-geo.objectstorage.softlayer.net/cf-courses-data/CognitiveClass/DA0101EN/Images/BottomAd.png\" width=\"750\" align=\"center\"></a></p>\n",
    "</div>\n"
   ]
  },
  {
   "cell_type": "markdown",
   "metadata": {
    "id": "UPJFlEkibTB0"
   },
   "source": [
    "<h3>About the Authors:</h3>\n",
    "\n",
    "This notebook was written by <a href=\"https://www.linkedin.com/in/mahdi-noorian-58219234/\" target=\"_blank\">Mahdi Noorian PhD</a>, <a href=\"https://www.linkedin.com/in/joseph-s-50398b136/\" target=\"_blank\">Joseph Santarcangelo</a>, Bahare Talayian, Eric Xiao, Steven Dong, Parizad, Hima Vsudevan and <a href=\"https://www.linkedin.com/in/fiorellawever/\" target=\"_blank\">Fiorella Wenver</a> and <a href=\" https://www.linkedin.com/in/yi-leng-yao-84451275/ \" target=\"_blank\" >Yi Yao</a>.\n",
    "\n",
    "<p><a href=\"https://www.linkedin.com/in/joseph-s-50398b136/\" target=\"_blank\">Joseph Santarcangelo</a> is a Data Scientist at IBM, and holds a PhD in Electrical Engineering. His research focused on using Machine Learning, Signal Processing, and Computer Vision to determine how videos impact human cognition. Joseph has been working for IBM since he completed his PhD.</p>"
   ]
  },
  {
   "cell_type": "markdown",
   "metadata": {
    "id": "LYqYBB1-bTB1"
   },
   "source": [
    "<hr>\n",
    "<p>Copyright &copy; 2018 IBM Developer Skills Network. This notebook and its source code are released under the terms of the <a href=\"https://cognitiveclass.ai/mit-license/\">MIT License</a>.</p>"
   ]
  }
 ],
 "metadata": {
  "anaconda-cloud": {},
  "colab": {
   "name": "Model-Evaluation-and-Refinement.ipynb",
   "provenance": []
  },
  "kernelspec": {
   "display_name": "Python 3 (ipykernel)",
   "language": "python",
   "name": "python3"
  },
  "language_info": {
   "codemirror_mode": {
    "name": "ipython",
    "version": 3
   },
   "file_extension": ".py",
   "mimetype": "text/x-python",
   "name": "python",
   "nbconvert_exporter": "python",
   "pygments_lexer": "ipython3",
   "version": "3.9.7"
  },
  "widgets": {
   "application/vnd.jupyter.widget-state+json": {
    "0a27259a370e43f4a8e61a52abdbcb36": {
     "model_module": "@jupyter-widgets/controls",
     "model_name": "FloatSliderModel",
     "state": {
      "_dom_classes": [],
      "_model_module": "@jupyter-widgets/controls",
      "_model_module_version": "1.5.0",
      "_model_name": "FloatSliderModel",
      "_view_count": null,
      "_view_module": "@jupyter-widgets/controls",
      "_view_module_version": "1.5.0",
      "_view_name": "FloatSliderView",
      "continuous_update": true,
      "description": "test_data",
      "description_tooltip": null,
      "disabled": false,
      "layout": "IPY_MODEL_c309dd1c0edd4b71a6d331e5323c9a9e",
      "max": 0.95,
      "min": 0.05,
      "orientation": "horizontal",
      "readout": true,
      "readout_format": ".2f",
      "step": 0.05,
      "style": "IPY_MODEL_5a5f4eb93a0241e9a092f4bb61eaa99b",
      "value": 0.2
     }
    },
    "2d4bba3626a249ae9495af1424052992": {
     "model_module": "@jupyter-widgets/controls",
     "model_name": "VBoxModel",
     "state": {
      "_dom_classes": [
       "widget-interact"
      ],
      "_model_module": "@jupyter-widgets/controls",
      "_model_module_version": "1.5.0",
      "_model_name": "VBoxModel",
      "_view_count": null,
      "_view_module": "@jupyter-widgets/controls",
      "_view_module_version": "1.5.0",
      "_view_name": "VBoxView",
      "box_style": "",
      "children": [
       "IPY_MODEL_4c1085e0490b4913ad93c740e423975b",
       "IPY_MODEL_0a27259a370e43f4a8e61a52abdbcb36",
       "IPY_MODEL_fb8ae66f686e465f853e2d93838963af"
      ],
      "layout": "IPY_MODEL_8f514ff31ab64830be61fba8d0152a08"
     }
    },
    "4c1085e0490b4913ad93c740e423975b": {
     "model_module": "@jupyter-widgets/controls",
     "model_name": "IntSliderModel",
     "state": {
      "_dom_classes": [],
      "_model_module": "@jupyter-widgets/controls",
      "_model_module_version": "1.5.0",
      "_model_name": "IntSliderModel",
      "_view_count": null,
      "_view_module": "@jupyter-widgets/controls",
      "_view_module_version": "1.5.0",
      "_view_name": "IntSliderView",
      "continuous_update": true,
      "description": "order",
      "description_tooltip": null,
      "disabled": false,
      "layout": "IPY_MODEL_9779b6a89d6841a9ab419c0d4a865244",
      "max": 6,
      "min": 0,
      "orientation": "horizontal",
      "readout": true,
      "readout_format": "d",
      "step": 1,
      "style": "IPY_MODEL_be1c2fa9e96d479bbc06ddac50ef0456",
      "value": 3
     }
    },
    "5a5f4eb93a0241e9a092f4bb61eaa99b": {
     "model_module": "@jupyter-widgets/controls",
     "model_name": "SliderStyleModel",
     "state": {
      "_model_module": "@jupyter-widgets/controls",
      "_model_module_version": "1.5.0",
      "_model_name": "SliderStyleModel",
      "_view_count": null,
      "_view_module": "@jupyter-widgets/base",
      "_view_module_version": "1.2.0",
      "_view_name": "StyleView",
      "description_width": "",
      "handle_color": null
     }
    },
    "8f514ff31ab64830be61fba8d0152a08": {
     "model_module": "@jupyter-widgets/base",
     "model_name": "LayoutModel",
     "state": {
      "_model_module": "@jupyter-widgets/base",
      "_model_module_version": "1.2.0",
      "_model_name": "LayoutModel",
      "_view_count": null,
      "_view_module": "@jupyter-widgets/base",
      "_view_module_version": "1.2.0",
      "_view_name": "LayoutView",
      "align_content": null,
      "align_items": null,
      "align_self": null,
      "border": null,
      "bottom": null,
      "display": null,
      "flex": null,
      "flex_flow": null,
      "grid_area": null,
      "grid_auto_columns": null,
      "grid_auto_flow": null,
      "grid_auto_rows": null,
      "grid_column": null,
      "grid_gap": null,
      "grid_row": null,
      "grid_template_areas": null,
      "grid_template_columns": null,
      "grid_template_rows": null,
      "height": null,
      "justify_content": null,
      "justify_items": null,
      "left": null,
      "margin": null,
      "max_height": null,
      "max_width": null,
      "min_height": null,
      "min_width": null,
      "object_fit": null,
      "object_position": null,
      "order": null,
      "overflow": null,
      "overflow_x": null,
      "overflow_y": null,
      "padding": null,
      "right": null,
      "top": null,
      "visibility": null,
      "width": null
     }
    },
    "9779b6a89d6841a9ab419c0d4a865244": {
     "model_module": "@jupyter-widgets/base",
     "model_name": "LayoutModel",
     "state": {
      "_model_module": "@jupyter-widgets/base",
      "_model_module_version": "1.2.0",
      "_model_name": "LayoutModel",
      "_view_count": null,
      "_view_module": "@jupyter-widgets/base",
      "_view_module_version": "1.2.0",
      "_view_name": "LayoutView",
      "align_content": null,
      "align_items": null,
      "align_self": null,
      "border": null,
      "bottom": null,
      "display": null,
      "flex": null,
      "flex_flow": null,
      "grid_area": null,
      "grid_auto_columns": null,
      "grid_auto_flow": null,
      "grid_auto_rows": null,
      "grid_column": null,
      "grid_gap": null,
      "grid_row": null,
      "grid_template_areas": null,
      "grid_template_columns": null,
      "grid_template_rows": null,
      "height": null,
      "justify_content": null,
      "justify_items": null,
      "left": null,
      "margin": null,
      "max_height": null,
      "max_width": null,
      "min_height": null,
      "min_width": null,
      "object_fit": null,
      "object_position": null,
      "order": null,
      "overflow": null,
      "overflow_x": null,
      "overflow_y": null,
      "padding": null,
      "right": null,
      "top": null,
      "visibility": null,
      "width": null
     }
    },
    "aaccc48743b544c3ab8df21df194e242": {
     "model_module": "@jupyter-widgets/base",
     "model_name": "LayoutModel",
     "state": {
      "_model_module": "@jupyter-widgets/base",
      "_model_module_version": "1.2.0",
      "_model_name": "LayoutModel",
      "_view_count": null,
      "_view_module": "@jupyter-widgets/base",
      "_view_module_version": "1.2.0",
      "_view_name": "LayoutView",
      "align_content": null,
      "align_items": null,
      "align_self": null,
      "border": null,
      "bottom": null,
      "display": null,
      "flex": null,
      "flex_flow": null,
      "grid_area": null,
      "grid_auto_columns": null,
      "grid_auto_flow": null,
      "grid_auto_rows": null,
      "grid_column": null,
      "grid_gap": null,
      "grid_row": null,
      "grid_template_areas": null,
      "grid_template_columns": null,
      "grid_template_rows": null,
      "height": null,
      "justify_content": null,
      "justify_items": null,
      "left": null,
      "margin": null,
      "max_height": null,
      "max_width": null,
      "min_height": null,
      "min_width": null,
      "object_fit": null,
      "object_position": null,
      "order": null,
      "overflow": null,
      "overflow_x": null,
      "overflow_y": null,
      "padding": null,
      "right": null,
      "top": null,
      "visibility": null,
      "width": null
     }
    },
    "be1c2fa9e96d479bbc06ddac50ef0456": {
     "model_module": "@jupyter-widgets/controls",
     "model_name": "SliderStyleModel",
     "state": {
      "_model_module": "@jupyter-widgets/controls",
      "_model_module_version": "1.5.0",
      "_model_name": "SliderStyleModel",
      "_view_count": null,
      "_view_module": "@jupyter-widgets/base",
      "_view_module_version": "1.2.0",
      "_view_name": "StyleView",
      "description_width": "",
      "handle_color": null
     }
    },
    "c309dd1c0edd4b71a6d331e5323c9a9e": {
     "model_module": "@jupyter-widgets/base",
     "model_name": "LayoutModel",
     "state": {
      "_model_module": "@jupyter-widgets/base",
      "_model_module_version": "1.2.0",
      "_model_name": "LayoutModel",
      "_view_count": null,
      "_view_module": "@jupyter-widgets/base",
      "_view_module_version": "1.2.0",
      "_view_name": "LayoutView",
      "align_content": null,
      "align_items": null,
      "align_self": null,
      "border": null,
      "bottom": null,
      "display": null,
      "flex": null,
      "flex_flow": null,
      "grid_area": null,
      "grid_auto_columns": null,
      "grid_auto_flow": null,
      "grid_auto_rows": null,
      "grid_column": null,
      "grid_gap": null,
      "grid_row": null,
      "grid_template_areas": null,
      "grid_template_columns": null,
      "grid_template_rows": null,
      "height": null,
      "justify_content": null,
      "justify_items": null,
      "left": null,
      "margin": null,
      "max_height": null,
      "max_width": null,
      "min_height": null,
      "min_width": null,
      "object_fit": null,
      "object_position": null,
      "order": null,
      "overflow": null,
      "overflow_x": null,
      "overflow_y": null,
      "padding": null,
      "right": null,
      "top": null,
      "visibility": null,
      "width": null
     }
    },
    "fb8ae66f686e465f853e2d93838963af": {
     "model_module": "@jupyter-widgets/output",
     "model_name": "OutputModel",
     "state": {
      "_dom_classes": [],
      "_model_module": "@jupyter-widgets/output",
      "_model_module_version": "1.0.0",
      "_model_name": "OutputModel",
      "_view_count": null,
      "_view_module": "@jupyter-widgets/output",
      "_view_module_version": "1.0.0",
      "_view_name": "OutputView",
      "layout": "IPY_MODEL_aaccc48743b544c3ab8df21df194e242",
      "msg_id": "",
      "outputs": [
       {
        "image/png": "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\n",
        "metadata": {
         "needs_background": "light",
         "tags": []
        },
        "output_type": "display_data",
        "text/plain": "<Figure size 864x720 with 1 Axes>"
       }
      ]
     }
    }
   }
  }
 },
 "nbformat": 4,
 "nbformat_minor": 1
}
