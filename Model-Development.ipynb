{
 "cells": [
  {
   "cell_type": "markdown",
   "metadata": {
    "id": "D0kGyDjd47_d"
   },
   "source": [
    "# Model Development"
   ]
  },
  {
   "cell_type": "markdown",
   "metadata": {},
   "source": [
    "Sekarang kita akan membangun beberapa model untuk memprediksi harga dari mobil dengan menggunakan fitur-fitur/variabel yang ada. Ini hanya estimasi tapi bisa memberi kita hasil yang objektif pada berapa harga mobil seharusnya."
   ]
  },
  {
   "cell_type": "markdown",
   "metadata": {},
   "source": [
    "Dalam analisis data kita kadang menggunakan __Model Development__ untuk membantu kita memprediksi pengamatan yang akan data dari data yang kita punya sekarang.\n",
    "\n",
    "Sebuah model akan memberikan kita pemahaman relasi yang pasti antara variabel yang berbeda dan bagaimana variabel tersebut digunakan untuk memprediksi hasilnya."
   ]
  },
  {
   "cell_type": "markdown",
   "metadata": {
    "id": "SBfGZTDQ47_f"
   },
   "source": [
    " Import libraries"
   ]
  },
  {
   "cell_type": "code",
   "execution_count": 2,
   "metadata": {
    "executionInfo": {
     "elapsed": 318,
     "status": "ok",
     "timestamp": 1623563001054,
     "user": {
      "displayName": "Vauwez Sam El Fareez",
      "photoUrl": "https://lh3.googleusercontent.com/a-/AOh14GiiszMbUnUPzlsIyPzYs7zFnTeAylxGPSGynOpI=s64",
      "userId": "03245812126824588324"
     },
     "user_tz": -480
    },
    "id": "Kvc74S3I47_g"
   },
   "outputs": [],
   "source": [
    "import pandas as pd\n",
    "import numpy as np\n",
    "import matplotlib.pyplot as plt"
   ]
  },
  {
   "cell_type": "markdown",
   "metadata": {},
   "source": [
    "load data dan simpan dalam dataframe `df`:"
   ]
  },
  {
   "cell_type": "code",
   "execution_count": 3,
   "metadata": {
    "colab": {
     "base_uri": "https://localhost:8080/",
     "height": 301
    },
    "executionInfo": {
     "elapsed": 1252,
     "status": "ok",
     "timestamp": 1623563006230,
     "user": {
      "displayName": "Vauwez Sam El Fareez",
      "photoUrl": "https://lh3.googleusercontent.com/a-/AOh14GiiszMbUnUPzlsIyPzYs7zFnTeAylxGPSGynOpI=s64",
      "userId": "03245812126824588324"
     },
     "user_tz": -480
    },
    "id": "LrJXz50f47_j",
    "outputId": "72e251fc-faf7-420f-9c2e-27629b171bfe"
   },
   "outputs": [
    {
     "data": {
      "text/html": [
       "<div>\n",
       "<style scoped>\n",
       "    .dataframe tbody tr th:only-of-type {\n",
       "        vertical-align: middle;\n",
       "    }\n",
       "\n",
       "    .dataframe tbody tr th {\n",
       "        vertical-align: top;\n",
       "    }\n",
       "\n",
       "    .dataframe thead th {\n",
       "        text-align: right;\n",
       "    }\n",
       "</style>\n",
       "<table border=\"1\" class=\"dataframe\">\n",
       "  <thead>\n",
       "    <tr style=\"text-align: right;\">\n",
       "      <th></th>\n",
       "      <th>symboling</th>\n",
       "      <th>normalized-losses</th>\n",
       "      <th>make</th>\n",
       "      <th>aspiration</th>\n",
       "      <th>num-of-doors</th>\n",
       "      <th>body-style</th>\n",
       "      <th>drive-wheels</th>\n",
       "      <th>engine-location</th>\n",
       "      <th>wheel-base</th>\n",
       "      <th>length</th>\n",
       "      <th>width</th>\n",
       "      <th>height</th>\n",
       "      <th>curb-weight</th>\n",
       "      <th>engine-type</th>\n",
       "      <th>num-of-cylinders</th>\n",
       "      <th>engine-size</th>\n",
       "      <th>fuel-system</th>\n",
       "      <th>bore</th>\n",
       "      <th>stroke</th>\n",
       "      <th>compression-ratio</th>\n",
       "      <th>horsepower</th>\n",
       "      <th>peak-rpm</th>\n",
       "      <th>city-mpg</th>\n",
       "      <th>highway-mpg</th>\n",
       "      <th>price</th>\n",
       "      <th>city-L/100km</th>\n",
       "      <th>horsepower-binned</th>\n",
       "      <th>diesel</th>\n",
       "      <th>gas</th>\n",
       "    </tr>\n",
       "  </thead>\n",
       "  <tbody>\n",
       "    <tr>\n",
       "      <th>0</th>\n",
       "      <td>3</td>\n",
       "      <td>122</td>\n",
       "      <td>alfa-romero</td>\n",
       "      <td>std</td>\n",
       "      <td>two</td>\n",
       "      <td>convertible</td>\n",
       "      <td>rwd</td>\n",
       "      <td>front</td>\n",
       "      <td>88.6</td>\n",
       "      <td>0.811148</td>\n",
       "      <td>0.890278</td>\n",
       "      <td>48.8</td>\n",
       "      <td>2548</td>\n",
       "      <td>dohc</td>\n",
       "      <td>four</td>\n",
       "      <td>130</td>\n",
       "      <td>mpfi</td>\n",
       "      <td>3.47</td>\n",
       "      <td>2.68</td>\n",
       "      <td>9.0</td>\n",
       "      <td>111.0</td>\n",
       "      <td>5000.0</td>\n",
       "      <td>21</td>\n",
       "      <td>27</td>\n",
       "      <td>13495.0</td>\n",
       "      <td>11.190476</td>\n",
       "      <td>Medium</td>\n",
       "      <td>0</td>\n",
       "      <td>1</td>\n",
       "    </tr>\n",
       "    <tr>\n",
       "      <th>1</th>\n",
       "      <td>3</td>\n",
       "      <td>122</td>\n",
       "      <td>alfa-romero</td>\n",
       "      <td>std</td>\n",
       "      <td>two</td>\n",
       "      <td>convertible</td>\n",
       "      <td>rwd</td>\n",
       "      <td>front</td>\n",
       "      <td>88.6</td>\n",
       "      <td>0.811148</td>\n",
       "      <td>0.890278</td>\n",
       "      <td>48.8</td>\n",
       "      <td>2548</td>\n",
       "      <td>dohc</td>\n",
       "      <td>four</td>\n",
       "      <td>130</td>\n",
       "      <td>mpfi</td>\n",
       "      <td>3.47</td>\n",
       "      <td>2.68</td>\n",
       "      <td>9.0</td>\n",
       "      <td>111.0</td>\n",
       "      <td>5000.0</td>\n",
       "      <td>21</td>\n",
       "      <td>27</td>\n",
       "      <td>16500.0</td>\n",
       "      <td>11.190476</td>\n",
       "      <td>Medium</td>\n",
       "      <td>0</td>\n",
       "      <td>1</td>\n",
       "    </tr>\n",
       "    <tr>\n",
       "      <th>2</th>\n",
       "      <td>1</td>\n",
       "      <td>122</td>\n",
       "      <td>alfa-romero</td>\n",
       "      <td>std</td>\n",
       "      <td>two</td>\n",
       "      <td>hatchback</td>\n",
       "      <td>rwd</td>\n",
       "      <td>front</td>\n",
       "      <td>94.5</td>\n",
       "      <td>0.822681</td>\n",
       "      <td>0.909722</td>\n",
       "      <td>52.4</td>\n",
       "      <td>2823</td>\n",
       "      <td>ohcv</td>\n",
       "      <td>six</td>\n",
       "      <td>152</td>\n",
       "      <td>mpfi</td>\n",
       "      <td>2.68</td>\n",
       "      <td>3.47</td>\n",
       "      <td>9.0</td>\n",
       "      <td>154.0</td>\n",
       "      <td>5000.0</td>\n",
       "      <td>19</td>\n",
       "      <td>26</td>\n",
       "      <td>16500.0</td>\n",
       "      <td>12.368421</td>\n",
       "      <td>Medium</td>\n",
       "      <td>0</td>\n",
       "      <td>1</td>\n",
       "    </tr>\n",
       "    <tr>\n",
       "      <th>3</th>\n",
       "      <td>2</td>\n",
       "      <td>164</td>\n",
       "      <td>audi</td>\n",
       "      <td>std</td>\n",
       "      <td>four</td>\n",
       "      <td>sedan</td>\n",
       "      <td>fwd</td>\n",
       "      <td>front</td>\n",
       "      <td>99.8</td>\n",
       "      <td>0.848630</td>\n",
       "      <td>0.919444</td>\n",
       "      <td>54.3</td>\n",
       "      <td>2337</td>\n",
       "      <td>ohc</td>\n",
       "      <td>four</td>\n",
       "      <td>109</td>\n",
       "      <td>mpfi</td>\n",
       "      <td>3.19</td>\n",
       "      <td>3.40</td>\n",
       "      <td>10.0</td>\n",
       "      <td>102.0</td>\n",
       "      <td>5500.0</td>\n",
       "      <td>24</td>\n",
       "      <td>30</td>\n",
       "      <td>13950.0</td>\n",
       "      <td>9.791667</td>\n",
       "      <td>Medium</td>\n",
       "      <td>0</td>\n",
       "      <td>1</td>\n",
       "    </tr>\n",
       "    <tr>\n",
       "      <th>4</th>\n",
       "      <td>2</td>\n",
       "      <td>164</td>\n",
       "      <td>audi</td>\n",
       "      <td>std</td>\n",
       "      <td>four</td>\n",
       "      <td>sedan</td>\n",
       "      <td>4wd</td>\n",
       "      <td>front</td>\n",
       "      <td>99.4</td>\n",
       "      <td>0.848630</td>\n",
       "      <td>0.922222</td>\n",
       "      <td>54.3</td>\n",
       "      <td>2824</td>\n",
       "      <td>ohc</td>\n",
       "      <td>five</td>\n",
       "      <td>136</td>\n",
       "      <td>mpfi</td>\n",
       "      <td>3.19</td>\n",
       "      <td>3.40</td>\n",
       "      <td>8.0</td>\n",
       "      <td>115.0</td>\n",
       "      <td>5500.0</td>\n",
       "      <td>18</td>\n",
       "      <td>22</td>\n",
       "      <td>17450.0</td>\n",
       "      <td>13.055556</td>\n",
       "      <td>Medium</td>\n",
       "      <td>0</td>\n",
       "      <td>1</td>\n",
       "    </tr>\n",
       "  </tbody>\n",
       "</table>\n",
       "</div>"
      ],
      "text/plain": [
       "   symboling  normalized-losses         make  ... horsepower-binned diesel gas\n",
       "0          3                122  alfa-romero  ...            Medium      0   1\n",
       "1          3                122  alfa-romero  ...            Medium      0   1\n",
       "2          1                122  alfa-romero  ...            Medium      0   1\n",
       "3          2                164         audi  ...            Medium      0   1\n",
       "4          2                164         audi  ...            Medium      0   1\n",
       "\n",
       "[5 rows x 29 columns]"
      ]
     },
     "execution_count": 3,
     "metadata": {
      "tags": []
     },
     "output_type": "execute_result"
    }
   ],
   "source": [
    "df = pd.read_csv('https://raw.githubusercontent.com/dssc-unmul/data-analysis/main/automobileEDA.csv')\n",
    "df.head()"
   ]
  },
  {
   "cell_type": "markdown",
   "metadata": {},
   "source": [
    "## Linear Regression dan Multiple Linear Regression"
   ]
  },
  {
   "cell_type": "markdown",
   "metadata": {
    "id": "Vt4d25Mv47_k"
   },
   "source": [
    "### Linear Regression"
   ]
  },
  {
   "cell_type": "markdown",
   "metadata": {},
   "source": [
    "Salah satu contoh Model Data yang akan kita gunakan adalah __Regresi Linier Sederhana__ (_Simple Linear Regression_). Simple Linear Regression adalah metode untuk membantu kita memahami hubungan antara dua variabel:\n",
    "\n",
    "- Variabel prediktor/independen (X)\n",
    "- Variabel respons/dependen (yang ingin kita prediksi)(Y)\n",
    "\n",
    "Hasil dari Regresi Linier adalah fungsi linier yang memprediksi variabel respon (dependen) sebagai fungsi dari variabel prediktor (independen)."
   ]
  },
  {
   "cell_type": "markdown",
   "metadata": {
    "id": "gFAzQ_Rz47_l"
   },
   "source": [
    "$$\n",
    " Y: Target \\ Variable\\\\\n",
    " X: Prediktor \\ Variabel\n",
    "$$\n"
   ]
  },
  {
   "cell_type": "markdown",
   "metadata": {
    "id": "OqvOu4_f47_m"
   },
   "source": [
    "__Fungsi Linear__\n",
    "\n",
    "$$\n",
    "\\hat{Y} = a + b  X\n",
    "$$"
   ]
  },
  {
   "cell_type": "markdown",
   "metadata": {},
   "source": [
    "- $a$ merujuk pada __intersep__ dari garis regresi, dengan kata lain: nilai Y ketika X = 0\n",
    "- $b$ merujuk pada __slope__ dari garsi regresi, dengan kata lain: nilai dimana Y berubah ketika X naik 1 unit"
   ]
  },
  {
   "cell_type": "markdown",
   "metadata": {},
   "source": [
    "__Import package untuk linear regression__"
   ]
  },
  {
   "cell_type": "code",
   "execution_count": 4,
   "metadata": {
    "executionInfo": {
     "elapsed": 1131,
     "status": "ok",
     "timestamp": 1623563113001,
     "user": {
      "displayName": "Vauwez Sam El Fareez",
      "photoUrl": "https://lh3.googleusercontent.com/a-/AOh14GiiszMbUnUPzlsIyPzYs7zFnTeAylxGPSGynOpI=s64",
      "userId": "03245812126824588324"
     },
     "user_tz": -480
    },
    "id": "PHei1LKj47_n"
   },
   "outputs": [],
   "source": [
    "from sklearn.linear_model import LinearRegression"
   ]
  },
  {
   "cell_type": "markdown",
   "metadata": {},
   "source": [
    "__Buat object linear regression__"
   ]
  },
  {
   "cell_type": "code",
   "execution_count": 5,
   "metadata": {
    "colab": {
     "base_uri": "https://localhost:8080/"
    },
    "executionInfo": {
     "elapsed": 295,
     "status": "ok",
     "timestamp": 1623563119552,
     "user": {
      "displayName": "Vauwez Sam El Fareez",
      "photoUrl": "https://lh3.googleusercontent.com/a-/AOh14GiiszMbUnUPzlsIyPzYs7zFnTeAylxGPSGynOpI=s64",
      "userId": "03245812126824588324"
     },
     "user_tz": -480
    },
    "id": "qOY9H_f147_o",
    "outputId": "03e6641a-4d56-493d-ea6e-d638f39c778b"
   },
   "outputs": [
    {
     "data": {
      "text/plain": [
       "LinearRegression(copy_X=True, fit_intercept=True, n_jobs=None, normalize=False)"
      ]
     },
     "execution_count": 5,
     "metadata": {
      "tags": []
     },
     "output_type": "execute_result"
    }
   ],
   "source": [
    "lm = LinearRegression()\n",
    "lm"
   ]
  },
  {
   "cell_type": "markdown",
   "metadata": {},
   "source": [
    "__Bagaimana `highway-mpg` bisa membantu kita untuk memprediksi harga mobil?__"
   ]
  },
  {
   "cell_type": "markdown",
   "metadata": {},
   "source": [
    "Untuk contoh kali ini, kita mau lihat bagaimana `highway-mpg` bisa membantu kita untuk memprediksi harga mobil. Dengan simple linear regression, kita akan buat fungsi linear dimana `highway-mpg` sebagai variabel prediktor dan `price` sebagai target nya."
   ]
  },
  {
   "cell_type": "code",
   "execution_count": 6,
   "metadata": {
    "executionInfo": {
     "elapsed": 293,
     "status": "ok",
     "timestamp": 1623563137673,
     "user": {
      "displayName": "Vauwez Sam El Fareez",
      "photoUrl": "https://lh3.googleusercontent.com/a-/AOh14GiiszMbUnUPzlsIyPzYs7zFnTeAylxGPSGynOpI=s64",
      "userId": "03245812126824588324"
     },
     "user_tz": -480
    },
    "id": "6lP0ipdG47_p"
   },
   "outputs": [],
   "source": [
    "X = df[['highway-mpg']]\n",
    "Y = df['price']"
   ]
  },
  {
   "cell_type": "markdown",
   "metadata": {},
   "source": [
    "Latih model dengan `highway-mpg`"
   ]
  },
  {
   "cell_type": "code",
   "execution_count": 7,
   "metadata": {
    "colab": {
     "base_uri": "https://localhost:8080/"
    },
    "executionInfo": {
     "elapsed": 356,
     "status": "ok",
     "timestamp": 1623563139533,
     "user": {
      "displayName": "Vauwez Sam El Fareez",
      "photoUrl": "https://lh3.googleusercontent.com/a-/AOh14GiiszMbUnUPzlsIyPzYs7zFnTeAylxGPSGynOpI=s64",
      "userId": "03245812126824588324"
     },
     "user_tz": -480
    },
    "id": "HMZK-yuA47_p",
    "outputId": "b2955c04-5a55-48f6-8e59-bad62b793777"
   },
   "outputs": [
    {
     "data": {
      "text/plain": [
       "LinearRegression(copy_X=True, fit_intercept=True, n_jobs=None, normalize=False)"
      ]
     },
     "execution_count": 7,
     "metadata": {
      "tags": []
     },
     "output_type": "execute_result"
    }
   ],
   "source": [
    "lm.fit(X,Y)"
   ]
  },
  {
   "cell_type": "markdown",
   "metadata": {},
   "source": [
    "Kemudian buat prediksi"
   ]
  },
  {
   "cell_type": "code",
   "execution_count": 8,
   "metadata": {
    "colab": {
     "base_uri": "https://localhost:8080/"
    },
    "executionInfo": {
     "elapsed": 283,
     "status": "ok",
     "timestamp": 1623563146667,
     "user": {
      "displayName": "Vauwez Sam El Fareez",
      "photoUrl": "https://lh3.googleusercontent.com/a-/AOh14GiiszMbUnUPzlsIyPzYs7zFnTeAylxGPSGynOpI=s64",
      "userId": "03245812126824588324"
     },
     "user_tz": -480
    },
    "id": "DLiJUmsR47_q",
    "outputId": "ece389e2-4c88-4a4d-e3bc-3d8e16e0ad6a"
   },
   "outputs": [
    {
     "data": {
      "text/plain": [
       "array([16236.50464347, 16236.50464347, 17058.23802179, 13771.3045085 ,\n",
       "       20345.17153508])"
      ]
     },
     "execution_count": 8,
     "metadata": {
      "tags": []
     },
     "output_type": "execute_result"
    }
   ],
   "source": [
    "Yhat=lm.predict(X)\n",
    "Yhat[0:5]   "
   ]
  },
  {
   "cell_type": "markdown",
   "metadata": {},
   "source": [
    "Nilai intersep (a)"
   ]
  },
  {
   "cell_type": "code",
   "execution_count": 9,
   "metadata": {
    "colab": {
     "base_uri": "https://localhost:8080/"
    },
    "executionInfo": {
     "elapsed": 290,
     "status": "ok",
     "timestamp": 1623563154406,
     "user": {
      "displayName": "Vauwez Sam El Fareez",
      "photoUrl": "https://lh3.googleusercontent.com/a-/AOh14GiiszMbUnUPzlsIyPzYs7zFnTeAylxGPSGynOpI=s64",
      "userId": "03245812126824588324"
     },
     "user_tz": -480
    },
    "id": "S3eFwB2S47_r",
    "outputId": "d2b5f375-ec73-44d0-e048-24f2ec062346"
   },
   "outputs": [
    {
     "data": {
      "text/plain": [
       "38423.3058581574"
      ]
     },
     "execution_count": 9,
     "metadata": {
      "tags": []
     },
     "output_type": "execute_result"
    }
   ],
   "source": [
    "lm.intercept_"
   ]
  },
  {
   "cell_type": "markdown",
   "metadata": {},
   "source": [
    "Nilai slope (b)"
   ]
  },
  {
   "cell_type": "code",
   "execution_count": 10,
   "metadata": {
    "colab": {
     "base_uri": "https://localhost:8080/"
    },
    "executionInfo": {
     "elapsed": 278,
     "status": "ok",
     "timestamp": 1623563156550,
     "user": {
      "displayName": "Vauwez Sam El Fareez",
      "photoUrl": "https://lh3.googleusercontent.com/a-/AOh14GiiszMbUnUPzlsIyPzYs7zFnTeAylxGPSGynOpI=s64",
      "userId": "03245812126824588324"
     },
     "user_tz": -480
    },
    "id": "PusytYMm47_r",
    "outputId": "738649b6-472c-445d-cb9f-f6eaff5a2637",
    "scrolled": true
   },
   "outputs": [
    {
     "data": {
      "text/plain": [
       "array([-821.73337832])"
      ]
     },
     "execution_count": 10,
     "metadata": {
      "tags": []
     },
     "output_type": "execute_result"
    }
   ],
   "source": [
    "lm.coef_"
   ]
  },
  {
   "cell_type": "markdown",
   "metadata": {},
   "source": [
    "#### Apa estimasi model linear yang kita peroleh?"
   ]
  },
  {
   "cell_type": "markdown",
   "metadata": {},
   "source": [
    "Seperti diatas, kita harusnya dapat fungsi linear seperti berikut:"
   ]
  },
  {
   "cell_type": "markdown",
   "metadata": {
    "id": "NshGLnyT47_s"
   },
   "source": [
    "$$\n",
    "\\hat{Y} = a + b  X\n",
    "$$"
   ]
  },
  {
   "cell_type": "markdown",
   "metadata": {},
   "source": [
    "Masukkan nilai aktual yang didapat:"
   ]
  },
  {
   "cell_type": "markdown",
   "metadata": {
    "id": "9N-fceiQ47_t"
   },
   "source": [
    "<b>price</b> = 38423.31 - 821.73 x  <b>highway-mpg</b>"
   ]
  },
  {
   "cell_type": "markdown",
   "metadata": {
    "id": "QEiOxf_s47_t"
   },
   "source": [
    "<div class=\"alert alert-danger alertdanger\" style=\"margin-top: 20px\">\n",
    "<h1>Challenge #1 a): </h1>\n",
    "\n",
    "<b>Buat object linear regression</b>\n",
    "</div>"
   ]
  },
  {
   "cell_type": "code",
   "execution_count": 11,
   "metadata": {
    "executionInfo": {
     "elapsed": 309,
     "status": "ok",
     "timestamp": 1623563190804,
     "user": {
      "displayName": "Vauwez Sam El Fareez",
      "photoUrl": "https://lh3.googleusercontent.com/a-/AOh14GiiszMbUnUPzlsIyPzYs7zFnTeAylxGPSGynOpI=s64",
      "userId": "03245812126824588324"
     },
     "user_tz": -480
    },
    "id": "uRQjLuDC47_t"
   },
   "outputs": [],
   "source": [
    "# tulis jawaban dibawah\n"
   ]
  },
  {
   "cell_type": "markdown",
   "metadata": {
    "id": "5yqV4DB447_u"
   },
   "source": [
    "<div class=\"alert alert-danger alertdanger\" style=\"margin-top: 20px\">\n",
    "<h1> Challenge #1 b): </h1>\n",
    "\n",
    "<b>Latih model dengan `engine-size` sebagai variebel independen (prediktor) dan `price` sebagai dependen variabel (target)</b>\n",
    "</div>"
   ]
  },
  {
   "cell_type": "code",
   "execution_count": 15,
   "metadata": {
    "colab": {
     "base_uri": "https://localhost:8080/"
    },
    "executionInfo": {
     "elapsed": 303,
     "status": "ok",
     "timestamp": 1623563350008,
     "user": {
      "displayName": "Vauwez Sam El Fareez",
      "photoUrl": "https://lh3.googleusercontent.com/a-/AOh14GiiszMbUnUPzlsIyPzYs7zFnTeAylxGPSGynOpI=s64",
      "userId": "03245812126824588324"
     },
     "user_tz": -480
    },
    "id": "JEZu1AGA47_u",
    "outputId": "a5e76718-2817-486c-8439-212554786cd9"
   },
   "outputs": [
    {
     "data": {
      "text/plain": [
       "LinearRegression(copy_X=True, fit_intercept=True, n_jobs=None, normalize=False)"
      ]
     },
     "execution_count": 15,
     "metadata": {
      "tags": []
     },
     "output_type": "execute_result"
    }
   ],
   "source": [
    "# tulis jawaban dibawah"
   ]
  },
  {
   "cell_type": "markdown",
   "metadata": {
    "id": "hRs_SKm247_v"
   },
   "source": [
    "<div class=\"alert alert-danger alertdanger\" style=\"margin-top: 20px\">\n",
    "<h1>Challenge #1 c):</h1>\n",
    "\n",
    "<b>Cetak slope dan intersep model</b>\n",
    "</div>"
   ]
  },
  {
   "cell_type": "markdown",
   "metadata": {
    "id": "23MJ22Z247_v"
   },
   "source": [
    "<h4>Slope</h4>"
   ]
  },
  {
   "cell_type": "code",
   "execution_count": 1,
   "metadata": {
    "colab": {
     "base_uri": "https://localhost:8080/"
    },
    "executionInfo": {
     "elapsed": 296,
     "status": "ok",
     "timestamp": 1623563373167,
     "user": {
      "displayName": "Vauwez Sam El Fareez",
      "photoUrl": "https://lh3.googleusercontent.com/a-/AOh14GiiszMbUnUPzlsIyPzYs7zFnTeAylxGPSGynOpI=s64",
      "userId": "03245812126824588324"
     },
     "user_tz": -480
    },
    "id": "3j6kF-jA47_w",
    "outputId": "c07cf20b-258a-46c2-e11f-fae22958e5a4"
   },
   "outputs": [],
   "source": [
    "# tulis jawaban dibawah\n"
   ]
  },
  {
   "cell_type": "markdown",
   "metadata": {
    "id": "Q_F1PVTB47_w"
   },
   "source": [
    "<h4>Intercept</h4>"
   ]
  },
  {
   "cell_type": "code",
   "execution_count": 2,
   "metadata": {
    "colab": {
     "base_uri": "https://localhost:8080/"
    },
    "executionInfo": {
     "elapsed": 284,
     "status": "ok",
     "timestamp": 1623563386217,
     "user": {
      "displayName": "Vauwez Sam El Fareez",
      "photoUrl": "https://lh3.googleusercontent.com/a-/AOh14GiiszMbUnUPzlsIyPzYs7zFnTeAylxGPSGynOpI=s64",
      "userId": "03245812126824588324"
     },
     "user_tz": -480
    },
    "id": "qDHcpU-K47_w",
    "outputId": "98d6f9a8-12da-4dcb-f68e-2d3517693082"
   },
   "outputs": [],
   "source": [
    "# tulis jawaban dibawah\n"
   ]
  },
  {
   "cell_type": "markdown",
   "metadata": {
    "id": "XdoTMVqK47_x"
   },
   "source": [
    "<div class=\"alert alert-danger alertdanger\" style=\"margin-top: 20px\">\n",
    "<h1>Challenge #1 d): </h1>\n",
    "\n",
    "<b>Bagaimana persamaan dari prediksi? Bisa gunakan x dan yhat atau `engine-size` dan `price`</b>\n",
    "</div>"
   ]
  },
  {
   "cell_type": "markdown",
   "metadata": {
    "id": "da0gIHJ247_x"
   },
   "source": [
    "__double klik cell ini kemudian tulis jawaban dibawah__\n",
    "\n"
   ]
  },
  {
   "cell_type": "markdown",
   "metadata": {},
   "source": [
    "### Multiple Linear Regression"
   ]
  },
  {
   "cell_type": "markdown",
   "metadata": {},
   "source": [
    "Gimana kalau kita mau memprediksi harga mobil menggunakan lebih dari 1 variabel?\n",
    "\n",
    "Kita bisa gunakan __Multiple Linear Regression__. Multiple Linear Regression mirip dengan Simple Linear Regression, tapi dengan model ini kita bisa menggunakan 2 atau lebih variabel. Banyak dari penerapan regresi di real world menggunakan lebih dari satu prediktor. Berikut contohnya:"
   ]
  },
  {
   "cell_type": "markdown",
   "metadata": {
    "id": "MQb4EQII47_z"
   },
   "source": [
    "$$\n",
    "Y: \\text{Variabel Target}\\\\\n",
    "X_1 : \\text{Variabel prediktor} \\ 1\\\\\n",
    "X_2: \\text{Variabel prediktor} \\ 2\\\\\n",
    "X_3: \\text{Variabel prediktor} \\ 3\\\\\n",
    "X_4: \\text{Variabel prediktor} \\ 4\\\\\n",
    "$$"
   ]
  },
  {
   "cell_type": "markdown",
   "metadata": {
    "id": "EHxEyFap47_z"
   },
   "source": [
    "$$\n",
    "a: intersep\\\\\n",
    "b_1 : \\text{koefisien variabel} \\ 1\\\\\n",
    "b_2: \\text{koefisien variabel} \\ 2\\\\\n",
    "b_3: \\text{koefisien variabel} \\ 3\\\\\n",
    "b_4: \\text{koefisien variabel} \\ 4\\\\\n",
    "$$"
   ]
  },
  {
   "cell_type": "markdown",
   "metadata": {},
   "source": [
    "Persamaannya adalah"
   ]
  },
  {
   "cell_type": "markdown",
   "metadata": {
    "id": "Rt1SIwg247_0"
   },
   "source": [
    "$$\n",
    "\\hat{Y} = a + b_1 X_1 + b_2 X_2 + b_3 X_3 + b_4 X_4\n",
    "$$"
   ]
  },
  {
   "cell_type": "markdown",
   "metadata": {},
   "source": [
    "Dari pertemuan sebelumnya kita tau bahwa variabel yang bagus untuk dijadikan prediktor dari `price` adalah:\n",
    "\n",
    "- `horsepower`\n",
    "- `curb-weight`\n",
    "- `engine-size`\n",
    "- `highway-mpg`\n",
    "\n",
    "Sekarang kita coba buat model dengan variabel-variabel diatas sebagai prediktornya."
   ]
  },
  {
   "cell_type": "code",
   "execution_count": 19,
   "metadata": {
    "collapsed": true,
    "executionInfo": {
     "elapsed": 294,
     "status": "ok",
     "timestamp": 1623563510407,
     "user": {
      "displayName": "Vauwez Sam El Fareez",
      "photoUrl": "https://lh3.googleusercontent.com/a-/AOh14GiiszMbUnUPzlsIyPzYs7zFnTeAylxGPSGynOpI=s64",
      "userId": "03245812126824588324"
     },
     "user_tz": -480
    },
    "id": "NsQHQIOg47_0"
   },
   "outputs": [],
   "source": [
    "Z = df[['horsepower', 'curb-weight', 'engine-size', 'highway-mpg']]"
   ]
  },
  {
   "cell_type": "markdown",
   "metadata": {},
   "source": [
    "Latih linear model dengan 4 variabel diatas"
   ]
  },
  {
   "cell_type": "code",
   "execution_count": 20,
   "metadata": {
    "colab": {
     "base_uri": "https://localhost:8080/"
    },
    "executionInfo": {
     "elapsed": 15,
     "status": "ok",
     "timestamp": 1623563512333,
     "user": {
      "displayName": "Vauwez Sam El Fareez",
      "photoUrl": "https://lh3.googleusercontent.com/a-/AOh14GiiszMbUnUPzlsIyPzYs7zFnTeAylxGPSGynOpI=s64",
      "userId": "03245812126824588324"
     },
     "user_tz": -480
    },
    "id": "AyLUsWdR47_1",
    "outputId": "a8d56206-f66b-43fc-c2f4-d5f7c3ae0d51"
   },
   "outputs": [
    {
     "data": {
      "text/plain": [
       "LinearRegression(copy_X=True, fit_intercept=True, n_jobs=None, normalize=False)"
      ]
     },
     "execution_count": 20,
     "metadata": {
      "tags": []
     },
     "output_type": "execute_result"
    }
   ],
   "source": [
    "lm.fit(Z, df['price'])"
   ]
  },
  {
   "cell_type": "markdown",
   "metadata": {},
   "source": [
    "Apa nilai intersep-nya (a)?"
   ]
  },
  {
   "cell_type": "code",
   "execution_count": 21,
   "metadata": {
    "colab": {
     "base_uri": "https://localhost:8080/"
    },
    "executionInfo": {
     "elapsed": 523,
     "status": "ok",
     "timestamp": 1623563607469,
     "user": {
      "displayName": "Vauwez Sam El Fareez",
      "photoUrl": "https://lh3.googleusercontent.com/a-/AOh14GiiszMbUnUPzlsIyPzYs7zFnTeAylxGPSGynOpI=s64",
      "userId": "03245812126824588324"
     },
     "user_tz": -480
    },
    "id": "_4LCO75M47_1",
    "outputId": "4fc5bb34-fc28-4ddd-8fc3-aff8612b3856"
   },
   "outputs": [
    {
     "data": {
      "text/plain": [
       "-15806.62462632922"
      ]
     },
     "execution_count": 21,
     "metadata": {
      "tags": []
     },
     "output_type": "execute_result"
    }
   ],
   "source": [
    "lm.intercept_"
   ]
  },
  {
   "cell_type": "markdown",
   "metadata": {},
   "source": [
    "Apa nilai koefisiennya (b1, b2, b3, b4)?"
   ]
  },
  {
   "cell_type": "code",
   "execution_count": 22,
   "metadata": {
    "colab": {
     "base_uri": "https://localhost:8080/"
    },
    "executionInfo": {
     "elapsed": 475,
     "status": "ok",
     "timestamp": 1623563612168,
     "user": {
      "displayName": "Vauwez Sam El Fareez",
      "photoUrl": "https://lh3.googleusercontent.com/a-/AOh14GiiszMbUnUPzlsIyPzYs7zFnTeAylxGPSGynOpI=s64",
      "userId": "03245812126824588324"
     },
     "user_tz": -480
    },
    "id": "XzpeQNo247_2",
    "outputId": "6be1f1fe-bdca-4f5e-c055-82d5eeec9eda"
   },
   "outputs": [
    {
     "data": {
      "text/plain": [
       "array([53.49574423,  4.70770099, 81.53026382, 36.05748882])"
      ]
     },
     "execution_count": 22,
     "metadata": {
      "tags": []
     },
     "output_type": "execute_result"
    }
   ],
   "source": [
    "lm.coef_"
   ]
  },
  {
   "cell_type": "markdown",
   "metadata": {},
   "source": [
    "Bagaimana bentuk persamaan linear modelnya?"
   ]
  },
  {
   "cell_type": "markdown",
   "metadata": {
    "id": "DEW8nPkZ47_3"
   },
   "source": [
    "Persamaan-nya adalah sebagai berikut:\n",
    "\n",
    "$$\n",
    "\\hat{Y} = a + b_1 X_1 + b_2 X_2 + b_3 X_3 + b_4 X_4\n",
    "$$\n",
    "\n",
    "Masukkan nilai yang didapat"
   ]
  },
  {
   "cell_type": "markdown",
   "metadata": {
    "id": "yC_rK2BA47_3"
   },
   "source": [
    "<b>Price</b> = -15678.742628061467 + 53.49574423 x <b>horsepower</b> + 4.70770099 x <b>curb-weight</b> + 81.53026382 x <b>engine-size</b> + 36.05748882 x <b>highway-mpg</b>"
   ]
  },
  {
   "cell_type": "markdown",
   "metadata": {
    "id": "7uGLPJQv47_4"
   },
   "source": [
    "<div class=\"alert alert-danger alertdanger\" style=\"margin-top: 20px\">\n",
    "<h1> Challenge  #2 a): </h1>\n",
    "Buat dan latih sebuah model multiple linear regression `lm2` dimana variabel targetnya adalah price, dan prediktornya adalah `normalized-losses` dan `highway-mpg`\n",
    "</div>"
   ]
  },
  {
   "cell_type": "code",
   "execution_count": 23,
   "metadata": {
    "colab": {
     "base_uri": "https://localhost:8080/"
    },
    "executionInfo": {
     "elapsed": 306,
     "status": "ok",
     "timestamp": 1623563711220,
     "user": {
      "displayName": "Vauwez Sam El Fareez",
      "photoUrl": "https://lh3.googleusercontent.com/a-/AOh14GiiszMbUnUPzlsIyPzYs7zFnTeAylxGPSGynOpI=s64",
      "userId": "03245812126824588324"
     },
     "user_tz": -480
    },
    "id": "q1HvxVoI47_8",
    "outputId": "b2999854-d65c-4792-f9bc-a7f6c07435f9"
   },
   "outputs": [
    {
     "data": {
      "text/plain": [
       "LinearRegression(copy_X=True, fit_intercept=True, n_jobs=None, normalize=False)"
      ]
     },
     "execution_count": 23,
     "metadata": {
      "tags": []
     },
     "output_type": "execute_result"
    }
   ],
   "source": [
    "# tulis jawban dibawah\n"
   ]
  },
  {
   "cell_type": "markdown",
   "metadata": {
    "id": "wxVX6Ivh47_9"
   },
   "source": [
    "<div class=\"alert alert-danger alertdanger\" style=\"margin-top: 20px\">\n",
    "<h1>Challenge  #2 b): </h1>\n",
    "<b>Outputkan koefisien dari model</b>\n",
    "</div>"
   ]
  },
  {
   "cell_type": "code",
   "execution_count": 1,
   "metadata": {
    "colab": {
     "base_uri": "https://localhost:8080/"
    },
    "executionInfo": {
     "elapsed": 306,
     "status": "ok",
     "timestamp": 1623563720469,
     "user": {
      "displayName": "Vauwez Sam El Fareez",
      "photoUrl": "https://lh3.googleusercontent.com/a-/AOh14GiiszMbUnUPzlsIyPzYs7zFnTeAylxGPSGynOpI=s64",
      "userId": "03245812126824588324"
     },
     "user_tz": -480
    },
    "id": "HecYfejb47_9",
    "outputId": "9a51112d-754e-4605-cda9-305bdfd5f5bd"
   },
   "outputs": [],
   "source": [
    "# tulis kode dibawah\n"
   ]
  },
  {
   "cell_type": "markdown",
   "metadata": {},
   "source": [
    "## Model Evaluation dengan Visualisasi"
   ]
  },
  {
   "cell_type": "markdown",
   "metadata": {},
   "source": [
    "Setelah membangun model, bagaimana cara mengevaluasi model kita dan bagaimana memilih yang paling bagus? Salah satu caranya adalah dengan menggunakan visualisasi."
   ]
  },
  {
   "cell_type": "markdown",
   "metadata": {},
   "source": [
    "Import package visualisasi: seaborn"
   ]
  },
  {
   "cell_type": "code",
   "execution_count": 25,
   "metadata": {
    "collapsed": true,
    "executionInfo": {
     "elapsed": 299,
     "status": "ok",
     "timestamp": 1623563732902,
     "user": {
      "displayName": "Vauwez Sam El Fareez",
      "photoUrl": "https://lh3.googleusercontent.com/a-/AOh14GiiszMbUnUPzlsIyPzYs7zFnTeAylxGPSGynOpI=s64",
      "userId": "03245812126824588324"
     },
     "user_tz": -480
    },
    "id": "H7SjvW0W47__"
   },
   "outputs": [],
   "source": [
    "# import the visualization package: seaborn\n",
    "import seaborn as sns\n",
    "%matplotlib inline "
   ]
  },
  {
   "cell_type": "markdown",
   "metadata": {},
   "source": [
    "### Regression Plot"
   ]
  },
  {
   "cell_type": "markdown",
   "metadata": {},
   "source": [
    "Ketika membahas simple linear regression, cara yang paling bagus untuk memvisualisasikan model kita adalah dengan __regression plot__.\n",
    "\n",
    "Plot ini akan menampilkan kombinasi penyebaran titik data (scatter plot), dan juga garis linear regression nya. Ini akan memberi kita estimasi yang baik dari relasi antara dua variabel, kekuatan korelasi, dan juga arahnya (relasi positif atau negatif)"
   ]
  },
  {
   "cell_type": "markdown",
   "metadata": {},
   "source": [
    "Coba visualisasikan `highway-mpg` sebagai prediktor potensial dari variabel `price`:"
   ]
  },
  {
   "cell_type": "code",
   "execution_count": 26,
   "metadata": {
    "colab": {
     "base_uri": "https://localhost:8080/",
     "height": 623
    },
    "executionInfo": {
     "elapsed": 1039,
     "status": "ok",
     "timestamp": 1623563767544,
     "user": {
      "displayName": "Vauwez Sam El Fareez",
      "photoUrl": "https://lh3.googleusercontent.com/a-/AOh14GiiszMbUnUPzlsIyPzYs7zFnTeAylxGPSGynOpI=s64",
      "userId": "03245812126824588324"
     },
     "user_tz": -480
    },
    "id": "MS__k8Cr48AA",
    "outputId": "25d32b39-00d2-44e1-883d-30987348a414",
    "scrolled": false
   },
   "outputs": [
    {
     "data": {
      "text/plain": [
       "(0.0, 48175.31672272661)"
      ]
     },
     "execution_count": 26,
     "metadata": {
      "tags": []
     },
     "output_type": "execute_result"
    },
    {
     "data": {
      "image/png": "[encoded data removed]",
      "text/plain": [
       "<Figure size 864x720 with 1 Axes>"
      ]
     },
     "metadata": {
      "needs_background": "light",
      "tags": []
     },
     "output_type": "display_data"
    }
   ],
   "source": [
    "width = 12\n",
    "height = 10\n",
    "plt.figure(figsize=(width, height))\n",
    "sns.regplot(x=\"highway-mpg\", y=\"price\", data=df)\n",
    "plt.ylim(0,)"
   ]
  },
  {
   "cell_type": "markdown",
   "metadata": {},
   "source": [
    "Bisa dilihat dari plot bahwa `price` berkorelasi negative dengan `highway-mpg`, karena slope garis nya negatif. Yang perlu diingat ketika melihat regression plot adalah lihat bagaimana titik data disekitar garis regeressi. Ini akan memberikan petunjuk yang baik dari variansi data, dan apakah model linear nya bagus atau tidak. Jika datanya terlalu jauh dari garis, model ini tidak bagus untuk data. Coba bandingkan dengan regression plot dari `peak-rpm`"
   ]
  },
  {
   "cell_type": "code",
   "execution_count": 27,
   "metadata": {
    "colab": {
     "base_uri": "https://localhost:8080/",
     "height": 623
    },
    "executionInfo": {
     "elapsed": 919,
     "status": "ok",
     "timestamp": 1623563997182,
     "user": {
      "displayName": "Vauwez Sam El Fareez",
      "photoUrl": "https://lh3.googleusercontent.com/a-/AOh14GiiszMbUnUPzlsIyPzYs7zFnTeAylxGPSGynOpI=s64",
      "userId": "03245812126824588324"
     },
     "user_tz": -480
    },
    "id": "HZAADCEF48AB",
    "outputId": "032e3b1f-9ff7-43c5-d019-03a9c0582087"
   },
   "outputs": [
    {
     "data": {
      "text/plain": [
       "(0.0, 47414.1)"
      ]
     },
     "execution_count": 27,
     "metadata": {
      "tags": []
     },
     "output_type": "execute_result"
    },
    {
     "data": {
      "image/png": "[encoded data removed]",
      "text/plain": [
       "<Figure size 864x720 with 1 Axes>"
      ]
     },
     "metadata": {
      "needs_background": "light",
      "tags": []
     },
     "output_type": "display_data"
    }
   ],
   "source": [
    "plt.figure(figsize=(width, height))\n",
    "sns.regplot(x=\"peak-rpm\", y=\"price\", data=df)\n",
    "plt.ylim(0,)"
   ]
  },
  {
   "cell_type": "markdown",
   "metadata": {},
   "source": [
    "Membandingkan regression plot dari `peak-rpm` dan `highway-mpg` kita bisa lihat bahwa titik data pada `highway-mpg` lebih dekat dengan garis regresinya. Titik data pada `peak-rpm` lebih tersebar disekitar garis regresinya, dan lebih sulit apakah titik datanya menurun atau menaik pada saat `highway-mpg` menaik."
   ]
  },
  {
   "cell_type": "markdown",
   "metadata": {
    "id": "zpzBTApj48AB"
   },
   "source": [
    "<div class=\"alert alert-danger alertdanger\" style=\"margin-top: 20px\">\n",
    "<h1>Challenge #3:</h1>\n",
    "<b>Dengan regression plot diatas `peak-rpm` atau `highway-mpg` berkorelasi lebih kuat dengan `price`. Gunakan method `.corr()` untuk memastikan jawabanmu</b>\n",
    "</div>"
   ]
  },
  {
   "cell_type": "code",
   "execution_count": 2,
   "metadata": {
    "colab": {
     "base_uri": "https://localhost:8080/",
     "height": 137
    },
    "executionInfo": {
     "elapsed": 307,
     "status": "ok",
     "timestamp": 1623564098449,
     "user": {
      "displayName": "Vauwez Sam El Fareez",
      "photoUrl": "https://lh3.googleusercontent.com/a-/AOh14GiiszMbUnUPzlsIyPzYs7zFnTeAylxGPSGynOpI=s64",
      "userId": "03245812126824588324"
     },
     "user_tz": -480
    },
    "id": "Ru7fyGMj48AC",
    "outputId": "8d5f13d8-cb94-4551-ee0f-d18c32a0b739"
   },
   "outputs": [],
   "source": [
    "# tulis jawaban dibawah\n"
   ]
  },
  {
   "cell_type": "markdown",
   "metadata": {},
   "source": [
    "### Residual Plot\n",
    "\n",
    "Cara yang bagus untuk memvisualisasikan variansi data adalah dengan residual plot.\n",
    "\n",
    "Selisih antara nilai aktual (y) dan nilai terprediksi (Yhat) disebut residual (e). Ketika kita melihat regression plot, residual nya adalah jarak antara titik data dengan garis regresi. Jadi residual plot adalah grafik yang menunjukkan residual pada sumbu y vertika dan variabel indpenden pada sumbu x horizontal.\n",
    "\n",
    "Apa yang harus diperhatikan ketika melihat residual plot? Lihat sebaran residualnya:\n",
    "\n",
    "Jika titik data pada residual plot __tersebar secara random di sekitar sumbu x, maka linear modelnya cocok untuk data.__ Mengapa? Residual yang tersebar secara random berati variansi nya konstan, maka linear model nya cocok untuk data."
   ]
  },
  {
   "cell_type": "code",
   "execution_count": 29,
   "metadata": {
    "colab": {
     "base_uri": "https://localhost:8080/",
     "height": 661
    },
    "executionInfo": {
     "elapsed": 412,
     "status": "ok",
     "timestamp": 1623565067020,
     "user": {
      "displayName": "Vauwez Sam El Fareez",
      "photoUrl": "https://lh3.googleusercontent.com/a-/AOh14GiiszMbUnUPzlsIyPzYs7zFnTeAylxGPSGynOpI=s64",
      "userId": "03245812126824588324"
     },
     "user_tz": -480
    },
    "id": "JZfEs31y48AD",
    "outputId": "185c62e7-5b84-44ea-e80c-5e02d086dd51",
    "scrolled": false
   },
   "outputs": [
    {
     "name": "stderr",
     "output_type": "stream",
     "text": [
      "/usr/local/lib/python3.7/dist-packages/seaborn/_decorators.py:43: FutureWarning: Pass the following variables as keyword args: x, y. From version 0.12, the only valid positional argument will be `data`, and passing other arguments without an explicit keyword will result in an error or misinterpretation.\n",
      "  FutureWarning\n"
     ]
    },
    {
     "data": {
      "image/png": "[encoded data removed]",
      "text/plain": [
       "<Figure size 864x720 with 1 Axes>"
      ]
     },
     "metadata": {
      "needs_background": "light",
      "tags": []
     },
     "output_type": "display_data"
    }
   ],
   "source": [
    "width = 12\n",
    "height = 10\n",
    "plt.figure(figsize=(width, height))\n",
    "sns.residplot(df['highway-mpg'], df['price'])\n",
    "plt.show()"
   ]
  },
  {
   "cell_type": "markdown",
   "metadata": {},
   "source": [
    "_Apa yang bisa didapat dari plot ini?_\n",
    "\n",
    "Kita bisa lihat dari residual plot ini, residualnya tidak tersebar secara random disekitar sumbu x, yang berarti mungkin model non-linear lebih baik untuk data ini."
   ]
  },
  {
   "cell_type": "markdown",
   "metadata": {},
   "source": [
    "### Visualisasi Multiple Linear Regression"
   ]
  },
  {
   "cell_type": "markdown",
   "metadata": {},
   "source": [
    "Bagaimana cara kita memvisualisasikan Multiple Linear Regression? Ini agak sulit karena kita tidak bisa menggunakan regression plot atau residual plot.\n",
    "\n",
    "Salah satu caranya adalah dengan __distribution plot__: Kita bisa melihat distribusi dari nilai terprediksi yang dihasilkan dari model dibandingkan dengan distribusi dengan nilai aktual."
   ]
  },
  {
   "cell_type": "markdown",
   "metadata": {},
   "source": [
    "Kita coba buat prediksi"
   ]
  },
  {
   "cell_type": "code",
   "execution_count": 30,
   "metadata": {
    "executionInfo": {
     "elapsed": 293,
     "status": "ok",
     "timestamp": 1623565124756,
     "user": {
      "displayName": "Vauwez Sam El Fareez",
      "photoUrl": "https://lh3.googleusercontent.com/a-/AOh14GiiszMbUnUPzlsIyPzYs7zFnTeAylxGPSGynOpI=s64",
      "userId": "03245812126824588324"
     },
     "user_tz": -480
    },
    "id": "F4dEplSq48AF"
   },
   "outputs": [],
   "source": [
    "Y_hat = lm.predict(Z)"
   ]
  },
  {
   "cell_type": "code",
   "execution_count": 31,
   "metadata": {
    "colab": {
     "base_uri": "https://localhost:8080/",
     "height": 712
    },
    "executionInfo": {
     "elapsed": 548,
     "status": "ok",
     "timestamp": 1623565132617,
     "user": {
      "displayName": "Vauwez Sam El Fareez",
      "photoUrl": "https://lh3.googleusercontent.com/a-/AOh14GiiszMbUnUPzlsIyPzYs7zFnTeAylxGPSGynOpI=s64",
      "userId": "03245812126824588324"
     },
     "user_tz": -480
    },
    "id": "90NC9JGA48AF",
    "outputId": "c3fca937-b183-44ca-bd07-36578b01c931",
    "scrolled": false
   },
   "outputs": [
    {
     "name": "stderr",
     "output_type": "stream",
     "text": [
      "/usr/local/lib/python3.7/dist-packages/seaborn/distributions.py:2557: FutureWarning: `distplot` is a deprecated function and will be removed in a future version. Please adapt your code to use either `displot` (a figure-level function with similar flexibility) or `kdeplot` (an axes-level function for kernel density plots).\n",
      "  warnings.warn(msg, FutureWarning)\n",
      "/usr/local/lib/python3.7/dist-packages/seaborn/distributions.py:2557: FutureWarning: `distplot` is a deprecated function and will be removed in a future version. Please adapt your code to use either `displot` (a figure-level function with similar flexibility) or `kdeplot` (an axes-level function for kernel density plots).\n",
      "  warnings.warn(msg, FutureWarning)\n"
     ]
    },
    {
     "data": {
      "image/png": "[encoded data removed]",
      "text/plain": [
       "<Figure size 864x720 with 1 Axes>"
      ]
     },
     "metadata": {
      "needs_background": "light",
      "tags": []
     },
     "output_type": "display_data"
    }
   ],
   "source": [
    "plt.figure(figsize=(width, height))\n",
    "\n",
    "\n",
    "ax1 = sns.distplot(df['price'], hist=False, color=\"r\", label=\"Actual Value\")\n",
    "sns.distplot(Yhat, hist=False, color=\"b\", label=\"Fitted Values\" , ax=ax1)\n",
    "\n",
    "\n",
    "plt.title('Actual vs Fitted Values for Price')\n",
    "plt.xlabel('Price (in dollars)')\n",
    "plt.ylabel('Proportion of Cars')\n",
    "\n",
    "plt.show()\n",
    "plt.close()"
   ]
  },
  {
   "cell_type": "markdown",
   "metadata": {},
   "source": [
    "Bisa dilihat bahwa nilai terprediksi lumayan dekat dengan nilai aktual, karena dua distribusi tersebut sedikit tumpang tindih. Namun, there is some room for improvement."
   ]
  },
  {
   "cell_type": "markdown",
   "metadata": {},
   "source": [
    "## Polynomial Regression dan Pipelines"
   ]
  },
  {
   "cell_type": "markdown",
   "metadata": {},
   "source": [
    "__Polynomial regression__ adalah kejadian khusus dari linear regression biasa atau multiple linear regression. Kita mendapatkan relasi non-linear dengan cara mengkuadratkan atau memberikan derajat tinggi pada variabel prediktor. Ada derajat-derajat berbeda pada polynomial regression:"
   ]
  },
  {
   "cell_type": "markdown",
   "metadata": {
    "id": "S9n5vSya48AH"
   },
   "source": [
    "<center><b>Quadratic - derajat 2</b></center>\n",
    "$$\n",
    "\\hat{Y} = a + b_1 X^2 +b_2 X^2 \n",
    "$$\n",
    "\n",
    "\n",
    "<center><b>Cubic - derajat 3</b></center>\n",
    "$$\n",
    "\\hat{Y} = a + b_1 X^2 +b_2 X^2 +b_3 X^3\\\\\n",
    "$$\n",
    "\n",
    "\n",
    "<center><b>Derajat tinggi</b>:</center>\n",
    "$$\n",
    "Y = a + b_1 X^2 +b_2 X^2 +b_3 X^3 ....\\\\\n",
    "$$"
   ]
  },
  {
   "cell_type": "markdown",
   "metadata": {},
   "source": [
    "Sebelumnya kita lihat bahwa model linear tidak memberikan hasil yang bagus saat menggunakan `highway-mpg` sebagai variabel predikotr. Mari lihat apakah kita bisa melatih model polinomial ke data."
   ]
  },
  {
   "cell_type": "markdown",
   "metadata": {},
   "source": [
    "Kita gunakan fungsi berikut untuk membuat plot data:"
   ]
  },
  {
   "cell_type": "code",
   "execution_count": 32,
   "metadata": {
    "executionInfo": {
     "elapsed": 308,
     "status": "ok",
     "timestamp": 1623565313061,
     "user": {
      "displayName": "Vauwez Sam El Fareez",
      "photoUrl": "https://lh3.googleusercontent.com/a-/AOh14GiiszMbUnUPzlsIyPzYs7zFnTeAylxGPSGynOpI=s64",
      "userId": "03245812126824588324"
     },
     "user_tz": -480
    },
    "id": "oDvhcYEt48AJ"
   },
   "outputs": [],
   "source": [
    "def PlotPolly(model, independent_variable, dependent_variabble, Name):\n",
    "    x_new = np.linspace(15, 55, 100)\n",
    "    y_new = model(x_new)\n",
    "\n",
    "    plt.plot(independent_variable, dependent_variabble, '.', x_new, y_new, '-')\n",
    "    plt.title('Polynomial Fit with Matplotlib for Price ~ Length')\n",
    "    ax = plt.gca()\n",
    "    ax.set_facecolor((0.898, 0.898, 0.898))\n",
    "    fig = plt.gcf()\n",
    "    plt.xlabel(Name)\n",
    "    plt.ylabel('Price of Cars')\n",
    "\n",
    "    plt.show()\n",
    "    plt.close()"
   ]
  },
  {
   "cell_type": "markdown",
   "metadata": {},
   "source": [
    "Dapatkan variabel nya"
   ]
  },
  {
   "cell_type": "code",
   "execution_count": 33,
   "metadata": {
    "executionInfo": {
     "elapsed": 463,
     "status": "ok",
     "timestamp": 1623565363171,
     "user": {
      "displayName": "Vauwez Sam El Fareez",
      "photoUrl": "https://lh3.googleusercontent.com/a-/AOh14GiiszMbUnUPzlsIyPzYs7zFnTeAylxGPSGynOpI=s64",
      "userId": "03245812126824588324"
     },
     "user_tz": -480
    },
    "id": "PsDI84Oq48AK"
   },
   "outputs": [],
   "source": [
    "x = df['highway-mpg']\n",
    "y = df['price']"
   ]
  },
  {
   "cell_type": "markdown",
   "metadata": {},
   "source": [
    "Coba ubah menjadi polinomial dengan fungsi `polyfit`, kemudian gunakan fungsi `poly1d` untuk menampilkan fungsi polynomial."
   ]
  },
  {
   "cell_type": "code",
   "execution_count": 34,
   "metadata": {
    "colab": {
     "base_uri": "https://localhost:8080/"
    },
    "executionInfo": {
     "elapsed": 315,
     "status": "ok",
     "timestamp": 1623565370604,
     "user": {
      "displayName": "Vauwez Sam El Fareez",
      "photoUrl": "https://lh3.googleusercontent.com/a-/AOh14GiiszMbUnUPzlsIyPzYs7zFnTeAylxGPSGynOpI=s64",
      "userId": "03245812126824588324"
     },
     "user_tz": -480
    },
    "id": "fcw6y0xr48AK",
    "outputId": "fa813eb7-f314-4a55-d7fa-11df9d6e9a8d"
   },
   "outputs": [
    {
     "name": "stdout",
     "output_type": "stream",
     "text": [
      "        3         2\n",
      "-1.557 x + 204.8 x - 8965 x + 1.379e+05\n"
     ]
    }
   ],
   "source": [
    "# Here we use a polynomial of the 3rd order (cubic) \n",
    "f = np.polyfit(x, y, 3)\n",
    "p = np.poly1d(f)\n",
    "print(p)"
   ]
  },
  {
   "cell_type": "markdown",
   "metadata": {
    "id": "99sB8ubm48AK"
   },
   "source": [
    " Let's plot the function "
   ]
  },
  {
   "cell_type": "code",
   "execution_count": 35,
   "metadata": {
    "colab": {
     "base_uri": "https://localhost:8080/",
     "height": 294
    },
    "executionInfo": {
     "elapsed": 390,
     "status": "ok",
     "timestamp": 1623565418897,
     "user": {
      "displayName": "Vauwez Sam El Fareez",
      "photoUrl": "https://lh3.googleusercontent.com/a-/AOh14GiiszMbUnUPzlsIyPzYs7zFnTeAylxGPSGynOpI=s64",
      "userId": "03245812126824588324"
     },
     "user_tz": -480
    },
    "id": "NnK-XZnE48AL",
    "outputId": "85a6e9b6-be80-4871-e4a4-e4172ff15099"
   },
   "outputs": [
    {
     "data": {
      "image/png": "[encoded data removed]",
      "text/plain": [
       "<Figure size 432x288 with 1 Axes>"
      ]
     },
     "metadata": {
      "needs_background": "light",
      "tags": []
     },
     "output_type": "display_data"
    }
   ],
   "source": [
    "PlotPolly(p, x, y, 'highway-mpg')"
   ]
  },
  {
   "cell_type": "code",
   "execution_count": 36,
   "metadata": {
    "colab": {
     "base_uri": "https://localhost:8080/"
    },
    "executionInfo": {
     "elapsed": 327,
     "status": "ok",
     "timestamp": 1623565454749,
     "user": {
      "displayName": "Vauwez Sam El Fareez",
      "photoUrl": "https://lh3.googleusercontent.com/a-/AOh14GiiszMbUnUPzlsIyPzYs7zFnTeAylxGPSGynOpI=s64",
      "userId": "03245812126824588324"
     },
     "user_tz": -480
    },
    "id": "OwFoK83N48AL",
    "outputId": "da116e1c-437e-4771-8a70-1bcd7e9381a3"
   },
   "outputs": [
    {
     "data": {
      "text/plain": [
       "array([-1.55663829e+00,  2.04754306e+02, -8.96543312e+03,  1.37923594e+05])"
      ]
     },
     "execution_count": 36,
     "metadata": {
      "tags": []
     },
     "output_type": "execute_result"
    }
   ],
   "source": [
    "np.polyfit(x, y, 3)"
   ]
  },
  {
   "cell_type": "markdown",
   "metadata": {},
   "source": [
    "Kita bisa lihat dari plotting nya bahwa model polinomial lebih baik dibanding linear model. Ini karena polinomial yang dibuat lebih banyak \"mengenai\" titik data."
   ]
  },
  {
   "cell_type": "markdown",
   "metadata": {
    "id": "VR2OAILy48AL"
   },
   "source": [
    "<div class=\"alert alert-danger alertdanger\" style=\"margin-top: 20px\">\n",
    "<h1>Challenge #4:</h1>\n",
    "<b>Buat model polinomial derajat 11 dengan variabel x dan y diatas</b>\n",
    "</div>"
   ]
  },
  {
   "cell_type": "code",
   "execution_count": 1,
   "metadata": {
    "colab": {
     "base_uri": "https://localhost:8080/"
    },
    "executionInfo": {
     "elapsed": 314,
     "status": "ok",
     "timestamp": 1623565581503,
     "user": {
      "displayName": "Vauwez Sam El Fareez",
      "photoUrl": "https://lh3.googleusercontent.com/a-/AOh14GiiszMbUnUPzlsIyPzYs7zFnTeAylxGPSGynOpI=s64",
      "userId": "03245812126824588324"
     },
     "user_tz": -480
    },
    "id": "85m5UiBb48AM",
    "outputId": "51bbcec6-4d2c-4fa5-d61a-6b21a64b5e04"
   },
   "outputs": [],
   "source": [
    "# tulis jawaban dibawah\n"
   ]
  },
  {
   "cell_type": "markdown",
   "metadata": {},
   "source": [
    "Ekspresi matematika dari fungsi Polinomial Multivariat jadi sulit. Sebagai contoh, persamaan untuk polinomial derajat 2 dengan dua variabel adalah:"
   ]
  },
  {
   "cell_type": "markdown",
   "metadata": {
    "id": "iIGlMus_48AN"
   },
   "source": [
    "$$\n",
    "\\hat{Y} = a + b_1 X_1 +b_2 X_2 +b_3 X_1 X_2+b_4 X_1^2+b_5 X_2^2\n",
    "$$"
   ]
  },
  {
   "cell_type": "markdown",
   "metadata": {},
   "source": [
    "Kita bisa transformasi polinomial pada lebih dari satu variabel. Pertama, import package:"
   ]
  },
  {
   "cell_type": "code",
   "execution_count": 38,
   "metadata": {
    "collapsed": true,
    "executionInfo": {
     "elapsed": 312,
     "status": "ok",
     "timestamp": 1623565634235,
     "user": {
      "displayName": "Vauwez Sam El Fareez",
      "photoUrl": "https://lh3.googleusercontent.com/a-/AOh14GiiszMbUnUPzlsIyPzYs7zFnTeAylxGPSGynOpI=s64",
      "userId": "03245812126824588324"
     },
     "user_tz": -480
    },
    "id": "xoJRwMrS48AN"
   },
   "outputs": [],
   "source": [
    "from sklearn.preprocessing import PolynomialFeatures"
   ]
  },
  {
   "cell_type": "markdown",
   "metadata": {},
   "source": [
    "Buat object `PolynomialFeatures` derajat 2:"
   ]
  },
  {
   "cell_type": "code",
   "execution_count": 39,
   "metadata": {
    "colab": {
     "base_uri": "https://localhost:8080/"
    },
    "executionInfo": {
     "elapsed": 307,
     "status": "ok",
     "timestamp": 1623565642544,
     "user": {
      "displayName": "Vauwez Sam El Fareez",
      "photoUrl": "https://lh3.googleusercontent.com/a-/AOh14GiiszMbUnUPzlsIyPzYs7zFnTeAylxGPSGynOpI=s64",
      "userId": "03245812126824588324"
     },
     "user_tz": -480
    },
    "id": "sE8wSlR148AO",
    "outputId": "fdddbd1f-2db0-4daa-e416-70729fbd8df0"
   },
   "outputs": [
    {
     "data": {
      "text/plain": [
       "PolynomialFeatures(degree=2, include_bias=True, interaction_only=False,\n",
       "                   order='C')"
      ]
     },
     "execution_count": 39,
     "metadata": {
      "tags": []
     },
     "output_type": "execute_result"
    }
   ],
   "source": [
    "pr=PolynomialFeatures(degree=2)\n",
    "pr"
   ]
  },
  {
   "cell_type": "code",
   "execution_count": 40,
   "metadata": {
    "collapsed": true,
    "executionInfo": {
     "elapsed": 304,
     "status": "ok",
     "timestamp": 1623565650826,
     "user": {
      "displayName": "Vauwez Sam El Fareez",
      "photoUrl": "https://lh3.googleusercontent.com/a-/AOh14GiiszMbUnUPzlsIyPzYs7zFnTeAylxGPSGynOpI=s64",
      "userId": "03245812126824588324"
     },
     "user_tz": -480
    },
    "id": "97CDxxYC48AO"
   },
   "outputs": [],
   "source": [
    "Z_pr=pr.fit_transform(Z)"
   ]
  },
  {
   "cell_type": "markdown",
   "metadata": {},
   "source": [
    "Data aslinya memiliki 201 sampel dan 4 fitur"
   ]
  },
  {
   "cell_type": "code",
   "execution_count": 41,
   "metadata": {
    "colab": {
     "base_uri": "https://localhost:8080/"
    },
    "executionInfo": {
     "elapsed": 283,
     "status": "ok",
     "timestamp": 1623565672296,
     "user": {
      "displayName": "Vauwez Sam El Fareez",
      "photoUrl": "https://lh3.googleusercontent.com/a-/AOh14GiiszMbUnUPzlsIyPzYs7zFnTeAylxGPSGynOpI=s64",
      "userId": "03245812126824588324"
     },
     "user_tz": -480
    },
    "id": "OP6aXrYq48AO",
    "outputId": "aeae35dd-1466-40cf-ed05-2ef8ff236cbd"
   },
   "outputs": [
    {
     "data": {
      "text/plain": [
       "(201, 4)"
      ]
     },
     "execution_count": 41,
     "metadata": {
      "tags": []
     },
     "output_type": "execute_result"
    }
   ],
   "source": [
    "Z.shape"
   ]
  },
  {
   "cell_type": "markdown",
   "metadata": {},
   "source": [
    "Setelah transformasi, terdapat 201 sampel dan 15 fitur"
   ]
  },
  {
   "cell_type": "code",
   "execution_count": 42,
   "metadata": {
    "colab": {
     "base_uri": "https://localhost:8080/"
    },
    "executionInfo": {
     "elapsed": 300,
     "status": "ok",
     "timestamp": 1623565680594,
     "user": {
      "displayName": "Vauwez Sam El Fareez",
      "photoUrl": "https://lh3.googleusercontent.com/a-/AOh14GiiszMbUnUPzlsIyPzYs7zFnTeAylxGPSGynOpI=s64",
      "userId": "03245812126824588324"
     },
     "user_tz": -480
    },
    "id": "IRyAdjx648AP",
    "outputId": "8fc4480f-02d2-4b0b-b75c-eb5e6a36b6bc"
   },
   "outputs": [
    {
     "data": {
      "text/plain": [
       "(201, 15)"
      ]
     },
     "execution_count": 42,
     "metadata": {
      "tags": []
     },
     "output_type": "execute_result"
    }
   ],
   "source": [
    "Z_pr.shape"
   ]
  },
  {
   "cell_type": "markdown",
   "metadata": {},
   "source": [
    "### Pipeline"
   ]
  },
  {
   "cell_type": "markdown",
   "metadata": {},
   "source": [
    "Data pipeline menyederhanakan langkah-langkah processing data. Kita gunakan modul `Pipeline` untuk membuat pipeline. Kita juga gunakan `StandardScaler` sebagai salah satu langkah dalam pipeline."
   ]
  },
  {
   "cell_type": "code",
   "execution_count": 43,
   "metadata": {
    "collapsed": true,
    "executionInfo": {
     "elapsed": 326,
     "status": "ok",
     "timestamp": 1623565699850,
     "user": {
      "displayName": "Vauwez Sam El Fareez",
      "photoUrl": "https://lh3.googleusercontent.com/a-/AOh14GiiszMbUnUPzlsIyPzYs7zFnTeAylxGPSGynOpI=s64",
      "userId": "03245812126824588324"
     },
     "user_tz": -480
    },
    "id": "K476aE6i48AQ"
   },
   "outputs": [],
   "source": [
    "from sklearn.pipeline import Pipeline\n",
    "from sklearn.preprocessing import StandardScaler"
   ]
  },
  {
   "cell_type": "markdown",
   "metadata": {},
   "source": [
    "Buat pipeline, dengan membuat _list of tuples_ yang isinya nama model atau estimator dan konstruktornya"
   ]
  },
  {
   "cell_type": "code",
   "execution_count": 44,
   "metadata": {
    "executionInfo": {
     "elapsed": 321,
     "status": "ok",
     "timestamp": 1623565714030,
     "user": {
      "displayName": "Vauwez Sam El Fareez",
      "photoUrl": "https://lh3.googleusercontent.com/a-/AOh14GiiszMbUnUPzlsIyPzYs7zFnTeAylxGPSGynOpI=s64",
      "userId": "03245812126824588324"
     },
     "user_tz": -480
    },
    "id": "s1LL6UAF48AQ"
   },
   "outputs": [],
   "source": [
    "Input=[('scale',StandardScaler()), ('polynomial', PolynomialFeatures(include_bias=False)), ('model',LinearRegression())]"
   ]
  },
  {
   "cell_type": "markdown",
   "metadata": {},
   "source": [
    "Kita input list tersebut sebagai argumen ke konstruktor pipeline"
   ]
  },
  {
   "cell_type": "code",
   "execution_count": 45,
   "metadata": {
    "colab": {
     "base_uri": "https://localhost:8080/"
    },
    "executionInfo": {
     "elapsed": 310,
     "status": "ok",
     "timestamp": 1623565727828,
     "user": {
      "displayName": "Vauwez Sam El Fareez",
      "photoUrl": "https://lh3.googleusercontent.com/a-/AOh14GiiszMbUnUPzlsIyPzYs7zFnTeAylxGPSGynOpI=s64",
      "userId": "03245812126824588324"
     },
     "user_tz": -480
    },
    "id": "iZpCBznP48AR",
    "outputId": "c61e2c48-a211-4d19-fbfa-36920f365a23"
   },
   "outputs": [
    {
     "data": {
      "text/plain": [
       "Pipeline(memory=None,\n",
       "         steps=[('scale',\n",
       "                 StandardScaler(copy=True, with_mean=True, with_std=True)),\n",
       "                ('polynomial',\n",
       "                 PolynomialFeatures(degree=2, include_bias=False,\n",
       "                                    interaction_only=False, order='C')),\n",
       "                ('model',\n",
       "                 LinearRegression(copy_X=True, fit_intercept=True, n_jobs=None,\n",
       "                                  normalize=False))],\n",
       "         verbose=False)"
      ]
     },
     "execution_count": 45,
     "metadata": {
      "tags": []
     },
     "output_type": "execute_result"
    }
   ],
   "source": [
    "pipe=Pipeline(Input)\n",
    "pipe"
   ]
  },
  {
   "cell_type": "markdown",
   "metadata": {},
   "source": [
    "Kita bisa normalisasikan data, transformasi, dan latih model sekaligus."
   ]
  },
  {
   "cell_type": "code",
   "execution_count": 46,
   "metadata": {
    "colab": {
     "base_uri": "https://localhost:8080/"
    },
    "executionInfo": {
     "elapsed": 296,
     "status": "ok",
     "timestamp": 1623565754046,
     "user": {
      "displayName": "Vauwez Sam El Fareez",
      "photoUrl": "https://lh3.googleusercontent.com/a-/AOh14GiiszMbUnUPzlsIyPzYs7zFnTeAylxGPSGynOpI=s64",
      "userId": "03245812126824588324"
     },
     "user_tz": -480
    },
    "id": "r3YgdmpX48AR",
    "outputId": "8b3613d5-45b1-4b47-afef-072a9d2ec374"
   },
   "outputs": [
    {
     "data": {
      "text/plain": [
       "Pipeline(memory=None,\n",
       "         steps=[('scale',\n",
       "                 StandardScaler(copy=True, with_mean=True, with_std=True)),\n",
       "                ('polynomial',\n",
       "                 PolynomialFeatures(degree=2, include_bias=False,\n",
       "                                    interaction_only=False, order='C')),\n",
       "                ('model',\n",
       "                 LinearRegression(copy_X=True, fit_intercept=True, n_jobs=None,\n",
       "                                  normalize=False))],\n",
       "         verbose=False)"
      ]
     },
     "execution_count": 46,
     "metadata": {
      "tags": []
     },
     "output_type": "execute_result"
    }
   ],
   "source": [
    "pipe.fit(Z,y)"
   ]
  },
  {
   "cell_type": "markdown",
   "metadata": {},
   "source": [
    "Juga, kita bisa normalisasi, transformasi, dan membuat prediksi sekaligus."
   ]
  },
  {
   "cell_type": "code",
   "execution_count": 47,
   "metadata": {
    "colab": {
     "base_uri": "https://localhost:8080/"
    },
    "executionInfo": {
     "elapsed": 290,
     "status": "ok",
     "timestamp": 1623565763862,
     "user": {
      "displayName": "Vauwez Sam El Fareez",
      "photoUrl": "https://lh3.googleusercontent.com/a-/AOh14GiiszMbUnUPzlsIyPzYs7zFnTeAylxGPSGynOpI=s64",
      "userId": "03245812126824588324"
     },
     "user_tz": -480
    },
    "id": "znXoxJOG48AS",
    "outputId": "fc205e66-5d45-4ff6-921f-79afabbbd07a"
   },
   "outputs": [
    {
     "data": {
      "text/plain": [
       "array([13102.74784201, 13102.74784201, 18225.54572197, 10390.29636555])"
      ]
     },
     "execution_count": 47,
     "metadata": {
      "tags": []
     },
     "output_type": "execute_result"
    }
   ],
   "source": [
    "ypipe=pipe.predict(Z)\n",
    "ypipe[0:4]"
   ]
  },
  {
   "cell_type": "markdown",
   "metadata": {
    "id": "VgX5UBb748AS"
   },
   "source": [
    "<div class=\"alert alert-danger alertdanger\" style=\"margin-top: 20px\">\n",
    "<h1>Challenge #5:</h1>\n",
    "<b>Buat pipeline yang melakukan standarisasi data, kemudian melakukan prediksi menggunakan model linear regression dengan fitur Z dan target y</b>\n",
    "</div>"
   ]
  },
  {
   "cell_type": "code",
   "execution_count": 2,
   "metadata": {
    "executionInfo": {
     "elapsed": 297,
     "status": "ok",
     "timestamp": 1623565903196,
     "user": {
      "displayName": "Vauwez Sam El Fareez",
      "photoUrl": "https://lh3.googleusercontent.com/a-/AOh14GiiszMbUnUPzlsIyPzYs7zFnTeAylxGPSGynOpI=s64",
      "userId": "03245812126824588324"
     },
     "user_tz": -480
    },
    "id": "moASyUd648AS"
   },
   "outputs": [],
   "source": [
    "# tulis jawaban dibawah\n"
   ]
  },
  {
   "cell_type": "code",
   "execution_count": null,
   "metadata": {
    "colab": {
     "base_uri": "https://localhost:8080/"
    },
    "executionInfo": {
     "elapsed": 301,
     "status": "ok",
     "timestamp": 1623565924605,
     "user": {
      "displayName": "Vauwez Sam El Fareez",
      "photoUrl": "https://lh3.googleusercontent.com/a-/AOh14GiiszMbUnUPzlsIyPzYs7zFnTeAylxGPSGynOpI=s64",
      "userId": "03245812126824588324"
     },
     "user_tz": -480
    },
    "id": "Oar-rI7gEa-_",
    "outputId": "56f1aeeb-57d4-40be-9df8-88708174ca99"
   },
   "outputs": [],
   "source": []
  },
  {
   "cell_type": "code",
   "execution_count": null,
   "metadata": {
    "colab": {
     "base_uri": "https://localhost:8080/"
    },
    "executionInfo": {
     "elapsed": 306,
     "status": "ok",
     "timestamp": 1623565976135,
     "user": {
      "displayName": "Vauwez Sam El Fareez",
      "photoUrl": "https://lh3.googleusercontent.com/a-/AOh14GiiszMbUnUPzlsIyPzYs7zFnTeAylxGPSGynOpI=s64",
      "userId": "03245812126824588324"
     },
     "user_tz": -480
    },
    "id": "PcLi1iPNEk2k",
    "outputId": "768429e0-277a-4a9c-bb1b-b8230aa39281"
   },
   "outputs": [],
   "source": []
  },
  {
   "cell_type": "markdown",
   "metadata": {},
   "source": [
    "## Pengukuran Untuk Evaluasi dalam Sampel"
   ]
  },
  {
   "cell_type": "markdown",
   "metadata": {},
   "source": [
    "Ketika mengevaluasi model kita, kita tidak hanya mau lihat visualisasi hasilnya, tapi juga pengukuran kuantitatifnya yang menentukan seberapa akurat modelnya.\n",
    "\n",
    "Pengukuran yang paling sering digunakan dalam Statistika untuk mengukur akurasi model adalah:\n",
    "\n",
    "- $R^2$ / R-Squared\n",
    "- Mean Squared Error (MSE)\n",
    "\n",
    "__R-Squared__\n",
    "\n",
    "R squared, juga disebut dengan _coefficient of determination_, adalah ukuran untuk menunjukkan seberapa dekat data dengan garis regresi. Nilai dari R-Squared adalah persentase dari variasi dari target variabel (y), yaitu yang dapat dijelaskan dari model linear (atau juga yang dapat dijelaskan dari variabel prediktor).\n",
    "\n",
    "__Mean Squared Error (MSE)__\n",
    "\n",
    "MSE mengukur rata-rata dari error dipangkatkan, yaitu, selisih antara nilai aktual dan nilai estimasi (prediksi)"
   ]
  },
  {
   "cell_type": "markdown",
   "metadata": {},
   "source": [
    "### Model 1: Simple Linear Regression"
   ]
  },
  {
   "cell_type": "markdown",
   "metadata": {},
   "source": [
    "hitung R^2"
   ]
  },
  {
   "cell_type": "code",
   "execution_count": 51,
   "metadata": {
    "colab": {
     "base_uri": "https://localhost:8080/"
    },
    "executionInfo": {
     "elapsed": 318,
     "status": "ok",
     "timestamp": 1623566027802,
     "user": {
      "displayName": "Vauwez Sam El Fareez",
      "photoUrl": "https://lh3.googleusercontent.com/a-/AOh14GiiszMbUnUPzlsIyPzYs7zFnTeAylxGPSGynOpI=s64",
      "userId": "03245812126824588324"
     },
     "user_tz": -480
    },
    "id": "qm4CqdR048AV",
    "outputId": "f3754f7b-24ed-4791-d122-9ceea7173d48",
    "scrolled": true
   },
   "outputs": [
    {
     "name": "stdout",
     "output_type": "stream",
     "text": [
      "The R-square is:  0.4965911884339176\n"
     ]
    }
   ],
   "source": [
    "#highway_mpg_fit\n",
    "lm.fit(X, Y)\n",
    "# Find the R^2\n",
    "print('The R-square is: ', lm.score(X, Y))"
   ]
  },
  {
   "cell_type": "markdown",
   "metadata": {
    "id": "eiqHgbG-48AV"
   },
   "source": [
    "We can say that ~ 49.659% of the variation of the price is explained by this simple linear model \"horsepower_fit\"."
   ]
  },
  {
   "cell_type": "markdown",
   "metadata": {},
   "source": [
    "Kita bisa bilang bahwa ~49.659% variasi harga pada model linear ini dapat dijelaskan oleh `horsepower_fit`."
   ]
  },
  {
   "cell_type": "markdown",
   "metadata": {},
   "source": [
    "Coba hitung MSE"
   ]
  },
  {
   "cell_type": "markdown",
   "metadata": {},
   "source": [
    "Kita bisa menghasilkan prediksi, \"yhat\", menggunakan method predict, dimana X sebagai variable input:"
   ]
  },
  {
   "cell_type": "code",
   "execution_count": 52,
   "metadata": {
    "colab": {
     "base_uri": "https://localhost:8080/"
    },
    "executionInfo": {
     "elapsed": 304,
     "status": "ok",
     "timestamp": 1623566047558,
     "user": {
      "displayName": "Vauwez Sam El Fareez",
      "photoUrl": "https://lh3.googleusercontent.com/a-/AOh14GiiszMbUnUPzlsIyPzYs7zFnTeAylxGPSGynOpI=s64",
      "userId": "03245812126824588324"
     },
     "user_tz": -480
    },
    "id": "jV15Zb1y48AW",
    "outputId": "ce188415-8ec6-4fe5-dd4d-edbacfbeb72a"
   },
   "outputs": [
    {
     "name": "stdout",
     "output_type": "stream",
     "text": [
      "The output of the first four predicted value is:  [16236.50464347 16236.50464347 17058.23802179 13771.3045085 ]\n"
     ]
    }
   ],
   "source": [
    "Yhat=lm.predict(X)\n",
    "print('The output of the first four predicted value is: ', Yhat[0:4])"
   ]
  },
  {
   "cell_type": "markdown",
   "metadata": {},
   "source": [
    "Import fungsi `mean_squared_error` dari modul `metrics`"
   ]
  },
  {
   "cell_type": "code",
   "execution_count": 53,
   "metadata": {
    "collapsed": true,
    "executionInfo": {
     "elapsed": 312,
     "status": "ok",
     "timestamp": 1623566072894,
     "user": {
      "displayName": "Vauwez Sam El Fareez",
      "photoUrl": "https://lh3.googleusercontent.com/a-/AOh14GiiszMbUnUPzlsIyPzYs7zFnTeAylxGPSGynOpI=s64",
      "userId": "03245812126824588324"
     },
     "user_tz": -480
    },
    "id": "Xd0NYvJJ48AX"
   },
   "outputs": [],
   "source": [
    "from sklearn.metrics import mean_squared_error"
   ]
  },
  {
   "cell_type": "markdown",
   "metadata": {},
   "source": [
    "Bandingkan hasil yang diprediksi dengan nilai aktualnya"
   ]
  },
  {
   "cell_type": "code",
   "execution_count": 54,
   "metadata": {
    "colab": {
     "base_uri": "https://localhost:8080/"
    },
    "executionInfo": {
     "elapsed": 290,
     "status": "ok",
     "timestamp": 1623566084366,
     "user": {
      "displayName": "Vauwez Sam El Fareez",
      "photoUrl": "https://lh3.googleusercontent.com/a-/AOh14GiiszMbUnUPzlsIyPzYs7zFnTeAylxGPSGynOpI=s64",
      "userId": "03245812126824588324"
     },
     "user_tz": -480
    },
    "id": "sb8uHOcG48AX",
    "outputId": "b2badacb-8933-4519-e1cf-c10880f56b91"
   },
   "outputs": [
    {
     "name": "stdout",
     "output_type": "stream",
     "text": [
      "The mean square error of price and predicted value is:  31635042.944639888\n"
     ]
    }
   ],
   "source": [
    "mse = mean_squared_error(df['price'], Yhat)\n",
    "print('The mean square error of price and predicted value is: ', mse)"
   ]
  },
  {
   "cell_type": "markdown",
   "metadata": {},
   "source": [
    "### Model 2: Multiple Linear Regression"
   ]
  },
  {
   "cell_type": "markdown",
   "metadata": {},
   "source": [
    "Hitung R^2"
   ]
  },
  {
   "cell_type": "code",
   "execution_count": 55,
   "metadata": {
    "colab": {
     "base_uri": "https://localhost:8080/"
    },
    "executionInfo": {
     "elapsed": 308,
     "status": "ok",
     "timestamp": 1623566094088,
     "user": {
      "displayName": "Vauwez Sam El Fareez",
      "photoUrl": "https://lh3.googleusercontent.com/a-/AOh14GiiszMbUnUPzlsIyPzYs7zFnTeAylxGPSGynOpI=s64",
      "userId": "03245812126824588324"
     },
     "user_tz": -480
    },
    "id": "j-j18FcT48AY",
    "outputId": "2a1cb7d7-c75d-41d9-e971-7c591bbfb105"
   },
   "outputs": [
    {
     "name": "stdout",
     "output_type": "stream",
     "text": [
      "The R-square is:  0.8093562806577457\n"
     ]
    }
   ],
   "source": [
    "# fit the model \n",
    "lm.fit(Z, df['price'])\n",
    "# Find the R^2\n",
    "print('The R-square is: ', lm.score(Z, df['price']))"
   ]
  },
  {
   "cell_type": "markdown",
   "metadata": {},
   "source": [
    "Kita bisa bilang bahwa ~80.896% variasi harga dapat dijelaskan oleh model multiple linear regression"
   ]
  },
  {
   "cell_type": "markdown",
   "metadata": {},
   "source": [
    "Hitung MSE"
   ]
  },
  {
   "cell_type": "markdown",
   "metadata": {},
   "source": [
    "Buat prediksi"
   ]
  },
  {
   "cell_type": "code",
   "execution_count": 56,
   "metadata": {
    "executionInfo": {
     "elapsed": 302,
     "status": "ok",
     "timestamp": 1623566123778,
     "user": {
      "displayName": "Vauwez Sam El Fareez",
      "photoUrl": "https://lh3.googleusercontent.com/a-/AOh14GiiszMbUnUPzlsIyPzYs7zFnTeAylxGPSGynOpI=s64",
      "userId": "03245812126824588324"
     },
     "user_tz": -480
    },
    "id": "AJl41ZMT48AZ"
   },
   "outputs": [],
   "source": [
    "Y_predict_multifit = lm.predict(Z)"
   ]
  },
  {
   "cell_type": "markdown",
   "metadata": {},
   "source": [
    "Bandingkan hasil prediksi dengan nilai aktualnya"
   ]
  },
  {
   "cell_type": "code",
   "execution_count": 57,
   "metadata": {
    "colab": {
     "base_uri": "https://localhost:8080/"
    },
    "executionInfo": {
     "elapsed": 335,
     "status": "ok",
     "timestamp": 1623566129444,
     "user": {
      "displayName": "Vauwez Sam El Fareez",
      "photoUrl": "https://lh3.googleusercontent.com/a-/AOh14GiiszMbUnUPzlsIyPzYs7zFnTeAylxGPSGynOpI=s64",
      "userId": "03245812126824588324"
     },
     "user_tz": -480
    },
    "id": "FSsVD2aD48Aa",
    "outputId": "06e38f49-6b7a-4af6-9e9a-916d7cdf298f"
   },
   "outputs": [
    {
     "name": "stdout",
     "output_type": "stream",
     "text": [
      "The mean square error of price and predicted value using multifit is:  11980366.87072649\n"
     ]
    }
   ],
   "source": [
    "print('The mean square error of price and predicted value using multifit is: ', \\\n",
    "      mean_squared_error(df['price'], Y_predict_multifit))"
   ]
  },
  {
   "cell_type": "markdown",
   "metadata": {},
   "source": [
    "### Model 3: Polynomial Fit"
   ]
  },
  {
   "cell_type": "markdown",
   "metadata": {},
   "source": [
    "Hitung R^2"
   ]
  },
  {
   "cell_type": "markdown",
   "metadata": {},
   "source": [
    "Import fungsi `r2_score` dari modul `metrics` karena kita menggunakan fungsi yang berbeda"
   ]
  },
  {
   "cell_type": "code",
   "execution_count": 58,
   "metadata": {
    "collapsed": true,
    "executionInfo": {
     "elapsed": 298,
     "status": "ok",
     "timestamp": 1623566135066,
     "user": {
      "displayName": "Vauwez Sam El Fareez",
      "photoUrl": "https://lh3.googleusercontent.com/a-/AOh14GiiszMbUnUPzlsIyPzYs7zFnTeAylxGPSGynOpI=s64",
      "userId": "03245812126824588324"
     },
     "user_tz": -480
    },
    "id": "aJUk8H4G48Ab"
   },
   "outputs": [],
   "source": [
    "from sklearn.metrics import r2_score"
   ]
  },
  {
   "cell_type": "markdown",
   "metadata": {},
   "source": [
    "Kita panggil fungsinya untuk mendapatkan nilai $R^2$"
   ]
  },
  {
   "cell_type": "code",
   "execution_count": 59,
   "metadata": {
    "colab": {
     "base_uri": "https://localhost:8080/"
    },
    "executionInfo": {
     "elapsed": 288,
     "status": "ok",
     "timestamp": 1623566147180,
     "user": {
      "displayName": "Vauwez Sam El Fareez",
      "photoUrl": "https://lh3.googleusercontent.com/a-/AOh14GiiszMbUnUPzlsIyPzYs7zFnTeAylxGPSGynOpI=s64",
      "userId": "03245812126824588324"
     },
     "user_tz": -480
    },
    "id": "usjExmAp48Ac",
    "outputId": "cf8dcadc-d521-41a7-a0e2-1251a60c4820"
   },
   "outputs": [
    {
     "name": "stdout",
     "output_type": "stream",
     "text": [
      "The R-square value is:  0.6741946663906517\n"
     ]
    }
   ],
   "source": [
    "r_squared = r2_score(y, p(x))\n",
    "print('The R-square value is: ', r_squared)"
   ]
  },
  {
   "cell_type": "markdown",
   "metadata": {},
   "source": [
    "Bisa kita bilang bahwa ~ 67.419% variasi harga dapat dijelaskan oleh model polinomial ini"
   ]
  },
  {
   "cell_type": "markdown",
   "metadata": {},
   "source": [
    "#### MSE"
   ]
  },
  {
   "cell_type": "markdown",
   "metadata": {},
   "source": [
    "Kita bisa hitung MSE:"
   ]
  },
  {
   "cell_type": "code",
   "execution_count": 60,
   "metadata": {
    "colab": {
     "base_uri": "https://localhost:8080/"
    },
    "executionInfo": {
     "elapsed": 297,
     "status": "ok",
     "timestamp": 1623566173469,
     "user": {
      "displayName": "Vauwez Sam El Fareez",
      "photoUrl": "https://lh3.googleusercontent.com/a-/AOh14GiiszMbUnUPzlsIyPzYs7zFnTeAylxGPSGynOpI=s64",
      "userId": "03245812126824588324"
     },
     "user_tz": -480
    },
    "id": "Db5ijuwQ48Ad",
    "outputId": "e9b77095-1e38-4f5c-bfef-53a2a3cf006c"
   },
   "outputs": [
    {
     "data": {
      "text/plain": [
       "20474146.426361226"
      ]
     },
     "execution_count": 60,
     "metadata": {
      "tags": []
     },
     "output_type": "execute_result"
    }
   ],
   "source": [
    "mean_squared_error(df['price'], p(x))"
   ]
  },
  {
   "cell_type": "markdown",
   "metadata": {},
   "source": [
    "## Prediction dan Decision Making\n",
    "\n",
    "### Prediksi\n",
    "\n",
    "Pada bagian sebelumnya, kita melatih model dengan fungsi `fit`. Sekarang kita menggunakan method `predict` untuk membuat prediksi. Import `pyplot` untuk plotting; kita juga akan menggunakan beberapa fungsi `numpy`"
   ]
  },
  {
   "cell_type": "code",
   "execution_count": 61,
   "metadata": {
    "collapsed": true,
    "executionInfo": {
     "elapsed": 295,
     "status": "ok",
     "timestamp": 1623566193688,
     "user": {
      "displayName": "Vauwez Sam El Fareez",
      "photoUrl": "https://lh3.googleusercontent.com/a-/AOh14GiiszMbUnUPzlsIyPzYs7zFnTeAylxGPSGynOpI=s64",
      "userId": "03245812126824588324"
     },
     "user_tz": -480
    },
    "id": "pSayv_0U48Ad"
   },
   "outputs": [],
   "source": [
    "import matplotlib.pyplot as plt\n",
    "import numpy as np\n",
    "\n",
    "%matplotlib inline "
   ]
  },
  {
   "cell_type": "markdown",
   "metadata": {},
   "source": [
    "Buat input baru"
   ]
  },
  {
   "cell_type": "code",
   "execution_count": 62,
   "metadata": {
    "executionInfo": {
     "elapsed": 303,
     "status": "ok",
     "timestamp": 1623566204552,
     "user": {
      "displayName": "Vauwez Sam El Fareez",
      "photoUrl": "https://lh3.googleusercontent.com/a-/AOh14GiiszMbUnUPzlsIyPzYs7zFnTeAylxGPSGynOpI=s64",
      "userId": "03245812126824588324"
     },
     "user_tz": -480
    },
    "id": "fuDntykr48Ae"
   },
   "outputs": [],
   "source": [
    "new_input=np.arange(1, 100, 1).reshape(-1, 1)"
   ]
  },
  {
   "cell_type": "markdown",
   "metadata": {},
   "source": [
    "Latih modelnya"
   ]
  },
  {
   "cell_type": "code",
   "execution_count": 63,
   "metadata": {
    "colab": {
     "base_uri": "https://localhost:8080/"
    },
    "executionInfo": {
     "elapsed": 301,
     "status": "ok",
     "timestamp": 1623566209970,
     "user": {
      "displayName": "Vauwez Sam El Fareez",
      "photoUrl": "https://lh3.googleusercontent.com/a-/AOh14GiiszMbUnUPzlsIyPzYs7zFnTeAylxGPSGynOpI=s64",
      "userId": "03245812126824588324"
     },
     "user_tz": -480
    },
    "id": "uIHF-YYu48Af",
    "outputId": "1610d05b-7489-4776-a60c-61261ac6e9d2"
   },
   "outputs": [
    {
     "data": {
      "text/plain": [
       "LinearRegression(copy_X=True, fit_intercept=True, n_jobs=None, normalize=False)"
      ]
     },
     "execution_count": 63,
     "metadata": {
      "tags": []
     },
     "output_type": "execute_result"
    }
   ],
   "source": [
    "lm.fit(X, Y)\n",
    "lm"
   ]
  },
  {
   "cell_type": "markdown",
   "metadata": {},
   "source": [
    "Buat prediksi"
   ]
  },
  {
   "cell_type": "code",
   "execution_count": 64,
   "metadata": {
    "colab": {
     "base_uri": "https://localhost:8080/"
    },
    "executionInfo": {
     "elapsed": 301,
     "status": "ok",
     "timestamp": 1623566213148,
     "user": {
      "displayName": "Vauwez Sam El Fareez",
      "photoUrl": "https://lh3.googleusercontent.com/a-/AOh14GiiszMbUnUPzlsIyPzYs7zFnTeAylxGPSGynOpI=s64",
      "userId": "03245812126824588324"
     },
     "user_tz": -480
    },
    "id": "IHFAIBQ548Af",
    "outputId": "261ab186-2d27-4c5b-8702-87263b65b44a"
   },
   "outputs": [
    {
     "data": {
      "text/plain": [
       "array([37601.57247984, 36779.83910151, 35958.10572319, 35136.37234487,\n",
       "       34314.63896655])"
      ]
     },
     "execution_count": 64,
     "metadata": {
      "tags": []
     },
     "output_type": "execute_result"
    }
   ],
   "source": [
    "yhat=lm.predict(new_input)\n",
    "yhat[0:5]"
   ]
  },
  {
   "cell_type": "markdown",
   "metadata": {},
   "source": [
    "Plot data"
   ]
  },
  {
   "cell_type": "code",
   "execution_count": 65,
   "metadata": {
    "colab": {
     "base_uri": "https://localhost:8080/",
     "height": 264
    },
    "executionInfo": {
     "elapsed": 674,
     "status": "ok",
     "timestamp": 1623566219575,
     "user": {
      "displayName": "Vauwez Sam El Fareez",
      "photoUrl": "https://lh3.googleusercontent.com/a-/AOh14GiiszMbUnUPzlsIyPzYs7zFnTeAylxGPSGynOpI=s64",
      "userId": "03245812126824588324"
     },
     "user_tz": -480
    },
    "id": "iSJI561w48Ag",
    "outputId": "0a9617e0-493f-4280-e645-48b37ef04238"
   },
   "outputs": [
    {
     "data": {
      "image/png": "[encoded data removed]",
      "text/plain": [
       "<Figure size 432x288 with 1 Axes>"
      ]
     },
     "metadata": {
      "needs_background": "light",
      "tags": []
     },
     "output_type": "display_data"
    }
   ],
   "source": [
    "plt.plot(new_input, yhat)\n",
    "plt.show()"
   ]
  },
  {
   "cell_type": "markdown",
   "metadata": {},
   "source": [
    "### Decision Making: Menentukan Model yang Bagus"
   ]
  },
  {
   "cell_type": "markdown",
   "metadata": {},
   "source": [
    "Kita telah memvisualisasikan model-model yang berbeda beserta dengan nilai R-Squared dan MSE nya. Sekarang bagaimana cara menentukan model yang bagus?\n",
    "\n",
    "- Ketika membandingkan model, __model dengan R-Squared yang lebih tinggi, bagus__ untuk data nya.\n",
    "- Ketika membandingkan model, __model dengan MSE terkecil, bagus__ untuk data nya\n",
    "\n",
    "Coba kita lihat nilainya pada model-model yang berbeda.\n",
    "\n",
    "- Simple linear regression: Menggunakan `highway-mpg` sebagai variabel prediktor `price`\n",
    "    - R-Squared: 0.49659118843391759\n",
    "    - MSE: 3.16 x10^7\n",
    "- Multiple linear regression: Menggunakan `horsepower`, `curb-weight`, `engine-size`, dan `highway-mpg` sebagai variabel prediktor `price`.\n",
    "    - R-Squared: 0.80896354913783497\n",
    "    - MSE: 1.2 x10^7\n",
    "- Polynomial fit: Menggunakan `highway-mpg` sebagai variabel prediktor `price`\n",
    "    - R-Squared: 0.6741946663906514\n",
    "    - MSE: 2.05 x 10^7"
   ]
  },
  {
   "cell_type": "markdown",
   "metadata": {},
   "source": [
    "### Simple Linear Regression (SLR) vs Multiple Linear Regression (MLR)"
   ]
  },
  {
   "cell_type": "markdown",
   "metadata": {},
   "source": [
    "Biasanya semakin banyak variabel, semakin bagus model dapat memprediksi, tapi ini tidak selalu benar. Kadang kita tidak punya cukup data, kita mungkin ketemu dengan masalah numerik, atau banyak variabel yang tidak berguna atau bahkan menjdai noise. Maka kita sebaiknya selalu cek MSE dan R^2.\n",
    "\n",
    "Jadi supaya bisa membandingkan hasil dari model MLR vs SLR, kita dapat lihat kombinasi dari R-Squared dan MSE untuk membuat kesimpulan terbaik tentang model.\n",
    "\n",
    "- __MSE__: MSE dari SLR adalah 3.16x10^7 sementara MSE dari MLR adalah 1.2 x10^7. MSE dari MLR lebih kecil.\n",
    "- __R-Squared__: Dalam kasus ini, kita juga bisa lihat bahwa ada perbedaan besar antara R-Squared dari SLR dan R-Squared dari MLR. R-Squared dari SLR (~ 0.497) lebih kecil dibanding R-Squared dari MLR (~ 0.809).\n",
    "\n",
    "Nilai R-Squared dengan MSE menunjukkan bahwa MLR terlihat lebih baik, dibandingkan SLR."
   ]
  },
  {
   "cell_type": "markdown",
   "metadata": {},
   "source": [
    "### Simple Linear Regression (SLR) vs Polynomial Fit"
   ]
  },
  {
   "cell_type": "markdown",
   "metadata": {},
   "source": [
    "- __MSE__: Kita bisa lihat MSE polynomial fit lebih rendah daripada SLR\n",
    "- __R-Squared__: R-Squared untuk polyfit lebih besar dari milik SLR\n",
    "\n",
    "Karena polynomial fit menghasilkan MSE lebih kecil dan R-Squared lebih tinggi, kita bisa simpulkan bahwa model ini lebih bagus daripada simple linear regression."
   ]
  },
  {
   "cell_type": "markdown",
   "metadata": {},
   "source": [
    "### Multiple Linear Regression (MLR) vs Polynomial Fit"
   ]
  },
  {
   "cell_type": "markdown",
   "metadata": {},
   "source": [
    "- __MSE__: MSE untuk MLR lebih kecil daripada Polynomial fit\n",
    "- __R-Squared__: R-Squared untuk MLR juga lebih besar dari polynomial fit"
   ]
  },
  {
   "cell_type": "markdown",
   "metadata": {},
   "source": [
    "## Kesimpulan:"
   ]
  },
  {
   "cell_type": "markdown",
   "metadata": {},
   "source": [
    "Membandingkan 3 model tadi, kita simpulkan bahwa __model MLR adalah model terbaik__ untuk memprediksi harga (`price`) dari dataset kita. Hasilnya makes sense, karena kita punya total 27 variabel, dan kita tau bahwa ada potensial beberapa variabel prediktor untuk harga akhir mobil."
   ]
  },
  {
   "cell_type": "markdown",
   "metadata": {
    "id": "vVmLk_9I48Aj"
   },
   "source": [
    "<h1>Thank you for completing this notebook</h1>"
   ]
  },
  {
   "cell_type": "markdown",
   "metadata": {
    "id": "hcgjkn4q48Ak"
   },
   "source": [
    "<div class=\"alert alert-block alert-info\" style=\"margin-top: 20px\">\n",
    "\n",
    "    <p><a href=\"https://cocl.us/skills_network_DA0101EN_bottom\"><img src=\"https://s3-api.us-geo.objectstorage.softlayer.net/cf-courses-data/CognitiveClass/DA0101EN/Images/BottomAd.png\" width=\"750\" align=\"center\"></a></p>\n",
    "</div>\n"
   ]
  },
  {
   "cell_type": "markdown",
   "metadata": {
    "id": "-V3VC-P148Ak"
   },
   "source": [
    "<h3>About the Authors:</h3>\n",
    "\n",
    "This notebook was written by <a href=\"https://www.linkedin.com/in/mahdi-noorian-58219234/\" target=\"_blank\">Mahdi Noorian PhD</a>, <a href=\"https://www.linkedin.com/in/joseph-s-50398b136/\" target=\"_blank\">Joseph Santarcangelo</a>, Bahare Talayian, Eric Xiao, Steven Dong, Parizad, Hima Vsudevan and <a href=\"https://www.linkedin.com/in/fiorellawever/\" target=\"_blank\">Fiorella Wenver</a> and <a href=\" https://www.linkedin.com/in/yi-leng-yao-84451275/ \" target=\"_blank\" >Yi Yao</a>.\n",
    "\n",
    "<p><a href=\"https://www.linkedin.com/in/joseph-s-50398b136/\" target=\"_blank\">Joseph Santarcangelo</a> is a Data Scientist at IBM, and holds a PhD in Electrical Engineering. His research focused on using Machine Learning, Signal Processing, and Computer Vision to determine how videos impact human cognition. Joseph has been working for IBM since he completed his PhD.</p>"
   ]
  },
  {
   "cell_type": "markdown",
   "metadata": {
    "id": "IjVw0HyV48Ak"
   },
   "source": [
    "<hr>\n",
    "<p>Copyright &copy; 2018 IBM Developer Skills Network. This notebook and its source code are released under the terms of the <a href=\"https://cognitiveclass.ai/mit-license/\">MIT License</a>.</p>"
   ]
  }
 ],
 "metadata": {
  "colab": {
   "name": "Model-Development.ipynb",
   "provenance": []
  },
  "kernelspec": {
   "display_name": "Python 3 (ipykernel)",
   "language": "python",
   "name": "python3"
  },
  "language_info": {
   "codemirror_mode": {
    "name": "ipython",
    "version": 3
   },
   "file_extension": ".py",
   "mimetype": "text/x-python",
   "name": "python",
   "nbconvert_exporter": "python",
   "pygments_lexer": "ipython3",
   "version": "3.9.7"
  }
 },
 "nbformat": 4,
 "nbformat_minor": 1
}
